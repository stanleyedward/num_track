{
 "cells": [
  {
   "cell_type": "code",
   "execution_count": 3,
   "metadata": {},
   "outputs": [],
   "source": [
    "try:\n",
    "    import torch\n",
    "    from torch import nn\n",
    "    from torch.utils.data import DataLoader\n",
    "\n",
    "    import torchvision\n",
    "    from torchvision import transforms\n",
    "    from torchvision import datasets\n",
    "\n",
    "    import torchmetrics\n",
    "\n",
    "    import matplotlib.pyplot as plt\n",
    "except:\n",
    "    !pip install torch\n",
    "    !pip install torchvision\n",
    "    !pip install matplotlib\n",
    "    !pip install torchmetrics\n",
    "    \n",
    "    import torch\n",
    "    from torch import nn\n",
    "    from torch.utils.data import DataLoader\n",
    "\n",
    "    import torchvision\n",
    "    from torchvision import transforms\n",
    "    from torchvision import datasets\n",
    "\n",
    "    import matplotlib.pyplot as plt"
   ]
  },
  {
   "cell_type": "code",
   "execution_count": 8,
   "metadata": {},
   "outputs": [],
   "source": [
    "#making code dvice agnostic\n",
    "device = 'cuda' if torch.cuda.is_available() else 'cpu'"
   ]
  },
  {
   "cell_type": "code",
   "execution_count": 3,
   "metadata": {},
   "outputs": [
    {
     "name": "stdout",
     "output_type": "stream",
     "text": [
      "2.0.1\n"
     ]
    }
   ],
   "source": [
    "print(torch.__version__)"
   ]
  },
  {
   "cell_type": "code",
   "execution_count": 4,
   "metadata": {},
   "outputs": [
    {
     "data": {
      "text/plain": [
       "(PosixPath('datasets/training_set'), PosixPath('datasets/test_set'))"
      ]
     },
     "execution_count": 4,
     "metadata": {},
     "output_type": "execute_result"
    }
   ],
   "source": [
    "from pathlib import Path\n",
    "TRAINING_SET_PATH = Path('datasets/training_set')\n",
    "TEST_SET_PATH = Path('datasets/test_set')\n",
    "\n",
    "TRAINING_SET_PATH, TEST_SET_PATH"
   ]
  },
  {
   "cell_type": "code",
   "execution_count": 5,
   "metadata": {},
   "outputs": [],
   "source": [
    "#importing the datasets from torchvision.datasets\n",
    "train_data = datasets.MNIST(\n",
    "    root=TRAINING_SET_PATH,\n",
    "    download=True,\n",
    "    train=True,\n",
    "    transform=transforms.ToTensor(),\n",
    "    target_transform=None\n",
    ")\n",
    "\n",
    "test_data = datasets.MNIST(\n",
    "    root=TEST_SET_PATH,\n",
    "    train=False, #testset\n",
    "    download=True,\n",
    "    transform=transforms.ToTensor(),\n",
    "    target_transform=None\n",
    ")"
   ]
  },
  {
   "cell_type": "code",
   "execution_count": 6,
   "metadata": {},
   "outputs": [
    {
     "data": {
      "text/plain": [
       "Dataset MNIST\n",
       "    Number of datapoints: 60000\n",
       "    Root location: datasets/training_set\n",
       "    Split: Train\n",
       "    StandardTransform\n",
       "Transform: ToTensor()"
      ]
     },
     "execution_count": 6,
     "metadata": {},
     "output_type": "execute_result"
    }
   ],
   "source": [
    "train_data"
   ]
  },
  {
   "cell_type": "code",
   "execution_count": 7,
   "metadata": {},
   "outputs": [
    {
     "data": {
      "text/plain": [
       "2"
      ]
     },
     "execution_count": 7,
     "metadata": {},
     "output_type": "execute_result"
    }
   ],
   "source": [
    "len(train_data[0])"
   ]
  },
  {
   "cell_type": "code",
   "execution_count": 8,
   "metadata": {},
   "outputs": [
    {
     "data": {
      "text/plain": [
       "5"
      ]
     },
     "execution_count": 8,
     "metadata": {},
     "output_type": "execute_result"
    }
   ],
   "source": [
    "train_data[0][1]"
   ]
  },
  {
   "cell_type": "code",
   "execution_count": 9,
   "metadata": {},
   "outputs": [],
   "source": [
    "image, label = train_data[0]"
   ]
  },
  {
   "cell_type": "code",
   "execution_count": 10,
   "metadata": {},
   "outputs": [
    {
     "data": {
      "text/plain": [
       "5"
      ]
     },
     "execution_count": 10,
     "metadata": {},
     "output_type": "execute_result"
    }
   ],
   "source": [
    "label"
   ]
  },
  {
   "cell_type": "code",
   "execution_count": 11,
   "metadata": {},
   "outputs": [
    {
     "data": {
      "text/plain": [
       "torch.Size([1, 28, 28])"
      ]
     },
     "execution_count": 11,
     "metadata": {},
     "output_type": "execute_result"
    }
   ],
   "source": [
    "#to get the dimension of an image\n",
    "image.shape"
   ]
  },
  {
   "cell_type": "markdown",
   "metadata": {},
   "source": [
    "Image is black and white"
   ]
  },
  {
   "cell_type": "code",
   "execution_count": 12,
   "metadata": {},
   "outputs": [
    {
     "data": {
      "text/plain": [
       "['0 - zero',\n",
       " '1 - one',\n",
       " '2 - two',\n",
       " '3 - three',\n",
       " '4 - four',\n",
       " '5 - five',\n",
       " '6 - six',\n",
       " '7 - seven',\n",
       " '8 - eight',\n",
       " '9 - nine']"
      ]
     },
     "execution_count": 12,
     "metadata": {},
     "output_type": "execute_result"
    }
   ],
   "source": [
    "train_data.classes"
   ]
  },
  {
   "cell_type": "code",
   "execution_count": 13,
   "metadata": {},
   "outputs": [
    {
     "data": {
      "text/plain": [
       "60000"
      ]
     },
     "execution_count": 13,
     "metadata": {},
     "output_type": "execute_result"
    }
   ],
   "source": [
    "len(train_data.targets)"
   ]
  },
  {
   "cell_type": "code",
   "execution_count": 14,
   "metadata": {},
   "outputs": [
    {
     "data": {
      "text/plain": [
       "10000"
      ]
     },
     "execution_count": 14,
     "metadata": {},
     "output_type": "execute_result"
    }
   ],
   "source": [
    "len(test_data.targets)"
   ]
  },
  {
   "cell_type": "code",
   "execution_count": 15,
   "metadata": {},
   "outputs": [
    {
     "data": {
      "text/plain": [
       "'5 - five'"
      ]
     },
     "execution_count": 15,
     "metadata": {},
     "output_type": "execute_result"
    }
   ],
   "source": [
    "class_names = train_data.classes\n",
    "class_names[1]\n",
    "class_names[label]"
   ]
  },
  {
   "cell_type": "code",
   "execution_count": 16,
   "metadata": {},
   "outputs": [
    {
     "data": {
      "text/plain": [
       "torch.Size([1, 28, 28])"
      ]
     },
     "execution_count": 16,
     "metadata": {},
     "output_type": "execute_result"
    }
   ],
   "source": [
    "image.shape"
   ]
  },
  {
   "cell_type": "code",
   "execution_count": 17,
   "metadata": {},
   "outputs": [
    {
     "data": {
      "text/plain": [
       "torch.Size([28, 28])"
      ]
     },
     "execution_count": 17,
     "metadata": {},
     "output_type": "execute_result"
    }
   ],
   "source": [
    "image.squeeze().shape"
   ]
  },
  {
   "cell_type": "markdown",
   "metadata": {},
   "source": [
    "#### were working with `60000` train data samples and `10000` test data samples"
   ]
  },
  {
   "cell_type": "markdown",
   "metadata": {},
   "source": [
    ">## visualizing"
   ]
  },
  {
   "cell_type": "code",
   "execution_count": 18,
   "metadata": {},
   "outputs": [
    {
     "data": {
      "image/png": "[encoded data removed]",
      "text/plain": [
       "<Figure size 1000x1000 with 9 Axes>"
      ]
     },
     "metadata": {},
     "output_type": "display_data"
    }
   ],
   "source": [
    "#visualizing\n",
    "sample_grid = plt.figure(figsize=(10,10))\n",
    "rows, cols = 3, 3\n",
    "for i in range (1,rows*cols+1):\n",
    "    random_no = torch.randint(0,len(train_data), size=[1]).item()\n",
    "    image, label = train_data[random_no]\n",
    "    sample_grid.add_subplot(rows, cols, i)\n",
    "    plt.axis(False)\n",
    "    plt.title(class_names[label], c='b')\n",
    "    plt.imshow(image.squeeze()) #we need to squeeze as matplotlib only takes in 2d\n",
    "    "
   ]
  },
  {
   "cell_type": "code",
   "execution_count": 19,
   "metadata": {},
   "outputs": [
    {
     "data": {
      "text/plain": [
       "0.8019406199455261"
      ]
     },
     "execution_count": 19,
     "metadata": {},
     "output_type": "execute_result"
    }
   ],
   "source": [
    "rand = torch.rand(size=(1,))\n",
    "rand.item()"
   ]
  },
  {
   "cell_type": "code",
   "execution_count": 20,
   "metadata": {},
   "outputs": [
    {
     "data": {
      "text/plain": [
       "7057"
      ]
     },
     "execution_count": 20,
     "metadata": {},
     "output_type": "execute_result"
    }
   ],
   "source": [
    "rand1 = torch.randint(0, len(train_data),size=[1])\n",
    "rand1.item()"
   ]
  },
  {
   "cell_type": "markdown",
   "metadata": {},
   "source": [
    ">## loading data"
   ]
  },
  {
   "cell_type": "code",
   "execution_count": 21,
   "metadata": {},
   "outputs": [
    {
     "data": {
      "text/plain": [
       "(1875, 313)"
      ]
     },
     "execution_count": 21,
     "metadata": {},
     "output_type": "execute_result"
    }
   ],
   "source": [
    "BATCH_SIZE = 32 #const\n",
    "\n",
    "train_dataloader = DataLoader(\n",
    "    dataset=train_data,\n",
    "    batch_size=BATCH_SIZE,\n",
    "    shuffle=True\n",
    ")\n",
    "\n",
    "test_dataloader = DataLoader(\n",
    "    dataset=test_data,\n",
    "    batch_size=BATCH_SIZE \n",
    ")\n",
    "\n",
    "len(train_dataloader), len(test_dataloader)\n"
   ]
  },
  {
   "cell_type": "code",
   "execution_count": 22,
   "metadata": {},
   "outputs": [
    {
     "data": {
      "text/plain": [
       "60000"
      ]
     },
     "execution_count": 22,
     "metadata": {},
     "output_type": "execute_result"
    }
   ],
   "source": [
    "32*1875"
   ]
  },
  {
   "cell_type": "code",
   "execution_count": 23,
   "metadata": {},
   "outputs": [
    {
     "data": {
      "text/plain": [
       "60000"
      ]
     },
     "execution_count": 23,
     "metadata": {},
     "output_type": "execute_result"
    }
   ],
   "source": [
    "len(train_data)"
   ]
  },
  {
   "cell_type": "code",
   "execution_count": 24,
   "metadata": {},
   "outputs": [
    {
     "data": {
      "text/plain": [
       "(torch.Size([32, 1, 28, 28]), torch.Size([32]))"
      ]
     },
     "execution_count": 24,
     "metadata": {},
     "output_type": "execute_result"
    }
   ],
   "source": [
    "X_train_batch, y_train_batch = next(iter(train_dataloader))\n",
    "X_train_batch.shape, y_train_batch.shape"
   ]
  },
  {
   "cell_type": "code",
   "execution_count": 25,
   "metadata": {},
   "outputs": [
    {
     "data": {
      "text/plain": [
       "torch.Size([1, 28, 28])"
      ]
     },
     "execution_count": 25,
     "metadata": {},
     "output_type": "execute_result"
    }
   ],
   "source": [
    "X_train_batch[0].shape"
   ]
  },
  {
   "cell_type": "code",
   "execution_count": 26,
   "metadata": {},
   "outputs": [
    {
     "data": {
      "text/plain": [
       "32"
      ]
     },
     "execution_count": 26,
     "metadata": {},
     "output_type": "execute_result"
    }
   ],
   "source": [
    "len(X_train_batch)"
   ]
  },
  {
   "cell_type": "code",
   "execution_count": 27,
   "metadata": {},
   "outputs": [
    {
     "data": {
      "text/plain": [
       "<matplotlib.image.AxesImage at 0x7fc716219b50>"
      ]
     },
     "execution_count": 27,
     "metadata": {},
     "output_type": "execute_result"
    },
    {
     "data": {
      "image/png": "[encoded data removed]",
      "text/plain": [
       "<Figure size 640x480 with 1 Axes>"
      ]
     },
     "metadata": {},
     "output_type": "display_data"
    }
   ],
   "source": [
    "#random train image visual\n",
    "random_no2 = torch.randint(0, len(X_train_batch), size=[1]).item()\n",
    "plt.imshow(X_train_batch[random_no2].squeeze())"
   ]
  },
  {
   "cell_type": "markdown",
   "metadata": {},
   "source": [
    ">## Model ARch"
   ]
  },
  {
   "cell_type": "code",
   "execution_count": 4,
   "metadata": {},
   "outputs": [],
   "source": [
    "class MNISTModelV1(nn.Module):\n",
    "    \"\"\"\n",
    "    TinyVGG model Arch.\n",
    "    mddel from CNN explainers website https://poloclub.github.io/cnn-explainer/\n",
    "    \"\"\"\n",
    "\n",
    "    def __init__(self, \n",
    "                 input_shape: int,\n",
    "                 hidden_units: int,\n",
    "                 output_shape: int):\n",
    "        super().__init__()\n",
    "        self.conv_block_1 = nn.Sequential(\n",
    "            #create a conv layer\n",
    "            nn.Conv2d(in_channels=input_shape,\n",
    "                      out_channels=hidden_units,\n",
    "                      kernel_size=3,\n",
    "                      stride=1,\n",
    "                      padding=1), #values wew can set ourselfs are called hyperparameters called nn conv2d\n",
    "            nn.ReLU(),\n",
    "            nn.Conv2d(in_channels=hidden_units,\n",
    "                      out_channels=hidden_units,\n",
    "                      kernel_size=3,\n",
    "                      stride=1,\n",
    "                      padding=1),    \n",
    "            nn.ReLU(),\n",
    "            nn.MaxPool2d(kernel_size=2)          \n",
    "        )\n",
    "\n",
    "        self.conv_block_2 = nn.Sequential(\n",
    "            nn.Conv2d(in_channels=hidden_units,\n",
    "                      out_channels=hidden_units,\n",
    "                      kernel_size=3,\n",
    "                      stride=1,\n",
    "                      padding=1),\n",
    "            nn.ReLU(),\n",
    "            nn.Conv2d(in_channels=hidden_units,\n",
    "                     out_channels=hidden_units,\n",
    "                     kernel_size=3,\n",
    "                     stride=1,\n",
    "                     padding=1),\n",
    "                     \n",
    "            nn.ReLU(),\n",
    "            nn.MaxPool2d(kernel_size=2)   \n",
    "        )\n",
    "\n",
    "        self.classifier = nn.Sequential(\n",
    "            nn.Flatten(),\n",
    "            nn.Linear(in_features=hidden_units*7*7,#there is a trick to calculate this!\n",
    "                      out_features=output_shape),\n",
    "            \n",
    "        )\n",
    "    def forward(self, x: torch.Tensor) -> torch.Tensor:\n",
    "        x = self.conv_block_1(x)\n",
    "        x = self.conv_block_2(x)\n",
    "        # print(\"output shape fp conv layer 2\",x.shape) #use this to get dim of in features in classification layer\n",
    "        x = self.classifier(x)\n",
    "        return x\n"
   ]
  },
  {
   "cell_type": "code",
   "execution_count": 29,
   "metadata": {},
   "outputs": [
    {
     "data": {
      "text/plain": [
       "tensor([[ 0.1000, -0.0087,  0.0148,  0.0083, -0.0696,  0.0455,  0.0088,  0.1189,\n",
       "          0.0735, -0.0712]], device='cuda:0', grad_fn=<AddmmBackward0>)"
      ]
     },
     "execution_count": 29,
     "metadata": {},
     "output_type": "execute_result"
    }
   ],
   "source": [
    "#pass rand_tensor of similar dims into model to get dim after nn.flatten()\n",
    "rand_image_tensor = torch.randn(size=(1,28,28))\n",
    "model_1 = MNISTModelV1(input_shape=1,\n",
    "                              hidden_units=10,\n",
    "                              output_shape=len(class_names)).to(device)\n",
    "model_1(rand_image_tensor.unsqueeze(dim=0).to(device=device))"
   ]
  },
  {
   "cell_type": "code",
   "execution_count": 30,
   "metadata": {},
   "outputs": [],
   "source": [
    "def train_step(model: torch.nn.Module,\n",
    "               data_loader: torch.utils.data.DataLoader,\n",
    "               loss_fn: torch.nn.Module,\n",
    "               optimizer: torch.optim.Optimizer,\n",
    "               accuracy_fn,\n",
    "               device: torch.device = device):\n",
    "    train_loss, train_acc = 0, 0\n",
    "    model.to(device)\n",
    "    for batch, (X, y) in enumerate(data_loader):\n",
    "        X, y = X.to(device), y.to(device)\n",
    "        y_pred = model(X)\n",
    "        loss = loss_fn(y_pred, y)\n",
    "        train_loss += loss\n",
    "        train_acc += accuracy_fn(\n",
    "                y_pred.argmax(dim=1),# Go from logits -> pred labels wihout softmax\n",
    "                y \n",
    "            ).item()*100\n",
    "        optimizer.zero_grad()\n",
    "        loss.backward()\n",
    "        optimizer.step()\n",
    "\n",
    "    # Calculate loss and accuracy per epoch and print out what's happening\n",
    "    train_loss /= len(data_loader)\n",
    "    train_acc /= len(data_loader)\n",
    "    print(f\"Train loss: {train_loss:.5f} | Train accuracy: {train_acc:.2f}%\")\n",
    "\n",
    "    return train_loss, train_acc\n",
    "\n"
   ]
  },
  {
   "cell_type": "code",
   "execution_count": 31,
   "metadata": {},
   "outputs": [],
   "source": [
    "def test_step(data_loader: torch.utils.data.DataLoader,\n",
    "              model: torch.nn.Module,\n",
    "              loss_fn: torch.nn.Module,\n",
    "              accuracy_fn,\n",
    "              device: torch.device = device):\n",
    "    test_loss, test_acc = 0, 0\n",
    "    model.to(device)\n",
    "    model.eval()\n",
    "    with torch.inference_mode(): \n",
    "        for X, y in data_loader:\n",
    "            X, y = X.to(device), y.to(device)\n",
    "            test_pred = model(X)\n",
    "            test_loss += loss_fn(test_pred, y)\n",
    "            test_acc += accuracy_fn(\n",
    "                test_pred.argmax(dim=1),# Go from logits -> pred labels wihout softmax\n",
    "                y \n",
    "            ).item()*100\n",
    "        \n",
    "        # Adjust metrics and print out\n",
    "        test_loss /= len(data_loader)\n",
    "        test_acc /= len(data_loader)\n",
    "        print(f\"Test loss: {test_loss:.5f} | Test accuracy: {test_acc:.2f}%\\n\")\n",
    "        \n",
    "    return test_loss, test_acc"
   ]
  },
  {
   "cell_type": "code",
   "execution_count": 32,
   "metadata": {},
   "outputs": [
    {
     "data": {
      "text/plain": [
       "OrderedDict([('conv_block_1.0.weight',\n",
       "              tensor([[[[ 0.0329,  0.3307,  0.1474],\n",
       "                        [ 0.0810, -0.0283,  0.0318],\n",
       "                        [ 0.1265, -0.0386, -0.0033]]],\n",
       "              \n",
       "              \n",
       "                      [[[ 0.2757,  0.1170,  0.0408],\n",
       "                        [ 0.1582, -0.1690,  0.1356],\n",
       "                        [ 0.2972,  0.1798, -0.3307]]],\n",
       "              \n",
       "              \n",
       "                      [[[-0.3272, -0.3145,  0.2604],\n",
       "                        [-0.2808, -0.0365, -0.1373],\n",
       "                        [-0.1433,  0.1457,  0.2039]]],\n",
       "              \n",
       "              \n",
       "                      [[[-0.0477,  0.0824,  0.1282],\n",
       "                        [-0.0340,  0.2426, -0.2734],\n",
       "                        [-0.1797,  0.2517, -0.0936]]],\n",
       "              \n",
       "              \n",
       "                      [[[-0.0480, -0.2562,  0.0518],\n",
       "                        [ 0.1218, -0.0182,  0.0764],\n",
       "                        [ 0.2046, -0.2768,  0.0088]]],\n",
       "              \n",
       "              \n",
       "                      [[[-0.0592,  0.1680,  0.0736],\n",
       "                        [-0.2145,  0.2954,  0.0595],\n",
       "                        [ 0.2341,  0.2871, -0.0347]]],\n",
       "              \n",
       "              \n",
       "                      [[[-0.2249, -0.1251, -0.2858],\n",
       "                        [-0.1047, -0.0972,  0.2742],\n",
       "                        [ 0.2838,  0.3190, -0.1486]]],\n",
       "              \n",
       "              \n",
       "                      [[[-0.2509,  0.1970,  0.3032],\n",
       "                        [ 0.3017, -0.0213, -0.2737],\n",
       "                        [-0.0722,  0.3222,  0.1159]]],\n",
       "              \n",
       "              \n",
       "                      [[[ 0.3084, -0.1655, -0.2329],\n",
       "                        [ 0.0401,  0.3186, -0.0731],\n",
       "                        [-0.1799,  0.3224,  0.0488]]],\n",
       "              \n",
       "              \n",
       "                      [[[ 0.1416,  0.0105,  0.0889],\n",
       "                        [-0.0164,  0.2821, -0.1650],\n",
       "                        [ 0.1900, -0.0848,  0.2273]]]], device='cuda:0')),\n",
       "             ('conv_block_1.0.bias',\n",
       "              tensor([-0.0753,  0.0975,  0.3112, -0.0897, -0.0145,  0.0896,  0.1106, -0.0472,\n",
       "                      -0.0663, -0.1009], device='cuda:0')),\n",
       "             ('conv_block_1.2.weight',\n",
       "              tensor([[[[-0.0670,  0.0824,  0.0388],\n",
       "                        [-0.0484,  0.0975,  0.0408],\n",
       "                        [ 0.0788,  0.0898, -0.0817]],\n",
       "              \n",
       "                       [[-0.0345, -0.0942,  0.0806],\n",
       "                        [ 0.0325, -0.0639, -0.0300],\n",
       "                        [ 0.0771, -0.0112, -0.0801]],\n",
       "              \n",
       "                       [[-0.0441, -0.0339, -0.0886],\n",
       "                        [-0.0815, -0.0714,  0.0125],\n",
       "                        [ 0.0265,  0.0625, -0.0432]],\n",
       "              \n",
       "                       [[ 0.0093,  0.0346, -0.0244],\n",
       "                        [-0.0066,  0.0002,  0.0581],\n",
       "                        [-0.0913, -0.0203, -0.0771]],\n",
       "              \n",
       "                       [[ 0.0408, -0.0860,  0.0977],\n",
       "                        [ 0.0573,  0.0423, -0.0175],\n",
       "                        [-0.0677, -0.0022,  0.0661]],\n",
       "              \n",
       "                       [[-0.0163, -0.0617,  0.0815],\n",
       "                        [-0.0051,  0.0364,  0.0774],\n",
       "                        [-0.0550,  0.0012, -0.0342]],\n",
       "              \n",
       "                       [[-0.0103,  0.0553, -0.0520],\n",
       "                        [ 0.0590, -0.0602,  0.0346],\n",
       "                        [-0.0451,  0.0342, -0.0216]],\n",
       "              \n",
       "                       [[-0.0707,  0.0188,  0.0648],\n",
       "                        [-0.0509, -0.0481,  0.0413],\n",
       "                        [ 0.0029,  0.0925, -0.0802]],\n",
       "              \n",
       "                       [[ 0.0404, -0.0957,  0.0359],\n",
       "                        [ 0.0920, -0.0796, -0.0942],\n",
       "                        [ 0.0156, -0.0505,  0.0660]],\n",
       "              \n",
       "                       [[-0.0894,  0.0705,  0.0331],\n",
       "                        [-0.0274,  0.0991, -0.0215],\n",
       "                        [ 0.0784, -0.0550, -0.0668]]],\n",
       "              \n",
       "              \n",
       "                      [[[ 0.0009, -0.0765, -0.0450],\n",
       "                        [ 0.0377,  0.0278,  0.0202],\n",
       "                        [-0.0091,  0.0564,  0.0954]],\n",
       "              \n",
       "                       [[-0.0787,  0.0225,  0.0454],\n",
       "                        [-0.0089, -0.0003, -0.0648],\n",
       "                        [ 0.0968,  0.1003, -0.0857]],\n",
       "              \n",
       "                       [[-0.0280, -0.0411, -0.0860],\n",
       "                        [ 0.0537,  0.0306,  0.0362],\n",
       "                        [ 0.0012, -0.0661,  0.1045]],\n",
       "              \n",
       "                       [[ 0.0744,  0.0250, -0.0170],\n",
       "                        [ 0.0281, -0.0332, -0.0269],\n",
       "                        [ 0.0811, -0.0990, -0.0548]],\n",
       "              \n",
       "                       [[ 0.0243,  0.0193,  0.0006],\n",
       "                        [ 0.0807, -0.0194,  0.0515],\n",
       "                        [-0.0761, -0.0451, -0.0846]],\n",
       "              \n",
       "                       [[-0.0047,  0.0662,  0.0094],\n",
       "                        [-0.0568, -0.0784,  0.0974],\n",
       "                        [ 0.0283,  0.1044,  0.0496]],\n",
       "              \n",
       "                       [[-0.0802,  0.0148,  0.0829],\n",
       "                        [-0.1053, -0.0503, -0.0568],\n",
       "                        [ 0.0594,  0.0138,  0.0872]],\n",
       "              \n",
       "                       [[-0.0989,  0.0408,  0.0055],\n",
       "                        [-0.0447, -0.0834,  0.0813],\n",
       "                        [ 0.0556, -0.0050, -0.0672]],\n",
       "              \n",
       "                       [[ 0.0751,  0.0579, -0.0416],\n",
       "                        [ 0.0600,  0.0415,  0.0363],\n",
       "                        [-0.0520,  0.0648, -0.0188]],\n",
       "              \n",
       "                       [[-0.0981,  0.0404, -0.0158],\n",
       "                        [ 0.0462, -0.0394,  0.0432],\n",
       "                        [ 0.0842,  0.0480, -0.0204]]],\n",
       "              \n",
       "              \n",
       "                      [[[ 0.0056,  0.0632,  0.0851],\n",
       "                        [ 0.0412,  0.0313, -0.0111],\n",
       "                        [ 0.0011, -0.0212, -0.0907]],\n",
       "              \n",
       "                       [[-0.0184,  0.0355, -0.0336],\n",
       "                        [ 0.0373, -0.0802,  0.0567],\n",
       "                        [ 0.0907,  0.0123,  0.0883]],\n",
       "              \n",
       "                       [[ 0.0324,  0.0697,  0.0707],\n",
       "                        [ 0.0949,  0.0710, -0.0166],\n",
       "                        [ 0.0246,  0.1023, -0.0203]],\n",
       "              \n",
       "                       [[ 0.0588, -0.0387, -0.0705],\n",
       "                        [ 0.0816, -0.0717, -0.0933],\n",
       "                        [-0.0888, -0.0133,  0.0759]],\n",
       "              \n",
       "                       [[ 0.0202,  0.0183,  0.0802],\n",
       "                        [ 0.1025,  0.0217,  0.0625],\n",
       "                        [-0.0138, -0.0645,  0.0761]],\n",
       "              \n",
       "                       [[-0.0183, -0.0714,  0.0637],\n",
       "                        [ 0.0029, -0.1022, -0.0316],\n",
       "                        [ 0.0615, -0.0307,  0.0429]],\n",
       "              \n",
       "                       [[-0.0553, -0.0582,  0.1016],\n",
       "                        [-0.0448,  0.0849,  0.0603],\n",
       "                        [-0.0011,  0.0302,  0.0268]],\n",
       "              \n",
       "                       [[ 0.0331,  0.0463, -0.0853],\n",
       "                        [-0.0361, -0.1021, -0.0999],\n",
       "                        [-0.0544, -0.0436,  0.0779]],\n",
       "              \n",
       "                       [[-0.0776,  0.0077, -0.0956],\n",
       "                        [ 0.0410,  0.0452, -0.0790],\n",
       "                        [ 0.0758,  0.0309,  0.0060]],\n",
       "              \n",
       "                       [[ 0.0091, -0.0522, -0.0177],\n",
       "                        [-0.0081,  0.0692, -0.0574],\n",
       "                        [ 0.0447, -0.0855, -0.1001]]],\n",
       "              \n",
       "              \n",
       "                      [[[-0.0841,  0.0237,  0.0672],\n",
       "                        [-0.0261, -0.0264,  0.0807],\n",
       "                        [ 0.0236,  0.0108,  0.0197]],\n",
       "              \n",
       "                       [[ 0.0773,  0.0724, -0.1013],\n",
       "                        [-0.0008,  0.0732,  0.0495],\n",
       "                        [-0.0254, -0.0572,  0.0210]],\n",
       "              \n",
       "                       [[ 0.0429, -0.0142, -0.0575],\n",
       "                        [-0.0371,  0.0515,  0.0939],\n",
       "                        [ 0.0382, -0.0493, -0.0363]],\n",
       "              \n",
       "                       [[ 0.0534, -0.0510, -0.0446],\n",
       "                        [-0.0087, -0.0061, -0.0763],\n",
       "                        [-0.0733, -0.0341, -0.0862]],\n",
       "              \n",
       "                       [[ 0.0452,  0.0689,  0.0906],\n",
       "                        [-0.0660, -0.0641, -0.0687],\n",
       "                        [ 0.0066, -0.0026,  0.0649]],\n",
       "              \n",
       "                       [[-0.0597, -0.1010, -0.0436],\n",
       "                        [ 0.0032,  0.0377, -0.0408],\n",
       "                        [-0.0806, -0.0757,  0.0739]],\n",
       "              \n",
       "                       [[-0.0235,  0.0722,  0.0244],\n",
       "                        [-0.0242,  0.0973, -0.0400],\n",
       "                        [ 0.0516,  0.0078,  0.0092]],\n",
       "              \n",
       "                       [[ 0.0934, -0.0240,  0.0556],\n",
       "                        [-0.0753,  0.0100,  0.0985],\n",
       "                        [-0.0674, -0.0203, -0.0093]],\n",
       "              \n",
       "                       [[-0.0181, -0.0601, -0.0419],\n",
       "                        [-0.0982, -0.0814,  0.0603],\n",
       "                        [-0.1016,  0.0645,  0.0754]],\n",
       "              \n",
       "                       [[-0.0614, -0.0651,  0.0867],\n",
       "                        [-0.0749,  0.0958, -0.0858],\n",
       "                        [ 0.0815, -0.0331, -0.0738]]],\n",
       "              \n",
       "              \n",
       "                      [[[ 0.0010,  0.0786,  0.0992],\n",
       "                        [ 0.0250,  0.0717, -0.0134],\n",
       "                        [-0.0091, -0.0617, -0.0788]],\n",
       "              \n",
       "                       [[-0.0680, -0.0712, -0.0790],\n",
       "                        [-0.0720, -0.0780,  0.0017],\n",
       "                        [-0.0868, -0.0708, -0.0760]],\n",
       "              \n",
       "                       [[-0.0520,  0.0193, -0.1040],\n",
       "                        [-0.0353,  0.0564,  0.0770],\n",
       "                        [ 0.0213,  0.0890,  0.0084]],\n",
       "              \n",
       "                       [[ 0.0265, -0.0524, -0.0235],\n",
       "                        [ 0.0763, -0.0145,  0.0178],\n",
       "                        [ 0.0702,  0.0558, -0.0292]],\n",
       "              \n",
       "                       [[-0.0543,  0.0251,  0.0773],\n",
       "                        [-0.0617, -0.0345, -0.0114],\n",
       "                        [-0.0923,  0.0964,  0.0402]],\n",
       "              \n",
       "                       [[-0.0951,  0.0567, -0.0180],\n",
       "                        [ 0.0897,  0.0040, -0.0466],\n",
       "                        [-0.0177,  0.0554,  0.0692]],\n",
       "              \n",
       "                       [[-0.0223, -0.0860, -0.0811],\n",
       "                        [ 0.0733,  0.0518,  0.1018],\n",
       "                        [ 0.0165, -0.0623,  0.0453]],\n",
       "              \n",
       "                       [[ 0.0405,  0.0053,  0.0916],\n",
       "                        [-0.0769, -0.1042,  0.1034],\n",
       "                        [ 0.0584, -0.0750, -0.0653]],\n",
       "              \n",
       "                       [[-0.0698,  0.0780,  0.0351],\n",
       "                        [ 0.0316, -0.0005, -0.1011],\n",
       "                        [ 0.0920, -0.0029,  0.0171]],\n",
       "              \n",
       "                       [[-0.0861, -0.0989, -0.0737],\n",
       "                        [-0.0711, -0.0851, -0.0397],\n",
       "                        [ 0.0357, -0.0710,  0.0188]]],\n",
       "              \n",
       "              \n",
       "                      [[[-0.0477, -0.0913, -0.0524],\n",
       "                        [-0.0530,  0.0308,  0.0781],\n",
       "                        [-0.0477, -0.0486, -0.0435]],\n",
       "              \n",
       "                       [[-0.0580,  0.0524,  0.0865],\n",
       "                        [ 0.0695, -0.0012, -0.0977],\n",
       "                        [ 0.0427,  0.0445, -0.0695]],\n",
       "              \n",
       "                       [[-0.0429,  0.0096,  0.0106],\n",
       "                        [-0.0755,  0.0879, -0.0549],\n",
       "                        [ 0.0312, -0.0160,  0.0168]],\n",
       "              \n",
       "                       [[-0.0808, -0.0035, -0.0778],\n",
       "                        [-0.0795,  0.0827,  0.0235],\n",
       "                        [-0.0789,  0.0646, -0.0574]],\n",
       "              \n",
       "                       [[ 0.0191, -0.0349,  0.0309],\n",
       "                        [ 0.0767, -0.0917, -0.0533],\n",
       "                        [ 0.0559, -0.0307, -0.0806]],\n",
       "              \n",
       "                       [[ 0.0014,  0.0455, -0.0238],\n",
       "                        [ 0.0681, -0.0896, -0.0614],\n",
       "                        [ 0.0149,  0.0860, -0.0517]],\n",
       "              \n",
       "                       [[ 0.0933, -0.0792,  0.0069],\n",
       "                        [-0.0461,  0.0094, -0.0039],\n",
       "                        [-0.0746,  0.0241, -0.0122]],\n",
       "              \n",
       "                       [[-0.0946,  0.0062,  0.1015],\n",
       "                        [ 0.0712,  0.0960, -0.0860],\n",
       "                        [ 0.0327,  0.0046, -0.0897]],\n",
       "              \n",
       "                       [[-0.0725,  0.0879,  0.0188],\n",
       "                        [ 0.0298,  0.0798,  0.0459],\n",
       "                        [-0.1017, -0.0058,  0.0974]],\n",
       "              \n",
       "                       [[-0.0025, -0.0546,  0.0846],\n",
       "                        [ 0.0515, -0.0662, -0.0536],\n",
       "                        [ 0.0712, -0.0319, -0.0446]]],\n",
       "              \n",
       "              \n",
       "                      [[[ 0.0495, -0.0667,  0.0407],\n",
       "                        [-0.0923, -0.0848, -0.0701],\n",
       "                        [ 0.0938,  0.0370, -0.0377]],\n",
       "              \n",
       "                       [[ 0.0526,  0.0034,  0.0567],\n",
       "                        [-0.1006, -0.0762, -0.0089],\n",
       "                        [ 0.0812, -0.0034,  0.0959]],\n",
       "              \n",
       "                       [[-0.0228, -0.0845, -0.0353],\n",
       "                        [ 0.0110, -0.0180, -0.0242],\n",
       "                        [-0.0327, -0.0673,  0.0290]],\n",
       "              \n",
       "                       [[ 0.0368, -0.0483, -0.0746],\n",
       "                        [-0.0465, -0.0845,  0.0768],\n",
       "                        [ 0.0086, -0.0008,  0.0744]],\n",
       "              \n",
       "                       [[-0.0562,  0.0828,  0.0127],\n",
       "                        [-0.0658, -0.0462,  0.0239],\n",
       "                        [ 0.0037,  0.1031, -0.0684]],\n",
       "              \n",
       "                       [[-0.0175,  0.0756, -0.0278],\n",
       "                        [ 0.0402, -0.0445, -0.0224],\n",
       "                        [-0.0047,  0.1050, -0.0811]],\n",
       "              \n",
       "                       [[ 0.1047, -0.1022,  0.0827],\n",
       "                        [ 0.0208,  0.1024,  0.0087],\n",
       "                        [ 0.0043,  0.0727, -0.0178]],\n",
       "              \n",
       "                       [[ 0.0310, -0.0489,  0.0591],\n",
       "                        [ 0.0457, -0.0268, -0.0103],\n",
       "                        [-0.0115,  0.0788, -0.0844]],\n",
       "              \n",
       "                       [[ 0.0136,  0.0878,  0.0626],\n",
       "                        [ 0.0446,  0.0711, -0.0657],\n",
       "                        [ 0.0188, -0.0531,  0.0327]],\n",
       "              \n",
       "                       [[-0.0940, -0.0591,  0.0968],\n",
       "                        [ 0.0782,  0.0253, -0.0830],\n",
       "                        [-0.0119,  0.0158,  0.0017]]],\n",
       "              \n",
       "              \n",
       "                      [[[ 0.0790,  0.0372,  0.0491],\n",
       "                        [-0.0031, -0.0361,  0.0607],\n",
       "                        [-0.0770,  0.0749,  0.0586]],\n",
       "              \n",
       "                       [[ 0.0247, -0.0053, -0.0604],\n",
       "                        [ 0.0751, -0.0080,  0.0070],\n",
       "                        [-0.0134, -0.0100,  0.0520]],\n",
       "              \n",
       "                       [[-0.0918, -0.0877,  0.0816],\n",
       "                        [ 0.0570,  0.0911,  0.0973],\n",
       "                        [-0.0176, -0.0346, -0.0657]],\n",
       "              \n",
       "                       [[ 0.1040, -0.0260, -0.0075],\n",
       "                        [-0.0354, -0.0101,  0.0602],\n",
       "                        [-0.0706, -0.0085,  0.0467]],\n",
       "              \n",
       "                       [[-0.0601,  0.0094,  0.0524],\n",
       "                        [ 0.0977, -0.0456, -0.0247],\n",
       "                        [-0.0201,  0.0421,  0.0163]],\n",
       "              \n",
       "                       [[-0.0888,  0.0393, -0.0120],\n",
       "                        [ 0.0986,  0.0190, -0.0897],\n",
       "                        [ 0.0173, -0.0526, -0.0444]],\n",
       "              \n",
       "                       [[ 0.0064,  0.0570,  0.0997],\n",
       "                        [ 0.0430,  0.0655, -0.0014],\n",
       "                        [ 0.0043, -0.0687,  0.0488]],\n",
       "              \n",
       "                       [[-0.0235,  0.0506, -0.0124],\n",
       "                        [-0.0389, -0.0921,  0.0539],\n",
       "                        [ 0.1033, -0.0963, -0.0144]],\n",
       "              \n",
       "                       [[ 0.0717, -0.0804,  0.0361],\n",
       "                        [-0.0086,  0.1029, -0.0869],\n",
       "                        [-0.0657,  0.0694, -0.0845]],\n",
       "              \n",
       "                       [[-0.1003,  0.0641,  0.0689],\n",
       "                        [ 0.0604, -0.0686,  0.0124],\n",
       "                        [ 0.0181,  0.0993, -0.0094]]],\n",
       "              \n",
       "              \n",
       "                      [[[-0.0258,  0.1047,  0.0380],\n",
       "                        [-0.0053, -0.0760, -0.0202],\n",
       "                        [-0.1050,  0.0217, -0.0535]],\n",
       "              \n",
       "                       [[ 0.0948,  0.0503,  0.0038],\n",
       "                        [ 0.0759,  0.0102, -0.0105],\n",
       "                        [ 0.0791, -0.0171, -0.0849]],\n",
       "              \n",
       "                       [[ 0.0713,  0.0532, -0.0127],\n",
       "                        [ 0.1045, -0.0376,  0.0366],\n",
       "                        [-0.0265, -0.0034, -0.0396]],\n",
       "              \n",
       "                       [[-0.1054,  0.0857, -0.0176],\n",
       "                        [ 0.0908, -0.0409,  0.0617],\n",
       "                        [ 0.0563,  0.0548,  0.0261]],\n",
       "              \n",
       "                       [[ 0.0457, -0.0588, -0.0331],\n",
       "                        [-0.0609, -0.0041,  0.0095],\n",
       "                        [ 0.0581, -0.0359, -0.0470]],\n",
       "              \n",
       "                       [[-0.0023,  0.0096, -0.0492],\n",
       "                        [ 0.0140, -0.0660, -0.0288],\n",
       "                        [ 0.0129,  0.0330,  0.0525]],\n",
       "              \n",
       "                       [[ 0.0283,  0.0465, -0.0482],\n",
       "                        [-0.0566, -0.0127, -0.0009],\n",
       "                        [-0.0296,  0.0442, -0.0604]],\n",
       "              \n",
       "                       [[-0.0697, -0.0292,  0.0980],\n",
       "                        [ 0.0973, -0.0585,  0.0881],\n",
       "                        [-0.0295,  0.0237,  0.0356]],\n",
       "              \n",
       "                       [[ 0.0220, -0.0391, -0.0427],\n",
       "                        [-0.0462, -0.0668,  0.0681],\n",
       "                        [ 0.0095,  0.0928, -0.0029]],\n",
       "              \n",
       "                       [[-0.0141,  0.0638,  0.0696],\n",
       "                        [-0.0031,  0.0055,  0.0036],\n",
       "                        [ 0.0501, -0.0098,  0.0671]]],\n",
       "              \n",
       "              \n",
       "                      [[[ 0.0830,  0.0788,  0.0280],\n",
       "                        [ 0.0348,  0.0905, -0.0768],\n",
       "                        [ 0.0037, -0.0543,  0.0523]],\n",
       "              \n",
       "                       [[-0.0905, -0.0922, -0.0228],\n",
       "                        [-0.0103, -0.0378,  0.0521],\n",
       "                        [ 0.0728, -0.0852, -0.0182]],\n",
       "              \n",
       "                       [[-0.1001, -0.0534,  0.0746],\n",
       "                        [ 0.0220,  0.0511,  0.0775],\n",
       "                        [ 0.0982,  0.0086, -0.0635]],\n",
       "              \n",
       "                       [[ 0.0205, -0.0161, -0.0179],\n",
       "                        [ 0.0347,  0.0927,  0.0326],\n",
       "                        [-0.0386, -0.0553, -0.0567]],\n",
       "              \n",
       "                       [[ 0.0295, -0.0638, -0.0379],\n",
       "                        [-0.0228, -0.1017, -0.1020],\n",
       "                        [ 0.0953, -0.0639, -0.0783]],\n",
       "              \n",
       "                       [[ 0.0849, -0.0036,  0.0436],\n",
       "                        [-0.0712,  0.0006,  0.0485],\n",
       "                        [ 0.0460, -0.0648, -0.0808]],\n",
       "              \n",
       "                       [[-0.0191, -0.0819,  0.0452],\n",
       "                        [-0.0213,  0.0307,  0.0856],\n",
       "                        [ 0.0941, -0.0325, -0.0842]],\n",
       "              \n",
       "                       [[-0.0373,  0.0791,  0.0360],\n",
       "                        [-0.0142,  0.0915,  0.0837],\n",
       "                        [-0.0793, -0.0178,  0.0763]],\n",
       "              \n",
       "                       [[ 0.0742, -0.0260, -0.0170],\n",
       "                        [ 0.0680, -0.0961, -0.0736],\n",
       "                        [-0.0520,  0.0513,  0.0602]],\n",
       "              \n",
       "                       [[-0.0505, -0.0317,  0.0233],\n",
       "                        [-0.1052,  0.0737,  0.0649],\n",
       "                        [ 0.0084,  0.0688,  0.0260]]]], device='cuda:0')),\n",
       "             ('conv_block_1.2.bias',\n",
       "              tensor([-0.0462,  0.0160,  0.0486, -0.0470,  0.0726,  0.0817, -0.0104,  0.0879,\n",
       "                      -0.0399, -0.0602], device='cuda:0')),\n",
       "             ('conv_block_2.0.weight',\n",
       "              tensor([[[[-5.3675e-02, -1.0318e-01, -9.8760e-02],\n",
       "                        [-7.8771e-02, -4.5009e-03,  1.4484e-02],\n",
       "                        [-5.8849e-02, -8.9323e-02,  3.1409e-02]],\n",
       "              \n",
       "                       [[-8.3455e-02,  5.0154e-03, -2.5199e-02],\n",
       "                        [ 7.7971e-02,  7.1617e-02,  9.0994e-02],\n",
       "                        [ 1.0188e-01, -4.2456e-02,  6.4276e-02]],\n",
       "              \n",
       "                       [[-8.7585e-03, -5.1174e-02,  7.3055e-02],\n",
       "                        [-9.3703e-02, -6.0766e-02,  9.5590e-02],\n",
       "                        [-5.7642e-02, -9.9450e-02, -5.3042e-02]],\n",
       "              \n",
       "                       [[-4.3027e-02, -1.9516e-02, -4.1622e-02],\n",
       "                        [ 7.6126e-02, -3.0300e-02,  7.6898e-02],\n",
       "                        [-7.4697e-02,  4.2933e-02, -2.6301e-02]],\n",
       "              \n",
       "                       [[-2.3295e-03, -7.6593e-03,  6.0631e-02],\n",
       "                        [-2.7284e-02, -9.1645e-02, -7.6311e-02],\n",
       "                        [ 1.1303e-02,  9.3636e-02, -5.8570e-02]],\n",
       "              \n",
       "                       [[ 7.9760e-03, -5.2653e-02,  3.2702e-02],\n",
       "                        [-8.6552e-02, -8.7831e-02,  4.6082e-02],\n",
       "                        [-4.9739e-02, -5.1828e-02,  6.6485e-02]],\n",
       "              \n",
       "                       [[-4.0583e-03, -4.8169e-02, -1.0334e-01],\n",
       "                        [-5.9307e-02, -2.4699e-03, -9.5869e-02],\n",
       "                        [-8.0945e-02, -5.9734e-02,  8.8794e-02]],\n",
       "              \n",
       "                       [[-5.6704e-02,  3.1754e-03,  2.1123e-02],\n",
       "                        [-4.4936e-02,  6.7633e-02,  8.0621e-02],\n",
       "                        [-2.0565e-02, -1.7909e-02, -2.0876e-02]],\n",
       "              \n",
       "                       [[-9.7629e-02, -7.0779e-02,  1.0771e-02],\n",
       "                        [-1.3387e-02,  9.8388e-02,  4.0592e-02],\n",
       "                        [-2.5020e-02,  6.8365e-02,  9.4269e-02]],\n",
       "              \n",
       "                       [[ 1.0406e-01, -5.6011e-02,  3.4159e-02],\n",
       "                        [ 3.2490e-02,  1.2350e-02, -1.7962e-02],\n",
       "                        [-7.9495e-02,  7.3702e-02,  5.7785e-02]]],\n",
       "              \n",
       "              \n",
       "                      [[[ 9.5891e-02,  9.0395e-02,  9.3354e-02],\n",
       "                        [ 5.3486e-02, -7.3789e-02, -1.0178e-01],\n",
       "                        [ 3.7590e-02, -1.8434e-02,  8.4049e-02]],\n",
       "              \n",
       "                       [[ 1.4050e-02, -1.6770e-02,  5.9303e-02],\n",
       "                        [ 2.6759e-02, -8.3145e-02, -1.8694e-02],\n",
       "                        [-4.6298e-02, -7.2153e-02,  7.5548e-03]],\n",
       "              \n",
       "                       [[-7.4203e-02, -8.6734e-02,  2.2239e-03],\n",
       "                        [-1.0005e-01,  8.0359e-02,  6.0268e-02],\n",
       "                        [-5.7128e-02, -1.0024e-01,  3.3647e-03]],\n",
       "              \n",
       "                       [[ 1.5279e-02, -6.4999e-02,  5.0538e-02],\n",
       "                        [ 4.5937e-02, -9.7289e-02,  4.4830e-02],\n",
       "                        [-6.5938e-02,  6.4062e-03,  8.8181e-02]],\n",
       "              \n",
       "                       [[ 4.2543e-02,  9.0961e-02,  1.0247e-01],\n",
       "                        [-4.7852e-02,  7.3497e-02,  2.2569e-02],\n",
       "                        [-9.6942e-02,  9.0918e-02, -6.1599e-02]],\n",
       "              \n",
       "                       [[ 6.1621e-02, -1.6845e-03, -1.0356e-01],\n",
       "                        [ 5.5262e-03,  5.3215e-02, -4.9996e-03],\n",
       "                        [ 1.9340e-02, -7.1505e-03,  4.5278e-02]],\n",
       "              \n",
       "                       [[ 2.1179e-02, -9.3797e-02,  3.3135e-02],\n",
       "                        [ 3.2072e-02,  6.6594e-02, -6.3673e-02],\n",
       "                        [ 6.2943e-02, -6.2156e-02, -3.5773e-02]],\n",
       "              \n",
       "                       [[-5.7902e-03, -3.1355e-03, -7.7782e-02],\n",
       "                        [ 8.9436e-02, -4.7621e-02,  4.4863e-02],\n",
       "                        [-6.2146e-02,  2.0484e-02, -1.4992e-02]],\n",
       "              \n",
       "                       [[ 3.2734e-02, -5.6732e-02, -3.0109e-02],\n",
       "                        [ 6.7901e-02, -3.8530e-02,  1.2197e-02],\n",
       "                        [ 7.8784e-04,  4.7289e-02,  9.4501e-02]],\n",
       "              \n",
       "                       [[ 1.6728e-02,  7.3682e-02, -5.0684e-03],\n",
       "                        [-4.7457e-02, -1.4088e-02, -8.3677e-02],\n",
       "                        [ 9.0843e-02,  6.5641e-02, -1.0860e-02]]],\n",
       "              \n",
       "              \n",
       "                      [[[-9.0789e-03, -4.0130e-03, -7.2044e-02],\n",
       "                        [-8.4743e-02,  5.1420e-02, -8.5021e-02],\n",
       "                        [ 3.9337e-02,  1.4607e-02, -7.9147e-02]],\n",
       "              \n",
       "                       [[ 2.5587e-02,  8.5598e-02, -4.4374e-02],\n",
       "                        [-1.6738e-02,  1.4399e-02,  2.1992e-02],\n",
       "                        [-2.5991e-02, -4.3082e-02, -2.2473e-02]],\n",
       "              \n",
       "                       [[ 4.4476e-02,  5.3617e-02,  7.2787e-02],\n",
       "                        [ 8.0279e-03,  1.0498e-01, -1.1115e-02],\n",
       "                        [-8.0245e-02, -4.2840e-02, -3.3179e-02]],\n",
       "              \n",
       "                       [[ 1.8645e-02,  2.8884e-02,  5.6225e-02],\n",
       "                        [ 6.1545e-02,  9.1798e-02, -3.4295e-02],\n",
       "                        [-1.0373e-02,  8.7049e-02,  3.2636e-02]],\n",
       "              \n",
       "                       [[-2.1030e-02, -3.1373e-02,  3.4710e-02],\n",
       "                        [-2.7672e-02,  5.8297e-03, -3.6963e-03],\n",
       "                        [-1.9150e-03,  4.3263e-03, -8.0949e-02]],\n",
       "              \n",
       "                       [[ 3.7572e-02, -3.8682e-02, -9.9203e-02],\n",
       "                        [-1.7927e-02, -8.4253e-02,  3.7583e-02],\n",
       "                        [ 4.9433e-02, -8.1295e-02, -7.8170e-02]],\n",
       "              \n",
       "                       [[-6.4609e-02,  1.0435e-01, -9.6012e-02],\n",
       "                        [-7.1210e-02,  8.4563e-02, -1.2649e-02],\n",
       "                        [-1.0447e-01,  2.6670e-02, -4.5243e-02]],\n",
       "              \n",
       "                       [[ 3.7372e-02, -4.3315e-02, -1.0444e-02],\n",
       "                        [-1.9762e-02, -1.9559e-02,  6.2859e-02],\n",
       "                        [-8.4502e-02,  4.7990e-02,  7.6653e-02]],\n",
       "              \n",
       "                       [[ 2.1273e-02, -1.0136e-01,  3.6701e-02],\n",
       "                        [ 8.3190e-03,  4.5986e-02, -1.1483e-02],\n",
       "                        [ 9.7387e-03, -1.0070e-01, -5.9494e-02]],\n",
       "              \n",
       "                       [[ 3.0674e-02, -2.0029e-02,  8.9573e-04],\n",
       "                        [ 1.7087e-02, -4.6287e-02,  1.0369e-01],\n",
       "                        [-6.0612e-02, -3.6078e-02, -9.7435e-02]]],\n",
       "              \n",
       "              \n",
       "                      [[[ 9.2061e-02,  1.5727e-02,  2.4872e-03],\n",
       "                        [-4.2160e-02,  6.8976e-02, -7.9903e-02],\n",
       "                        [-5.8170e-02,  4.1945e-02,  7.6029e-02]],\n",
       "              \n",
       "                       [[ 3.3221e-02, -9.0213e-02,  9.6199e-02],\n",
       "                        [-6.3703e-02,  4.4982e-02, -1.0163e-01],\n",
       "                        [ 9.1122e-02,  3.9595e-02, -7.0081e-02]],\n",
       "              \n",
       "                       [[ 1.0169e-03,  6.3231e-02,  6.5163e-02],\n",
       "                        [-2.7506e-02, -3.6576e-02,  8.1431e-02],\n",
       "                        [ 7.3889e-02, -1.0673e-02, -8.9527e-03]],\n",
       "              \n",
       "                       [[-9.4352e-03, -3.3371e-04,  6.0845e-02],\n",
       "                        [-7.3261e-02,  1.0958e-02,  2.7666e-02],\n",
       "                        [-7.0126e-02, -7.1450e-02,  2.6425e-02]],\n",
       "              \n",
       "                       [[ 8.4856e-02,  5.1095e-02,  5.1256e-02],\n",
       "                        [ 8.4165e-02,  5.8241e-02, -6.9953e-02],\n",
       "                        [-6.2068e-02,  8.4694e-02, -9.2353e-02]],\n",
       "              \n",
       "                       [[-3.4248e-02, -7.1446e-02, -9.3494e-02],\n",
       "                        [ 1.6446e-03, -7.2818e-02,  8.0359e-02],\n",
       "                        [ 6.6455e-02, -3.2192e-02, -1.0319e-01]],\n",
       "              \n",
       "                       [[-8.7050e-02, -5.6063e-03,  7.3451e-02],\n",
       "                        [-3.7409e-02, -1.0424e-01,  5.1765e-02],\n",
       "                        [-1.0126e-01,  7.7450e-02,  3.3281e-02]],\n",
       "              \n",
       "                       [[ 6.3944e-02, -1.0076e-01,  3.7000e-02],\n",
       "                        [ 2.8878e-02, -6.2826e-02, -8.2973e-02],\n",
       "                        [-7.1297e-02,  6.4043e-02, -6.3297e-02]],\n",
       "              \n",
       "                       [[ 6.9491e-02,  7.5261e-02,  1.0057e-01],\n",
       "                        [-7.4178e-02,  3.3934e-02, -5.8270e-02],\n",
       "                        [-8.2336e-02, -5.1858e-02, -3.2189e-02]],\n",
       "              \n",
       "                       [[ 2.4265e-02,  1.0288e-01, -1.1859e-02],\n",
       "                        [-8.1227e-02,  3.4433e-02,  1.1672e-02],\n",
       "                        [-5.2145e-02,  1.6456e-02,  7.6857e-02]]],\n",
       "              \n",
       "              \n",
       "                      [[[ 9.6219e-02, -1.4924e-02, -7.1598e-02],\n",
       "                        [-9.4212e-02, -9.0328e-02, -7.5231e-02],\n",
       "                        [-1.9896e-02, -2.6821e-02,  3.1185e-03]],\n",
       "              \n",
       "                       [[-9.3056e-02,  3.2401e-02, -4.7879e-02],\n",
       "                        [ 8.0335e-02,  1.0002e-01, -9.0034e-02],\n",
       "                        [ 1.2969e-02,  1.0128e-01, -1.7464e-02]],\n",
       "              \n",
       "                       [[ 9.2558e-02, -4.0207e-02, -5.7595e-02],\n",
       "                        [-6.9342e-02,  5.0165e-02, -5.5227e-02],\n",
       "                        [-7.7414e-03, -8.4352e-02, -7.0203e-03]],\n",
       "              \n",
       "                       [[-5.2036e-03, -4.2787e-02, -9.8397e-02],\n",
       "                        [-4.5463e-03, -8.2083e-02, -3.4939e-02],\n",
       "                        [-1.0421e-01,  6.2828e-02, -3.1487e-02]],\n",
       "              \n",
       "                       [[-9.8568e-02,  7.9951e-02,  2.9911e-02],\n",
       "                        [ 3.0755e-02, -7.8057e-02, -5.8719e-02],\n",
       "                        [ 2.7553e-02, -7.2975e-02,  9.4444e-02]],\n",
       "              \n",
       "                       [[ 1.0410e-01, -5.7039e-02,  7.4962e-02],\n",
       "                        [ 9.9772e-02, -9.1518e-02,  4.4057e-02],\n",
       "                        [-3.1981e-02, -6.8515e-02,  1.7443e-02]],\n",
       "              \n",
       "                       [[ 1.0308e-02, -1.7705e-02, -8.2611e-03],\n",
       "                        [-6.4872e-02,  1.0438e-02, -5.8784e-02],\n",
       "                        [-4.2106e-02,  3.9963e-02,  6.4462e-02]],\n",
       "              \n",
       "                       [[-5.2291e-03,  2.4669e-02, -1.0688e-02],\n",
       "                        [ 5.9201e-02,  1.0265e-01, -5.5013e-03],\n",
       "                        [ 3.6193e-02,  1.0477e-01,  8.3020e-02]],\n",
       "              \n",
       "                       [[ 7.2127e-02, -5.9062e-02,  9.6411e-02],\n",
       "                        [-3.8384e-02, -9.9954e-03, -4.7344e-02],\n",
       "                        [-8.0833e-02,  4.3090e-02,  3.7872e-02]],\n",
       "              \n",
       "                       [[-1.5477e-03, -4.6554e-02,  7.0587e-02],\n",
       "                        [-6.9741e-02, -5.9570e-02, -6.0019e-02],\n",
       "                        [-1.9028e-02,  1.0229e-01, -2.0966e-02]]],\n",
       "              \n",
       "              \n",
       "                      [[[ 3.4460e-02, -2.0856e-02,  6.9825e-02],\n",
       "                        [-4.3614e-02, -3.8033e-02, -9.1032e-02],\n",
       "                        [ 2.3982e-02,  1.9899e-02, -9.0051e-03]],\n",
       "              \n",
       "                       [[-6.2959e-02, -5.3320e-03,  8.6653e-02],\n",
       "                        [-6.9724e-02,  7.0557e-02,  1.8324e-02],\n",
       "                        [-2.6322e-02,  1.3223e-02,  8.0857e-02]],\n",
       "              \n",
       "                       [[ 8.2555e-02, -6.2519e-02,  4.9952e-03],\n",
       "                        [-3.6318e-02, -5.2495e-02, -9.6328e-02],\n",
       "                        [ 5.2813e-02, -7.6706e-02, -9.4602e-02]],\n",
       "              \n",
       "                       [[-1.0168e-01, -2.8579e-02,  7.7867e-02],\n",
       "                        [ 2.2923e-02, -1.8789e-02, -8.6521e-03],\n",
       "                        [-1.0315e-01,  1.3040e-02,  5.4308e-02]],\n",
       "              \n",
       "                       [[ 9.9074e-02,  8.0466e-02, -4.7955e-02],\n",
       "                        [-2.6167e-02, -8.7490e-02,  6.2612e-02],\n",
       "                        [ 7.3805e-02,  5.5851e-02, -2.9573e-02]],\n",
       "              \n",
       "                       [[-3.8490e-04, -8.0746e-02, -7.9617e-02],\n",
       "                        [ 6.4630e-03,  7.2037e-02, -7.5058e-02],\n",
       "                        [-6.5333e-02,  8.3628e-02,  6.1924e-02]],\n",
       "              \n",
       "                       [[ 4.0733e-02, -7.8334e-02,  9.7870e-02],\n",
       "                        [ 8.2645e-02,  1.0492e-01, -1.7534e-02],\n",
       "                        [ 3.0607e-02,  1.3628e-02,  6.2527e-02]],\n",
       "              \n",
       "                       [[ 3.4882e-02,  9.6958e-02, -4.6020e-02],\n",
       "                        [ 9.6958e-02,  4.3577e-02,  4.0272e-02],\n",
       "                        [-1.0169e-01,  3.0965e-02, -6.0526e-02]],\n",
       "              \n",
       "                       [[-8.9238e-02, -5.4265e-02, -1.0135e-01],\n",
       "                        [-1.0175e-01, -8.9114e-02,  1.0344e-01],\n",
       "                        [-5.9635e-02, -5.1150e-02,  9.9962e-03]],\n",
       "              \n",
       "                       [[-5.9420e-02,  2.4511e-02, -5.3645e-02],\n",
       "                        [-3.8112e-02,  4.5380e-02,  2.9687e-02],\n",
       "                        [ 2.0055e-02, -2.9290e-02,  5.6175e-02]]],\n",
       "              \n",
       "              \n",
       "                      [[[-9.0908e-02,  1.3530e-02,  2.5390e-02],\n",
       "                        [-9.7036e-02, -7.9296e-02, -8.8032e-02],\n",
       "                        [-2.4121e-02,  5.1068e-02, -7.8468e-02]],\n",
       "              \n",
       "                       [[ 8.5876e-02, -2.8772e-02,  9.4094e-02],\n",
       "                        [ 1.0486e-01, -6.9331e-02, -2.8607e-02],\n",
       "                        [-5.5117e-03,  9.9696e-02,  9.0748e-02]],\n",
       "              \n",
       "                       [[ 4.3476e-02, -9.6127e-02, -9.2517e-02],\n",
       "                        [ 5.8234e-02, -3.9136e-02, -6.7322e-02],\n",
       "                        [ 1.6964e-02, -4.9135e-02, -2.8285e-02]],\n",
       "              \n",
       "                       [[-1.0273e-02, -3.1352e-02,  1.0017e-01],\n",
       "                        [-2.5684e-02,  1.0033e-01,  9.9758e-02],\n",
       "                        [-3.5695e-02,  6.5126e-02, -1.8649e-02]],\n",
       "              \n",
       "                       [[-2.9989e-02, -5.6099e-03,  7.7530e-02],\n",
       "                        [ 3.6949e-02, -8.8872e-02, -9.1116e-02],\n",
       "                        [ 3.9909e-05, -9.8447e-02,  8.0132e-02]],\n",
       "              \n",
       "                       [[ 6.6113e-02,  6.6700e-02,  7.9416e-02],\n",
       "                        [-1.3832e-02, -7.3365e-03,  9.3100e-02],\n",
       "                        [-6.4441e-02, -2.7491e-02, -6.7773e-02]],\n",
       "              \n",
       "                       [[-9.6532e-02, -5.3060e-02,  5.8234e-02],\n",
       "                        [ 3.7495e-02, -1.0206e-01, -1.8304e-02],\n",
       "                        [-1.3980e-02, -2.1862e-03, -3.3410e-03]],\n",
       "              \n",
       "                       [[ 9.1449e-02, -8.3393e-02, -2.4696e-02],\n",
       "                        [ 5.0200e-03,  1.0171e-01,  1.0220e-01],\n",
       "                        [ 2.6345e-02, -1.9654e-02,  8.6185e-02]],\n",
       "              \n",
       "                       [[ 8.1390e-02,  6.7564e-02, -1.4187e-02],\n",
       "                        [ 4.8857e-02,  2.7280e-02,  7.9719e-02],\n",
       "                        [ 2.4960e-02, -6.4224e-02,  2.4036e-02]],\n",
       "              \n",
       "                       [[-1.8133e-02, -8.5322e-02, -1.0353e-01],\n",
       "                        [ 1.0055e-01, -1.4329e-02, -6.5339e-02],\n",
       "                        [ 8.9104e-03,  1.4338e-02,  9.8798e-02]]],\n",
       "              \n",
       "              \n",
       "                      [[[-4.6995e-02, -6.8932e-03,  1.7031e-02],\n",
       "                        [-3.7556e-02, -2.5980e-02,  5.9944e-02],\n",
       "                        [-5.8186e-02, -4.2203e-02, -2.5496e-02]],\n",
       "              \n",
       "                       [[ 2.6499e-02,  5.7478e-02, -9.9694e-02],\n",
       "                        [-8.8244e-03, -1.0045e-01, -1.9693e-02],\n",
       "                        [ 6.8224e-02, -4.7790e-02, -8.7066e-02]],\n",
       "              \n",
       "                       [[ 1.0369e-01,  5.2036e-02,  6.7996e-02],\n",
       "                        [ 7.0198e-02,  6.4687e-02, -5.1429e-02],\n",
       "                        [-9.4378e-02,  2.2898e-02,  5.9618e-02]],\n",
       "              \n",
       "                       [[-7.6971e-02,  1.7410e-03,  3.0074e-02],\n",
       "                        [-1.9365e-02,  8.7464e-02, -1.1577e-02],\n",
       "                        [-3.0037e-03, -3.8569e-02, -1.1372e-02]],\n",
       "              \n",
       "                       [[-2.7097e-03,  3.8925e-02,  8.7587e-02],\n",
       "                        [ 1.0067e-01, -5.2261e-02, -9.1384e-02],\n",
       "                        [-7.2454e-02, -5.8800e-04,  5.7892e-02]],\n",
       "              \n",
       "                       [[ 3.2480e-02, -7.7374e-02, -9.2490e-02],\n",
       "                        [ 6.3366e-02,  5.9007e-02, -3.0602e-02],\n",
       "                        [ 7.5350e-02,  4.4557e-02,  4.8504e-02]],\n",
       "              \n",
       "                       [[ 5.9798e-02,  4.7385e-03, -2.9410e-02],\n",
       "                        [-7.0315e-02, -8.5247e-02, -9.4473e-02],\n",
       "                        [ 7.9846e-02,  6.5505e-02,  1.0185e-02]],\n",
       "              \n",
       "                       [[ 4.8975e-02, -3.2467e-02, -3.8946e-02],\n",
       "                        [ 5.5768e-02, -1.7980e-02,  6.6249e-02],\n",
       "                        [-6.0367e-02,  2.0451e-02,  7.8787e-02]],\n",
       "              \n",
       "                       [[ 7.9083e-02, -6.7501e-02, -6.7429e-02],\n",
       "                        [-4.3880e-02, -6.1910e-02,  3.3720e-02],\n",
       "                        [-7.2706e-02,  5.9727e-02,  6.7077e-02]],\n",
       "              \n",
       "                       [[-1.7079e-02, -2.6726e-02, -8.5316e-02],\n",
       "                        [-1.0102e-01, -9.8164e-02, -1.1131e-02],\n",
       "                        [ 1.4071e-02, -2.7234e-03, -7.0611e-02]]],\n",
       "              \n",
       "              \n",
       "                      [[[ 1.3355e-02,  1.0737e-02,  8.8655e-02],\n",
       "                        [ 6.0019e-02,  9.2404e-02,  5.3614e-02],\n",
       "                        [-8.1479e-02, -8.8958e-02, -5.7249e-02]],\n",
       "              \n",
       "                       [[-9.5962e-03, -6.3152e-02, -7.4464e-02],\n",
       "                        [ 6.5601e-02, -9.3727e-02, -5.9567e-02],\n",
       "                        [ 8.9394e-02, -8.1032e-02, -6.1553e-02]],\n",
       "              \n",
       "                       [[ 9.8406e-02, -7.6693e-03, -9.3888e-02],\n",
       "                        [-7.6695e-02,  2.1264e-02,  1.4856e-02],\n",
       "                        [-5.8122e-04, -7.3081e-02,  5.2624e-02]],\n",
       "              \n",
       "                       [[-2.8950e-02,  6.5019e-02,  3.5532e-02],\n",
       "                        [ 2.6426e-02,  6.3958e-02,  6.5476e-02],\n",
       "                        [ 8.9503e-02,  2.7440e-02,  7.3764e-02]],\n",
       "              \n",
       "                       [[-8.6810e-02,  8.0777e-02, -9.1019e-02],\n",
       "                        [ 7.8139e-02, -8.6596e-02,  5.2683e-03],\n",
       "                        [-7.3820e-02, -5.5567e-02, -9.5906e-02]],\n",
       "              \n",
       "                       [[ 8.2095e-02, -1.4623e-02,  4.9692e-02],\n",
       "                        [-1.1187e-02,  3.1732e-03, -3.8922e-02],\n",
       "                        [ 6.8066e-02,  3.5123e-02,  9.3384e-02]],\n",
       "              \n",
       "                       [[ 3.1970e-02, -2.9612e-02,  5.7322e-02],\n",
       "                        [ 1.4520e-02, -7.2864e-02, -6.3787e-02],\n",
       "                        [-2.6973e-02, -9.3376e-02, -8.0255e-02]],\n",
       "              \n",
       "                       [[-4.3932e-02,  2.3665e-02,  1.6151e-02],\n",
       "                        [-3.4034e-02, -8.8590e-02, -5.2344e-02],\n",
       "                        [-3.9961e-02,  9.7949e-02,  5.6671e-02]],\n",
       "              \n",
       "                       [[-1.0154e-01,  5.7266e-04,  8.4385e-02],\n",
       "                        [-3.2780e-02,  6.9735e-02, -8.4148e-02],\n",
       "                        [ 4.7356e-02,  9.9334e-02, -1.0522e-01]],\n",
       "              \n",
       "                       [[-7.6624e-02,  1.0458e-01,  1.3450e-02],\n",
       "                        [-1.1762e-02,  4.6370e-02, -8.9714e-02],\n",
       "                        [ 9.7796e-04,  9.1711e-04,  6.1663e-02]]],\n",
       "              \n",
       "              \n",
       "                      [[[-3.2881e-02, -8.1128e-02,  5.3504e-03],\n",
       "                        [-6.2698e-02, -7.6391e-02,  8.6697e-02],\n",
       "                        [ 5.2862e-02, -7.7791e-02,  9.9669e-02]],\n",
       "              \n",
       "                       [[ 4.3205e-02,  6.9693e-02, -4.2546e-02],\n",
       "                        [ 7.8719e-02,  1.7930e-02, -4.9722e-02],\n",
       "                        [ 2.6889e-02, -2.1065e-02, -4.5750e-02]],\n",
       "              \n",
       "                       [[-1.9655e-02,  3.3407e-03,  3.1828e-02],\n",
       "                        [-3.3097e-02,  2.0216e-02, -1.0128e-01],\n",
       "                        [-1.7576e-03,  2.0224e-02,  1.1822e-02]],\n",
       "              \n",
       "                       [[ 6.4380e-02,  7.1110e-02,  7.5412e-03],\n",
       "                        [-7.0970e-02,  1.7536e-02,  9.6620e-02],\n",
       "                        [-2.6081e-02, -6.0008e-02,  3.1781e-02]],\n",
       "              \n",
       "                       [[ 8.6954e-02,  9.0900e-02, -4.7215e-03],\n",
       "                        [ 5.2640e-03, -1.3699e-02,  2.8539e-02],\n",
       "                        [ 9.4554e-02,  7.2388e-02,  3.5343e-02]],\n",
       "              \n",
       "                       [[-6.3028e-02, -4.7507e-02,  6.3422e-03],\n",
       "                        [-6.0821e-02, -8.7154e-02, -7.3322e-02],\n",
       "                        [-8.2684e-02, -5.5758e-02,  6.2931e-02]],\n",
       "              \n",
       "                       [[-8.6781e-02,  8.5555e-02,  7.7779e-02],\n",
       "                        [-9.2400e-02,  7.0801e-02,  2.2008e-02],\n",
       "                        [-5.9329e-02, -4.7665e-02,  1.2548e-02]],\n",
       "              \n",
       "                       [[-1.7288e-02, -6.8611e-02, -3.0322e-02],\n",
       "                        [ 1.3890e-02, -2.1061e-02, -7.2022e-02],\n",
       "                        [-1.7701e-02, -8.8579e-02,  4.5510e-02]],\n",
       "              \n",
       "                       [[ 3.8139e-02,  9.3840e-02,  8.4085e-02],\n",
       "                        [ 7.6835e-02, -7.2690e-02,  1.0219e-01],\n",
       "                        [-3.3063e-02, -1.2137e-02, -2.0148e-02]],\n",
       "              \n",
       "                       [[-3.6440e-03,  6.9341e-02, -7.5295e-02],\n",
       "                        [ 6.8599e-02, -5.0573e-02,  7.1629e-02],\n",
       "                        [-7.6813e-02, -2.1064e-04, -3.0524e-02]]]], device='cuda:0')),\n",
       "             ('conv_block_2.0.bias',\n",
       "              tensor([-0.0222,  0.0537,  0.0728,  0.0528,  0.0442,  0.0650,  0.0236, -0.0515,\n",
       "                      -0.0294,  0.0404], device='cuda:0')),\n",
       "             ('conv_block_2.2.weight',\n",
       "              tensor([[[[ 0.0219, -0.0987, -0.0722],\n",
       "                        [ 0.0930, -0.0397, -0.0665],\n",
       "                        [ 0.0992,  0.0005, -0.0773]],\n",
       "              \n",
       "                       [[ 0.0408, -0.0507,  0.0530],\n",
       "                        [-0.0395,  0.0289, -0.0671],\n",
       "                        [-0.0394, -0.0630, -0.0721]],\n",
       "              \n",
       "                       [[ 0.0098, -0.0482,  0.0493],\n",
       "                        [ 0.0357, -0.0803,  0.0403],\n",
       "                        [-0.0477, -0.0461,  0.0135]],\n",
       "              \n",
       "                       [[-0.0208,  0.0771,  0.0494],\n",
       "                        [-0.1039,  0.0678, -0.0492],\n",
       "                        [ 0.0313, -0.0612, -0.0482]],\n",
       "              \n",
       "                       [[-0.0122,  0.0383, -0.0296],\n",
       "                        [-0.0728, -0.0047, -0.0273],\n",
       "                        [-0.0786,  0.0566,  0.0714]],\n",
       "              \n",
       "                       [[-0.0419,  0.0340, -0.0967],\n",
       "                        [-0.0577, -0.0850,  0.0269],\n",
       "                        [ 0.0399,  0.0949, -0.0482]],\n",
       "              \n",
       "                       [[-0.0774,  0.0325,  0.0090],\n",
       "                        [ 0.0473, -0.0702,  0.0827],\n",
       "                        [ 0.0699,  0.0908, -0.0267]],\n",
       "              \n",
       "                       [[ 0.0058,  0.0934,  0.0980],\n",
       "                        [ 0.0031,  0.0782,  0.0179],\n",
       "                        [ 0.0344,  0.0605,  0.0513]],\n",
       "              \n",
       "                       [[ 0.0477, -0.0913,  0.0616],\n",
       "                        [-0.0942,  0.0430, -0.0387],\n",
       "                        [ 0.0578,  0.1049, -0.0810]],\n",
       "              \n",
       "                       [[ 0.0169,  0.0968, -0.0687],\n",
       "                        [-0.0107, -0.0665,  0.0031],\n",
       "                        [ 0.0860,  0.0301,  0.0304]]],\n",
       "              \n",
       "              \n",
       "                      [[[-0.0669,  0.0029,  0.0560],\n",
       "                        [-0.1019,  0.0568, -0.0856],\n",
       "                        [-0.0681, -0.0730,  0.0381]],\n",
       "              \n",
       "                       [[-0.0357, -0.0001,  0.0663],\n",
       "                        [-0.1046,  0.0247,  0.0989],\n",
       "                        [-0.0560, -0.0511, -0.0755]],\n",
       "              \n",
       "                       [[-0.0864,  0.0035, -0.0323],\n",
       "                        [-0.0631, -0.0813,  0.0474],\n",
       "                        [-0.0709, -0.0097, -0.0199]],\n",
       "              \n",
       "                       [[-0.0894,  0.0893, -0.0126],\n",
       "                        [ 0.0906,  0.0060,  0.0742],\n",
       "                        [ 0.0764,  0.0844, -0.0333]],\n",
       "              \n",
       "                       [[-0.0312,  0.0274,  0.0161],\n",
       "                        [ 0.0475, -0.0522, -0.0703],\n",
       "                        [ 0.0459,  0.0984,  0.0962]],\n",
       "              \n",
       "                       [[-0.0472, -0.0541, -0.0358],\n",
       "                        [-0.0031, -0.0249,  0.0815],\n",
       "                        [-0.0766,  0.0729,  0.0781]],\n",
       "              \n",
       "                       [[ 0.0235,  0.0290,  0.0984],\n",
       "                        [ 0.0900,  0.0193,  0.0889],\n",
       "                        [-0.0437, -0.0329,  0.0483]],\n",
       "              \n",
       "                       [[-0.0036,  0.0248,  0.0665],\n",
       "                        [ 0.0640,  0.0055, -0.1045],\n",
       "                        [ 0.0973, -0.0042, -0.0972]],\n",
       "              \n",
       "                       [[ 0.0917, -0.0311, -0.0882],\n",
       "                        [ 0.0253,  0.0450,  0.1005],\n",
       "                        [-0.0437, -0.0352,  0.0377]],\n",
       "              \n",
       "                       [[ 0.0189,  0.1008,  0.0402],\n",
       "                        [ 0.0958, -0.0210, -0.0476],\n",
       "                        [-0.0047, -0.0718, -0.0205]]],\n",
       "              \n",
       "              \n",
       "                      [[[-0.0119, -0.0281,  0.0151],\n",
       "                        [-0.0215,  0.0188, -0.0798],\n",
       "                        [-0.0959, -0.0310, -0.0730]],\n",
       "              \n",
       "                       [[ 0.0883,  0.0063,  0.0013],\n",
       "                        [ 0.0444, -0.0749, -0.0334],\n",
       "                        [ 0.0859,  0.0667, -0.1011]],\n",
       "              \n",
       "                       [[ 0.0321, -0.0463,  0.0680],\n",
       "                        [-0.0940, -0.0029,  0.0464],\n",
       "                        [-0.1040, -0.0184,  0.0845]],\n",
       "              \n",
       "                       [[ 0.0292,  0.0418,  0.0981],\n",
       "                        [-0.0381, -0.0435,  0.0402],\n",
       "                        [-0.0496, -0.0707,  0.0438]],\n",
       "              \n",
       "                       [[-0.0297,  0.0985, -0.0873],\n",
       "                        [-0.0293, -0.0016, -0.0940],\n",
       "                        [ 0.0267, -0.1042,  0.0288]],\n",
       "              \n",
       "                       [[ 0.0338, -0.0973,  0.0807],\n",
       "                        [-0.0969, -0.0302, -0.0251],\n",
       "                        [-0.0895,  0.1004, -0.0230]],\n",
       "              \n",
       "                       [[ 0.0903,  0.0774, -0.0518],\n",
       "                        [ 0.0343,  0.0107, -0.0109],\n",
       "                        [-0.0570, -0.0731, -0.0946]],\n",
       "              \n",
       "                       [[ 0.0614, -0.0268,  0.0491],\n",
       "                        [-0.0950,  0.0917, -0.0405],\n",
       "                        [-0.0889,  0.0749, -0.0167]],\n",
       "              \n",
       "                       [[-0.1030,  0.0364, -0.0022],\n",
       "                        [-0.0283,  0.0768, -0.0190],\n",
       "                        [ 0.0674, -0.0620, -0.0179]],\n",
       "              \n",
       "                       [[ 0.0416,  0.0053, -0.0620],\n",
       "                        [-0.0523, -0.0618, -0.0603],\n",
       "                        [ 0.0889, -0.0478,  0.0258]]],\n",
       "              \n",
       "              \n",
       "                      [[[-0.0645,  0.0785,  0.0041],\n",
       "                        [-0.0517,  0.0980,  0.0265],\n",
       "                        [-0.0356,  0.0077,  0.1010]],\n",
       "              \n",
       "                       [[-0.0410, -0.0411, -0.0315],\n",
       "                        [-0.0291,  0.0334, -0.0193],\n",
       "                        [ 0.0189,  0.0223, -0.0259]],\n",
       "              \n",
       "                       [[ 0.0861, -0.0581, -0.0597],\n",
       "                        [ 0.0189,  0.0161, -0.0076],\n",
       "                        [-0.0070, -0.0457,  0.0709]],\n",
       "              \n",
       "                       [[-0.0580, -0.0028, -0.0545],\n",
       "                        [-0.0221,  0.0295,  0.1009],\n",
       "                        [ 0.0684, -0.0438,  0.0019]],\n",
       "              \n",
       "                       [[-0.0362,  0.0517,  0.0050],\n",
       "                        [-0.0680, -0.0585,  0.0657],\n",
       "                        [-0.0718, -0.0916, -0.0520]],\n",
       "              \n",
       "                       [[ 0.0543,  0.0645, -0.0640],\n",
       "                        [ 0.0059, -0.0205,  0.0186],\n",
       "                        [ 0.0490, -0.0652, -0.0645]],\n",
       "              \n",
       "                       [[ 0.0418, -0.1044,  0.0310],\n",
       "                        [-0.0605, -0.0190,  0.0269],\n",
       "                        [ 0.1020, -0.0352, -0.0125]],\n",
       "              \n",
       "                       [[ 0.0836,  0.0286, -0.0583],\n",
       "                        [-0.0107, -0.0734, -0.0477],\n",
       "                        [ 0.0374,  0.0660, -0.1046]],\n",
       "              \n",
       "                       [[ 0.0560,  0.0839, -0.0040],\n",
       "                        [-0.0745, -0.0200,  0.0551],\n",
       "                        [-0.0975, -0.0101,  0.0399]],\n",
       "              \n",
       "                       [[-0.0628, -0.0580, -0.0367],\n",
       "                        [ 0.0616,  0.0972, -0.0625],\n",
       "                        [ 0.0498, -0.0324, -0.0732]]],\n",
       "              \n",
       "              \n",
       "                      [[[-0.0434,  0.1054, -0.0930],\n",
       "                        [-0.0539, -0.0749,  0.0851],\n",
       "                        [-0.0826,  0.0664,  0.0170]],\n",
       "              \n",
       "                       [[ 0.0647,  0.0247,  0.0511],\n",
       "                        [-0.0401,  0.0838, -0.0905],\n",
       "                        [-0.0017,  0.0401, -0.0728]],\n",
       "              \n",
       "                       [[-0.0711, -0.0495, -0.0090],\n",
       "                        [-0.0512, -0.0140,  0.0434],\n",
       "                        [ 0.0934, -0.0212, -0.0146]],\n",
       "              \n",
       "                       [[-0.0189,  0.0418, -0.0020],\n",
       "                        [-0.0552,  0.0578, -0.0198],\n",
       "                        [ 0.0515,  0.0050,  0.0008]],\n",
       "              \n",
       "                       [[-0.0855,  0.0366,  0.0408],\n",
       "                        [ 0.0506, -0.0730,  0.0627],\n",
       "                        [-0.0324, -0.0924, -0.0191]],\n",
       "              \n",
       "                       [[ 0.0702, -0.0934, -0.0601],\n",
       "                        [-0.0159, -0.0038,  0.0546],\n",
       "                        [-0.0448,  0.0479, -0.0778]],\n",
       "              \n",
       "                       [[-0.0042,  0.0987,  0.0425],\n",
       "                        [-0.0368,  0.0259, -0.0237],\n",
       "                        [ 0.0572,  0.1025,  0.0199]],\n",
       "              \n",
       "                       [[-0.0739, -0.0355,  0.0423],\n",
       "                        [ 0.0533,  0.0465,  0.1040],\n",
       "                        [-0.0094, -0.0431, -0.0127]],\n",
       "              \n",
       "                       [[ 0.0574,  0.0122, -0.0978],\n",
       "                        [-0.0017, -0.0495,  0.0354],\n",
       "                        [ 0.0206,  0.0258, -0.0226]],\n",
       "              \n",
       "                       [[-0.0442, -0.0919, -0.0071],\n",
       "                        [-0.1022, -0.0880, -0.0667],\n",
       "                        [ 0.0646,  0.0800,  0.0647]]],\n",
       "              \n",
       "              \n",
       "                      [[[-0.0811, -0.0763, -0.0520],\n",
       "                        [-0.0780, -0.0413,  0.0367],\n",
       "                        [ 0.0056, -0.0220,  0.0960]],\n",
       "              \n",
       "                       [[-0.0797, -0.0076, -0.0092],\n",
       "                        [ 0.0179,  0.0261,  0.0626],\n",
       "                        [ 0.0811,  0.0413, -0.0420]],\n",
       "              \n",
       "                       [[ 0.0389,  0.0620, -0.0279],\n",
       "                        [-0.0621,  0.0129,  0.0241],\n",
       "                        [-0.0969,  0.0018, -0.0352]],\n",
       "              \n",
       "                       [[ 0.0686, -0.0794, -0.0500],\n",
       "                        [ 0.0195, -0.0222, -0.0725],\n",
       "                        [ 0.0328, -0.0966,  0.1042]],\n",
       "              \n",
       "                       [[-0.0967, -0.0208,  0.0755],\n",
       "                        [-0.0337, -0.0087, -0.0971],\n",
       "                        [-0.0615, -0.0955,  0.0356]],\n",
       "              \n",
       "                       [[-0.0278,  0.0909, -0.0393],\n",
       "                        [-0.0853,  0.0649, -0.0702],\n",
       "                        [-0.0278, -0.0905, -0.0073]],\n",
       "              \n",
       "                       [[ 0.0119, -0.0807, -0.0719],\n",
       "                        [-0.1047, -0.0307,  0.0393],\n",
       "                        [ 0.0005, -0.0237, -0.0045]],\n",
       "              \n",
       "                       [[-0.0525, -0.0973, -0.0373],\n",
       "                        [ 0.0212,  0.0985,  0.1024],\n",
       "                        [ 0.0822, -0.0050, -0.0933]],\n",
       "              \n",
       "                       [[-0.0404, -0.0169, -0.0867],\n",
       "                        [ 0.0413,  0.0103,  0.1001],\n",
       "                        [-0.0653, -0.0470, -0.0058]],\n",
       "              \n",
       "                       [[-0.0339,  0.0996,  0.0585],\n",
       "                        [-0.0621, -0.0798,  0.0378],\n",
       "                        [ 0.0217, -0.0215,  0.0692]]],\n",
       "              \n",
       "              \n",
       "                      [[[ 0.0076,  0.0220,  0.0602],\n",
       "                        [ 0.0923, -0.0452, -0.0590],\n",
       "                        [-0.0812,  0.1035, -0.0419]],\n",
       "              \n",
       "                       [[ 0.0469, -0.1044,  0.0832],\n",
       "                        [ 0.0544,  0.0886,  0.0570],\n",
       "                        [-0.0988, -0.0780, -0.0008]],\n",
       "              \n",
       "                       [[-0.0479, -0.0710, -0.0110],\n",
       "                        [ 0.0683, -0.0753, -0.0309],\n",
       "                        [-0.0444, -0.0953, -0.0314]],\n",
       "              \n",
       "                       [[-0.0941, -0.0985, -0.0359],\n",
       "                        [ 0.0104,  0.0712, -0.0494],\n",
       "                        [-0.0010, -0.1008,  0.0436]],\n",
       "              \n",
       "                       [[ 0.0422,  0.0731, -0.0640],\n",
       "                        [ 0.0495, -0.0784, -0.0862],\n",
       "                        [-0.0251, -0.0971, -0.0178]],\n",
       "              \n",
       "                       [[ 0.0866, -0.0567, -0.0424],\n",
       "                        [ 0.0321,  0.0700,  0.0242],\n",
       "                        [ 0.1000,  0.0207,  0.0017]],\n",
       "              \n",
       "                       [[-0.0849,  0.0908,  0.0581],\n",
       "                        [-0.0891, -0.0260, -0.0174],\n",
       "                        [ 0.0109,  0.0130,  0.0338]],\n",
       "              \n",
       "                       [[ 0.0169, -0.0858, -0.0352],\n",
       "                        [-0.0795, -0.0114, -0.0618],\n",
       "                        [ 0.0197, -0.0248,  0.0337]],\n",
       "              \n",
       "                       [[-0.0889,  0.0116, -0.0565],\n",
       "                        [-0.0246,  0.0906, -0.1039],\n",
       "                        [-0.0165,  0.0051,  0.0034]],\n",
       "              \n",
       "                       [[-0.0568, -0.0757,  0.0199],\n",
       "                        [-0.0046, -0.0476, -0.0094],\n",
       "                        [-0.0751, -0.0746, -0.0614]]],\n",
       "              \n",
       "              \n",
       "                      [[[ 0.0002, -0.0807,  0.0924],\n",
       "                        [ 0.0647,  0.0633, -0.0176],\n",
       "                        [-0.0154,  0.0925,  0.0123]],\n",
       "              \n",
       "                       [[ 0.0361, -0.0101, -0.0513],\n",
       "                        [ 0.0221, -0.0143, -0.0331],\n",
       "                        [ 0.0897, -0.0783, -0.0661]],\n",
       "              \n",
       "                       [[-0.0186,  0.0647,  0.0350],\n",
       "                        [ 0.0828,  0.0304,  0.0228],\n",
       "                        [-0.0587,  0.1001,  0.0938]],\n",
       "              \n",
       "                       [[-0.0648, -0.0816, -0.0201],\n",
       "                        [-0.0858,  0.0737, -0.0527],\n",
       "                        [ 0.0112,  0.0243,  0.0711]],\n",
       "              \n",
       "                       [[-0.0838,  0.0140, -0.0119],\n",
       "                        [ 0.0557, -0.0766,  0.0728],\n",
       "                        [ 0.0386, -0.0421, -0.0282]],\n",
       "              \n",
       "                       [[-0.0180, -0.0734, -0.0133],\n",
       "                        [-0.1047, -0.0439, -0.0172],\n",
       "                        [-0.1030,  0.0618,  0.0694]],\n",
       "              \n",
       "                       [[-0.0094,  0.0156,  0.0477],\n",
       "                        [ 0.1043, -0.0517,  0.0992],\n",
       "                        [ 0.0584,  0.0539,  0.0679]],\n",
       "              \n",
       "                       [[ 0.0935, -0.0227,  0.0785],\n",
       "                        [-0.0819, -0.0134, -0.0471],\n",
       "                        [-0.0851, -0.0415, -0.0248]],\n",
       "              \n",
       "                       [[ 0.0719,  0.0894, -0.0213],\n",
       "                        [ 0.0533,  0.0533,  0.1017],\n",
       "                        [ 0.0838,  0.0111,  0.0144]],\n",
       "              \n",
       "                       [[-0.0496,  0.0454, -0.0555],\n",
       "                        [-0.0282,  0.0911,  0.0386],\n",
       "                        [-0.0348, -0.0393, -0.0740]]],\n",
       "              \n",
       "              \n",
       "                      [[[ 0.0963, -0.0956, -0.0134],\n",
       "                        [-0.0587,  0.0508, -0.0432],\n",
       "                        [ 0.0646,  0.0394,  0.0314]],\n",
       "              \n",
       "                       [[-0.1027, -0.0101,  0.0426],\n",
       "                        [-0.0452,  0.0916, -0.0046],\n",
       "                        [ 0.0845,  0.0857, -0.0925]],\n",
       "              \n",
       "                       [[ 0.0935, -0.0965, -0.0532],\n",
       "                        [-0.0813, -0.0011,  0.0083],\n",
       "                        [ 0.0666,  0.0145, -0.0839]],\n",
       "              \n",
       "                       [[ 0.0153, -0.0456, -0.0729],\n",
       "                        [ 0.0827, -0.0231, -0.0798],\n",
       "                        [ 0.0436,  0.1050, -0.0203]],\n",
       "              \n",
       "                       [[ 0.0582, -0.0239, -0.0182],\n",
       "                        [ 0.0136, -0.0795, -0.0649],\n",
       "                        [-0.0315,  0.0739, -0.0554]],\n",
       "              \n",
       "                       [[ 0.0912, -0.0683,  0.0502],\n",
       "                        [-0.0149,  0.0272, -0.0734],\n",
       "                        [-0.0395, -0.0157, -0.0696]],\n",
       "              \n",
       "                       [[ 0.1000, -0.1036,  0.0461],\n",
       "                        [ 0.1043, -0.0486,  0.0327],\n",
       "                        [-0.0718,  0.0661,  0.0527]],\n",
       "              \n",
       "                       [[ 0.0692, -0.0818,  0.0222],\n",
       "                        [ 0.0581, -0.0821, -0.0675],\n",
       "                        [ 0.0952,  0.0011,  0.0526]],\n",
       "              \n",
       "                       [[ 0.0636,  0.0123, -0.0823],\n",
       "                        [ 0.0206, -0.0919, -0.0848],\n",
       "                        [-0.0241, -0.0419, -0.0277]],\n",
       "              \n",
       "                       [[-0.0786,  0.0594,  0.0916],\n",
       "                        [ 0.0963,  0.0381,  0.0002],\n",
       "                        [ 0.0761,  0.0820, -0.0275]]],\n",
       "              \n",
       "              \n",
       "                      [[[ 0.0208, -0.0708,  0.0336],\n",
       "                        [-0.0810,  0.0400, -0.0860],\n",
       "                        [ 0.0702, -0.0891,  0.0834]],\n",
       "              \n",
       "                       [[-0.0206, -0.0411, -0.0847],\n",
       "                        [ 0.0841,  0.0655, -0.0754],\n",
       "                        [ 0.0454,  0.0898,  0.0142]],\n",
       "              \n",
       "                       [[-0.0321,  0.0457, -0.0118],\n",
       "                        [-0.0670,  0.0459,  0.0361],\n",
       "                        [ 0.0363,  0.0339, -0.0312]],\n",
       "              \n",
       "                       [[ 0.0616, -0.0875,  0.0415],\n",
       "                        [ 0.0356,  0.0931,  0.0448],\n",
       "                        [ 0.0056,  0.0710,  0.0935]],\n",
       "              \n",
       "                       [[ 0.0298, -0.0114,  0.0256],\n",
       "                        [-0.0368,  0.0506, -0.0791],\n",
       "                        [-0.0850,  0.0115,  0.0864]],\n",
       "              \n",
       "                       [[-0.0243, -0.0439,  0.0362],\n",
       "                        [ 0.0246, -0.0929,  0.0572],\n",
       "                        [-0.0287, -0.0573, -0.0201]],\n",
       "              \n",
       "                       [[ 0.0730,  0.0783, -0.1016],\n",
       "                        [-0.0178, -0.0740,  0.0299],\n",
       "                        [-0.0558, -0.0797,  0.0847]],\n",
       "              \n",
       "                       [[ 0.0599,  0.0724,  0.0398],\n",
       "                        [-0.0519, -0.0687, -0.0406],\n",
       "                        [ 0.0009,  0.0100, -0.0354]],\n",
       "              \n",
       "                       [[-0.0130,  0.0706,  0.0973],\n",
       "                        [ 0.0648,  0.0028,  0.0426],\n",
       "                        [-0.0218,  0.0452,  0.1054]],\n",
       "              \n",
       "                       [[ 0.0155,  0.0345, -0.0210],\n",
       "                        [-0.0427,  0.0409,  0.0921],\n",
       "                        [-0.0195, -0.0194, -0.0239]]]], device='cuda:0')),\n",
       "             ('conv_block_2.2.bias',\n",
       "              tensor([ 0.0253, -0.0492,  0.0437, -0.0668,  0.0668, -0.0616, -0.0447, -0.0530,\n",
       "                       0.0970,  0.0832], device='cuda:0')),\n",
       "             ('classifier.1.weight',\n",
       "              tensor([[ 0.0423, -0.0040, -0.0433,  ..., -0.0331,  0.0318,  0.0219],\n",
       "                      [ 0.0424, -0.0426,  0.0207,  ..., -0.0086, -0.0289,  0.0027],\n",
       "                      [-0.0015,  0.0207,  0.0324,  ..., -0.0089,  0.0268, -0.0296],\n",
       "                      ...,\n",
       "                      [ 0.0404, -0.0015, -0.0043,  ..., -0.0356, -0.0346, -0.0137],\n",
       "                      [-0.0060,  0.0145,  0.0029,  ..., -0.0273,  0.0114,  0.0194],\n",
       "                      [ 0.0099,  0.0189,  0.0152,  ..., -0.0021,  0.0239,  0.0089]],\n",
       "                     device='cuda:0')),\n",
       "             ('classifier.1.bias',\n",
       "              tensor([ 0.0242,  0.0089,  0.0221,  0.0023, -0.0269,  0.0003,  0.0244,  0.0250,\n",
       "                      -0.0202, -0.0189], device='cuda:0'))])"
      ]
     },
     "execution_count": 32,
     "metadata": {},
     "output_type": "execute_result"
    }
   ],
   "source": [
    "model_1.state_dict()"
   ]
  },
  {
   "cell_type": "code",
   "execution_count": 33,
   "metadata": {},
   "outputs": [],
   "source": [
    "optimizer = torch.optim.Adam(params=model_1.parameters(),\n",
    "                             lr=0.001)\n",
    "loss_fn = nn.CrossEntropyLoss()"
   ]
  },
  {
   "cell_type": "code",
   "execution_count": 34,
   "metadata": {},
   "outputs": [],
   "source": [
    "from torchmetrics import Accuracy\n",
    "acc = Accuracy(task='multiclass',\n",
    "               num_classes=len(class_names)).to(device)"
   ]
  },
  {
   "cell_type": "code",
   "execution_count": 35,
   "metadata": {},
   "outputs": [
    {
     "data": {
      "text/plain": [
       "10"
      ]
     },
     "execution_count": 35,
     "metadata": {},
     "output_type": "execute_result"
    }
   ],
   "source": [
    "len(class_names)"
   ]
  },
  {
   "cell_type": "code",
   "execution_count": 36,
   "metadata": {},
   "outputs": [
    {
     "name": "stdout",
     "output_type": "stream",
     "text": [
      "helper_fcuntions.py already exists, skipping download..\n"
     ]
    }
   ],
   "source": [
    "#import helper file\n",
    "import requests\n",
    "from pathlib import Path\n",
    "#downloading helper_functions.py\n",
    "if Path('helper_functions.py').is_file():\n",
    "    print('helper_fcuntions.py already exists, skipping download..')\n",
    "else:\n",
    "    print(\"downloading helper_functions.py\")\n",
    "    request = requests.get(\"https://raw.githubusercontent.com/mrdbourke/pytorch-deep-learning/main/helper_functions.py\")\n",
    "    with open(\"helper_functions.py\", 'wb') as file:\n",
    "        file.write(request.content)"
   ]
  },
  {
   "cell_type": "code",
   "execution_count": 37,
   "metadata": {},
   "outputs": [
    {
     "name": "stderr",
     "output_type": "stream",
     "text": [
      "/usr/lib/python3.11/site-packages/tqdm/auto.py:21: TqdmWarning: IProgress not found. Please update jupyter and ipywidgets. See https://ipywidgets.readthedocs.io/en/stable/user_install.html\n",
      "  from .autonotebook import tqdm as notebook_tqdm\n",
      "  0%|          | 0/10 [00:00<?, ?it/s]"
     ]
    },
    {
     "name": "stdout",
     "output_type": "stream",
     "text": [
      "epoch: 0\n",
      "--------\n"
     ]
    },
    {
     "name": "stdout",
     "output_type": "stream",
     "text": [
      "Train loss: 0.21604 | Train accuracy: 93.16%\n"
     ]
    },
    {
     "name": "stderr",
     "output_type": "stream",
     "text": [
      " 10%|█         | 1/10 [00:17<02:37, 17.52s/it]"
     ]
    },
    {
     "name": "stdout",
     "output_type": "stream",
     "text": [
      "Test loss: 0.07681 | Test accuracy: 97.72%\n",
      "\n",
      "epoch: 1\n",
      "--------\n",
      "Train loss: 0.07200 | Train accuracy: 97.81%\n"
     ]
    },
    {
     "name": "stderr",
     "output_type": "stream",
     "text": [
      " 20%|██        | 2/10 [00:35<02:23, 17.94s/it]"
     ]
    },
    {
     "name": "stdout",
     "output_type": "stream",
     "text": [
      "Test loss: 0.05764 | Test accuracy: 98.14%\n",
      "\n",
      "epoch: 2\n",
      "--------\n",
      "Train loss: 0.05521 | Train accuracy: 98.27%\n"
     ]
    },
    {
     "name": "stderr",
     "output_type": "stream",
     "text": [
      " 30%|███       | 3/10 [00:54<02:07, 18.16s/it]"
     ]
    },
    {
     "name": "stdout",
     "output_type": "stream",
     "text": [
      "Test loss: 0.05369 | Test accuracy: 98.31%\n",
      "\n",
      "epoch: 3\n",
      "--------\n",
      "Train loss: 0.04624 | Train accuracy: 98.58%\n"
     ]
    },
    {
     "name": "stderr",
     "output_type": "stream",
     "text": [
      " 40%|████      | 4/10 [01:12<01:49, 18.32s/it]"
     ]
    },
    {
     "name": "stdout",
     "output_type": "stream",
     "text": [
      "Test loss: 0.04227 | Test accuracy: 98.57%\n",
      "\n",
      "epoch: 4\n",
      "--------\n",
      "Train loss: 0.03916 | Train accuracy: 98.79%\n"
     ]
    },
    {
     "name": "stderr",
     "output_type": "stream",
     "text": [
      " 50%|█████     | 5/10 [01:30<01:30, 18.07s/it]"
     ]
    },
    {
     "name": "stdout",
     "output_type": "stream",
     "text": [
      "Test loss: 0.04533 | Test accuracy: 98.53%\n",
      "\n",
      "epoch: 5\n",
      "--------\n",
      "Train loss: 0.03499 | Train accuracy: 98.89%\n"
     ]
    },
    {
     "name": "stderr",
     "output_type": "stream",
     "text": [
      " 60%|██████    | 6/10 [01:47<01:11, 17.89s/it]"
     ]
    },
    {
     "name": "stdout",
     "output_type": "stream",
     "text": [
      "Test loss: 0.03757 | Test accuracy: 98.75%\n",
      "\n",
      "epoch: 6\n",
      "--------\n",
      "Train loss: 0.03064 | Train accuracy: 99.04%\n"
     ]
    },
    {
     "name": "stderr",
     "output_type": "stream",
     "text": [
      " 70%|███████   | 7/10 [02:05<00:53, 17.70s/it]"
     ]
    },
    {
     "name": "stdout",
     "output_type": "stream",
     "text": [
      "Test loss: 0.03453 | Test accuracy: 98.92%\n",
      "\n",
      "epoch: 7\n",
      "--------\n",
      "Train loss: 0.02815 | Train accuracy: 99.08%\n"
     ]
    },
    {
     "name": "stderr",
     "output_type": "stream",
     "text": [
      " 80%|████████  | 8/10 [02:22<00:34, 17.45s/it]"
     ]
    },
    {
     "name": "stdout",
     "output_type": "stream",
     "text": [
      "Test loss: 0.03803 | Test accuracy: 98.72%\n",
      "\n",
      "epoch: 8\n",
      "--------\n",
      "Train loss: 0.02608 | Train accuracy: 99.11%\n"
     ]
    },
    {
     "name": "stderr",
     "output_type": "stream",
     "text": [
      " 90%|█████████ | 9/10 [02:40<00:17, 17.64s/it]"
     ]
    },
    {
     "name": "stdout",
     "output_type": "stream",
     "text": [
      "Test loss: 0.03568 | Test accuracy: 98.93%\n",
      "\n",
      "epoch: 9\n",
      "--------\n",
      "Train loss: 0.02393 | Train accuracy: 99.19%\n"
     ]
    },
    {
     "name": "stderr",
     "output_type": "stream",
     "text": [
      "100%|██████████| 10/10 [02:57<00:00, 17.78s/it]"
     ]
    },
    {
     "name": "stdout",
     "output_type": "stream",
     "text": [
      "Test loss: 0.03960 | Test accuracy: 98.80%\n",
      "\n",
      "\n",
      "Train time on cuda: 177.850 seconds\n"
     ]
    },
    {
     "name": "stderr",
     "output_type": "stream",
     "text": [
      "\n"
     ]
    }
   ],
   "source": [
    "from timeit import default_timer as Timer\n",
    "from tqdm.auto import tqdm\n",
    "import helper_functions \n",
    "\n",
    "start_timer = Timer()\n",
    "train_loss_values = []\n",
    "train_acc_values = []\n",
    "test_acc_values = []\n",
    "test_loss_values = []\n",
    "epochs = 10 \n",
    "for epoch in tqdm(range(epochs)):\n",
    "    print(f\"epoch: {epoch}\\n--------\")\n",
    "    train_loss_list, train_acc_list = train_step(\n",
    "        model=model_1,\n",
    "        data_loader=train_dataloader,\n",
    "        loss_fn=loss_fn,\n",
    "        optimizer=optimizer,\n",
    "        accuracy_fn=acc,\n",
    "        device=device\n",
    "    )\n",
    "\n",
    "    test_loss_list, test_acc_list = test_step(model=model_1,\n",
    "              data_loader=test_dataloader,\n",
    "              loss_fn=loss_fn,\n",
    "              accuracy_fn=acc,\n",
    "              device=device)\n",
    "    train_loss_values.append(train_loss_list.item())\n",
    "    train_acc_values.append(train_acc_list)\n",
    "    test_loss_values.append(test_loss_list.item())\n",
    "    test_acc_values.append(test_acc_list)\n",
    "    \n",
    "end_timer = Timer()\n",
    "total_time = helper_functions.print_train_time(start=start_timer,\n",
    "                                               end=end_timer,\n",
    "                                               device=device)"
   ]
  },
  {
   "cell_type": "code",
   "execution_count": 38,
   "metadata": {},
   "outputs": [
    {
     "data": {
      "text/plain": [
       "[0.2160375565290451,\n",
       " 0.07200311124324799,\n",
       " 0.05521121993660927,\n",
       " 0.04624255374073982,\n",
       " 0.03915892541408539,\n",
       " 0.03499016910791397,\n",
       " 0.0306449793279171,\n",
       " 0.028148502111434937,\n",
       " 0.026083316653966904,\n",
       " 0.02393365278840065]"
      ]
     },
     "execution_count": 38,
     "metadata": {},
     "output_type": "execute_result"
    }
   ],
   "source": [
    "train_loss_values"
   ]
  },
  {
   "cell_type": "code",
   "execution_count": 39,
   "metadata": {},
   "outputs": [
    {
     "data": {
      "text/plain": [
       "[93.16,\n",
       " 97.80666666666667,\n",
       " 98.26833333333333,\n",
       " 98.57666666666667,\n",
       " 98.78666666666666,\n",
       " 98.88833333333334,\n",
       " 99.03666666666666,\n",
       " 99.08166666666666,\n",
       " 99.115,\n",
       " 99.195]"
      ]
     },
     "execution_count": 39,
     "metadata": {},
     "output_type": "execute_result"
    }
   ],
   "source": [
    "train_acc_values"
   ]
  },
  {
   "cell_type": "code",
   "execution_count": 40,
   "metadata": {},
   "outputs": [
    {
     "data": {
      "text/plain": [
       "[97.72364217252397,\n",
       " 98.1429712460064,\n",
       " 98.31269968051119,\n",
       " 98.57228434504792,\n",
       " 98.53234824281151,\n",
       " 98.75199680511182,\n",
       " 98.92172523961662,\n",
       " 98.72204472843451,\n",
       " 98.93170926517571,\n",
       " 98.80191693290735]"
      ]
     },
     "execution_count": 40,
     "metadata": {},
     "output_type": "execute_result"
    }
   ],
   "source": [
    "test_acc_values"
   ]
  },
  {
   "cell_type": "code",
   "execution_count": 41,
   "metadata": {},
   "outputs": [
    {
     "data": {
      "text/plain": [
       "[0.07680943608283997,\n",
       " 0.05764464661478996,\n",
       " 0.0536920465528965,\n",
       " 0.04226863011717796,\n",
       " 0.04533100128173828,\n",
       " 0.037569668143987656,\n",
       " 0.03453216329216957,\n",
       " 0.03803131356835365,\n",
       " 0.03568160906434059,\n",
       " 0.039595331996679306]"
      ]
     },
     "execution_count": 41,
     "metadata": {},
     "output_type": "execute_result"
    }
   ],
   "source": [
    "test_loss_values"
   ]
  },
  {
   "cell_type": "markdown",
   "metadata": {},
   "source": [
    ">## plotting the loss and acc graph"
   ]
  },
  {
   "cell_type": "code",
   "execution_count": 42,
   "metadata": {},
   "outputs": [],
   "source": [
    "train_results = {\n",
    "    \"train_loss\": train_loss_values,\n",
    "    \"train_acc\": train_acc_values,\n",
    "    \"test_loss\": test_loss_values,\n",
    "    \"test_acc\": test_acc_values\n",
    "}"
   ]
  },
  {
   "cell_type": "code",
   "execution_count": 43,
   "metadata": {},
   "outputs": [
    {
     "data": {
      "image/png": "[encoded data removed]",
      "text/plain": [
       "<Figure size 1500x700 with 2 Axes>"
      ]
     },
     "metadata": {},
     "output_type": "display_data"
    }
   ],
   "source": [
    "helper_functions.plot_loss_curves(train_results)"
   ]
  },
  {
   "cell_type": "code",
   "execution_count": 44,
   "metadata": {},
   "outputs": [],
   "source": [
    "#creating a function to evaluate the model\n",
    "\n",
    "def eval_model(model: torch.nn.Module,\n",
    "              dataloader = torch.utils.data.DataLoader,\n",
    "              loss_fn = torch.nn.Module,\n",
    "              accuracy_fn = None,\n",
    "              device: torch.device = device):\n",
    "    loss, acc = 0,0\n",
    "    model.eval() #turns off dropout and batchnorm layers\n",
    "    with torch.inference_mode(): #turn off grad tracking \n",
    "        for X, y in dataloader:\n",
    "            X, y = X.to(device), y.to(device) #device agnosticism\n",
    "\n",
    "            y_pred = model(X)\n",
    "            loss += loss_fn(y_pred, y)\n",
    "            acc += accuracy_fn(y_pred.argmax(dim=1),\n",
    "                               y)\n",
    "        \n",
    "        loss /= len(dataloader)\n",
    "        acc/= len(dataloader)\n",
    "    return {\n",
    "        \"model_name\": model.__class__.__name__,\n",
    "        \"model_acc\": acc.item()*100,\n",
    "        \"model_loss\": loss.item()\n",
    "    }"
   ]
  },
  {
   "cell_type": "code",
   "execution_count": 45,
   "metadata": {},
   "outputs": [
    {
     "data": {
      "text/plain": [
       "{'model_name': 'MNISTModelV1',\n",
       " 'model_acc': 98.80191683769226,\n",
       " 'model_loss': 0.039595331996679306}"
      ]
     },
     "execution_count": 45,
     "metadata": {},
     "output_type": "execute_result"
    }
   ],
   "source": [
    "model_1_results = eval_model(model=model_1,\n",
    "                             dataloader=test_dataloader,\n",
    "                             loss_fn=loss_fn,\n",
    "                             accuracy_fn=acc,\n",
    "                             device=device)\n",
    "model_1_results"
   ]
  },
  {
   "cell_type": "code",
   "execution_count": 46,
   "metadata": {},
   "outputs": [],
   "source": [
    "# import torchsummary "
   ]
  },
  {
   "cell_type": "code",
   "execution_count": 47,
   "metadata": {},
   "outputs": [
    {
     "name": "stderr",
     "output_type": "stream",
     "text": [
      "making preds....: 100%|██████████| 313/313 [00:01<00:00, 175.08it/s]\n"
     ]
    }
   ],
   "source": [
    "from tqdm.auto import tqdm\n",
    "#make preds iwth traininged mod\n",
    "model_1.eval()\n",
    "y_preds = []\n",
    "with torch.inference_mode():\n",
    "    for X,y in tqdm(test_dataloader, desc= \"making preds....\"):\n",
    "        X,y = X.to(device), y.to(device)\n",
    "        #forward pass\n",
    "        y_logit = model_1(X).squeeze() #raw output of a model with linear layer at the end\n",
    "        #turn logits to pred probs to labels\n",
    "        y_pred_prob = torch.softmax(y_logit, dim=0)\n",
    "        y_pred_label = y_pred_prob.argmax(dim=1)\n",
    "        #put preds on CPU for eval\n",
    "        y_preds.append(y_pred_label.cpu())\n",
    "\n",
    "y_pred_tensor = torch.cat(y_preds)"
   ]
  },
  {
   "cell_type": "code",
   "execution_count": 48,
   "metadata": {},
   "outputs": [
    {
     "data": {
      "text/plain": [
       "tensor([7, 2, 8, 0, 9, 8, 8, 9, 8, 9])"
      ]
     },
     "execution_count": 48,
     "metadata": {},
     "output_type": "execute_result"
    }
   ],
   "source": [
    "y_pred_tensor[:10]"
   ]
  },
  {
   "cell_type": "code",
   "execution_count": 49,
   "metadata": {},
   "outputs": [
    {
     "data": {
      "text/plain": [
       "10000"
      ]
     },
     "execution_count": 49,
     "metadata": {},
     "output_type": "execute_result"
    }
   ],
   "source": [
    "len(y_pred_tensor)"
   ]
  },
  {
   "cell_type": "code",
   "execution_count": 50,
   "metadata": {},
   "outputs": [
    {
     "data": {
      "text/plain": [
       "10000"
      ]
     },
     "execution_count": 50,
     "metadata": {},
     "output_type": "execute_result"
    }
   ],
   "source": [
    "len(test_data.targets)"
   ]
  },
  {
   "cell_type": "markdown",
   "metadata": {},
   "source": [
    ">## confusion matrix"
   ]
  },
  {
   "cell_type": "code",
   "execution_count": 51,
   "metadata": {},
   "outputs": [
    {
     "data": {
      "text/plain": [
       "tensor([[ 941,    1,    5,    1,    1,    1,    9,    0,   14,    7],\n",
       "        [   9, 1088,    5,    2,   10,    0,    4,    4,   13,    0],\n",
       "        [   6,   27,  939,    8,    2,    1,    1,   26,   22,    0],\n",
       "        [   0,    2,    8,  966,    0,   20,    0,   10,    2,    2],\n",
       "        [   0,    2,    1,    0,  910,    2,    5,   11,   10,   41],\n",
       "        [   2,    1,    1,   14,    0,  847,    6,    2,    6,   13],\n",
       "        [  11,    7,    1,    0,    9,   47,  851,    0,   31,    1],\n",
       "        [   0,   12,    4,   12,    2,    0,    0,  960,    1,   37],\n",
       "        [   4,    2,   11,    3,    4,    3,    1,    1,  932,   13],\n",
       "        [   0,    3,    0,    3,   13,    5,    2,   15,    6,  962]])"
      ]
     },
     "execution_count": 51,
     "metadata": {},
     "output_type": "execute_result"
    }
   ],
   "source": [
    "from torchmetrics import ConfusionMatrix\n",
    "\n",
    "confusion_matrix = ConfusionMatrix(task='multiclass', num_classes=len(class_names))\n",
    "confusion_matrix_tensor = confusion_matrix(preds=y_pred_tensor,\n",
    "                                           target=test_data.targets)\n",
    "confusion_matrix_tensor"
   ]
  },
  {
   "cell_type": "code",
   "execution_count": 53,
   "metadata": {},
   "outputs": [
    {
     "data": {
      "image/png": "[encoded data removed]",
      "text/plain": [
       "<Figure size 640x480 with 1 Axes>"
      ]
     },
     "metadata": {},
     "output_type": "display_data"
    }
   ],
   "source": [
    "fig, ax = confusion_matrix.plot()"
   ]
  },
  {
   "cell_type": "markdown",
   "metadata": {},
   "source": [
    ">## saving the tinyvgg model\n"
   ]
  },
  {
   "cell_type": "code",
   "execution_count": 6,
   "metadata": {},
   "outputs": [
    {
     "data": {
      "text/plain": [
       "PosixPath('models/mnist_tinyvgg_model.pth')"
      ]
     },
     "execution_count": 6,
     "metadata": {},
     "output_type": "execute_result"
    }
   ],
   "source": [
    "from pathlib import Path\n",
    "MODEL_PATH = Path('models')\n",
    "MODEL_PATH.mkdir(parents=True,\n",
    "                 exist_ok=True)\n",
    "MODEL_NAME = \"mnist_tinyvgg_model.pth\"\n",
    "MODEL_SAVE_PATH = MODEL_PATH / MODEL_NAME\n",
    "\n",
    "MODEL_SAVE_PATH"
   ]
  },
  {
   "cell_type": "code",
   "execution_count": 55,
   "metadata": {},
   "outputs": [],
   "source": [
    "torch.save(obj=model_1.state_dict(),\n",
    "           f=MODEL_SAVE_PATH)"
   ]
  },
  {
   "cell_type": "code",
   "execution_count": 9,
   "metadata": {},
   "outputs": [
    {
     "data": {
      "text/plain": [
       "MNISTModelV1(\n",
       "  (conv_block_1): Sequential(\n",
       "    (0): Conv2d(1, 10, kernel_size=(3, 3), stride=(1, 1), padding=(1, 1))\n",
       "    (1): ReLU()\n",
       "    (2): Conv2d(10, 10, kernel_size=(3, 3), stride=(1, 1), padding=(1, 1))\n",
       "    (3): ReLU()\n",
       "    (4): MaxPool2d(kernel_size=2, stride=2, padding=0, dilation=1, ceil_mode=False)\n",
       "  )\n",
       "  (conv_block_2): Sequential(\n",
       "    (0): Conv2d(10, 10, kernel_size=(3, 3), stride=(1, 1), padding=(1, 1))\n",
       "    (1): ReLU()\n",
       "    (2): Conv2d(10, 10, kernel_size=(3, 3), stride=(1, 1), padding=(1, 1))\n",
       "    (3): ReLU()\n",
       "    (4): MaxPool2d(kernel_size=2, stride=2, padding=0, dilation=1, ceil_mode=False)\n",
       "  )\n",
       "  (classifier): Sequential(\n",
       "    (0): Flatten(start_dim=1, end_dim=-1)\n",
       "    (1): Linear(in_features=490, out_features=10, bias=True)\n",
       "  )\n",
       ")"
      ]
     },
     "execution_count": 9,
     "metadata": {},
     "output_type": "execute_result"
    }
   ],
   "source": [
    "#loading\n",
    "loaded_model_1 = MNISTModelV1(input_shape=1,\n",
    "                              hidden_units=10,\n",
    "                              output_shape=10)\n",
    "loaded_model_1.load_state_dict(torch.load(f=MODEL_SAVE_PATH))\n",
    "\n",
    "loaded_model_1.to(device)"
   ]
  },
  {
   "cell_type": "code",
   "execution_count": null,
   "metadata": {},
   "outputs": [],
   "source": [
    "loaded_model_1_results = eval_model(\n",
    "    model=loaded_model_1,\n",
    "    dataloader=test_dataloader,\n",
    "    loss_fn=loss_fn,\n",
    "    accuracy_fn=acc\n",
    ")\n",
    "loaded_model_1_results"
   ]
  },
  {
   "cell_type": "code",
   "execution_count": 58,
   "metadata": {},
   "outputs": [
    {
     "data": {
      "text/plain": [
       "True"
      ]
     },
     "execution_count": 58,
     "metadata": {},
     "output_type": "execute_result"
    }
   ],
   "source": [
    "loaded_model_1_results == model_1_results"
   ]
  },
  {
   "cell_type": "code",
   "execution_count": 61,
   "metadata": {},
   "outputs": [
    {
     "name": "stdout",
     "output_type": "stream",
     "text": [
      "\u001b[1m\u001b[34maur\u001b[0m\u001b[0m/\u001b[1mpython-gradio-frontend\u001b[0m \u001b[36m3.41.0-1\u001b[0m\u001b[1m (+0\u001b[0m \u001b[1m0.00) \u001b[0m\n",
      "    Create UIs for your machine learning model in Python in 3 minutes\n",
      "\u001b[1m\u001b[34maur\u001b[0m\u001b[0m/\u001b[1mpython-gradio-client\u001b[0m \u001b[36m0.5.0-1\u001b[0m\u001b[1m (+0\u001b[0m \u001b[1m0.00) \u001b[0m\u001b[1m\u001b[32m(Installed)\u001b[0m\u001b[0m\n",
      "    Create UIs for your machine learning model in Python in 3 minutes\n",
      "\u001b[1m\u001b[34maur\u001b[0m\u001b[0m/\u001b[1mpython-gradio\u001b[0m \u001b[36m3.41.0-1\u001b[0m\u001b[1m (+1\u001b[0m \u001b[1m0.87) \u001b[0m\u001b[1m\u001b[32m(Installed)\u001b[0m\u001b[0m\n",
      "    Create UIs for your machine learning model in Python in 3 minutes\n",
      "\u001b[1m\u001b[34maur\u001b[0m\u001b[0m/\u001b[1mgradio\u001b[0m \u001b[36m7.3-1\u001b[0m\u001b[1m (+55\u001b[0m \u001b[1m0.00) \u001b[0m\n",
      "    A GTK3 app for finding and listening to internet radio stations\n"
     ]
    }
   ],
   "source": [
    "!yay -Ss gradio "
   ]
  },
  {
   "cell_type": "code",
   "execution_count": 12,
   "metadata": {},
   "outputs": [
    {
     "name": "stdout",
     "output_type": "stream",
     "text": [
      "3.41.0\n"
     ]
    }
   ],
   "source": [
    "import gradio as gr\n",
    "print(gr.__version__)"
   ]
  },
  {
   "cell_type": "code",
   "execution_count": 13,
   "metadata": {},
   "outputs": [
    {
     "data": {
      "text/plain": [
       "MNISTModelV1(\n",
       "  (conv_block_1): Sequential(\n",
       "    (0): Conv2d(1, 10, kernel_size=(3, 3), stride=(1, 1), padding=(1, 1))\n",
       "    (1): ReLU()\n",
       "    (2): Conv2d(10, 10, kernel_size=(3, 3), stride=(1, 1), padding=(1, 1))\n",
       "    (3): ReLU()\n",
       "    (4): MaxPool2d(kernel_size=2, stride=2, padding=0, dilation=1, ceil_mode=False)\n",
       "  )\n",
       "  (conv_block_2): Sequential(\n",
       "    (0): Conv2d(10, 10, kernel_size=(3, 3), stride=(1, 1), padding=(1, 1))\n",
       "    (1): ReLU()\n",
       "    (2): Conv2d(10, 10, kernel_size=(3, 3), stride=(1, 1), padding=(1, 1))\n",
       "    (3): ReLU()\n",
       "    (4): MaxPool2d(kernel_size=2, stride=2, padding=0, dilation=1, ceil_mode=False)\n",
       "  )\n",
       "  (classifier): Sequential(\n",
       "    (0): Flatten(start_dim=1, end_dim=-1)\n",
       "    (1): Linear(in_features=490, out_features=10, bias=True)\n",
       "  )\n",
       ")"
      ]
     },
     "execution_count": 13,
     "metadata": {},
     "output_type": "execute_result"
    }
   ],
   "source": [
    "loaded_model_1.to('cpu')"
   ]
  },
  {
   "cell_type": "code",
   "execution_count": 14,
   "metadata": {},
   "outputs": [
    {
     "data": {
      "text/plain": [
       "device(type='cpu')"
      ]
     },
     "execution_count": 14,
     "metadata": {},
     "output_type": "execute_result"
    }
   ],
   "source": [
    "next(iter(loaded_model_1.parameters())).device"
   ]
  },
  {
   "cell_type": "code",
   "execution_count": 15,
   "metadata": {},
   "outputs": [
    {
     "name": "stderr",
     "output_type": "stream",
     "text": [
      "ERROR:    Exception in ASGI application\n",
      "Traceback (most recent call last):\n",
      "  File \"/usr/lib/python3.11/site-packages/gradio/routes.py\", line 282, in main\n",
      "    return templates.TemplateResponse(\n",
      "           ^^^^^^^^^^^^^^^^^^^^^^^^^^^\n",
      "  File \"/usr/lib/python3.11/site-packages/starlette/templating.py\", line 225, in TemplateResponse\n",
      "    template = self.get_template(name)\n",
      "               ^^^^^^^^^^^^^^^^^^^^^^^\n",
      "  File \"/usr/lib/python3.11/site-packages/starlette/templating.py\", line 139, in get_template\n",
      "    return self.env.get_template(name)\n",
      "           ^^^^^^^^^^^^^^^^^^^^^^^^^^^\n",
      "  File \"/usr/lib/python3.11/site-packages/jinja2/environment.py\", line 1010, in get_template\n",
      "    return self._load_template(name, globals)\n",
      "           ^^^^^^^^^^^^^^^^^^^^^^^^^^^^^^^^^^\n",
      "  File \"/usr/lib/python3.11/site-packages/jinja2/environment.py\", line 969, in _load_template\n",
      "    template = self.loader.load(self, name, self.make_globals(globals))\n",
      "               ^^^^^^^^^^^^^^^^^^^^^^^^^^^^^^^^^^^^^^^^^^^^^^^^^^^^^^^^\n",
      "  File \"/usr/lib/python3.11/site-packages/jinja2/loaders.py\", line 126, in load\n",
      "    source, filename, uptodate = self.get_source(environment, name)\n",
      "                                 ^^^^^^^^^^^^^^^^^^^^^^^^^^^^^^^^^^\n",
      "  File \"/usr/lib/python3.11/site-packages/jinja2/loaders.py\", line 218, in get_source\n",
      "    raise TemplateNotFound(template)\n",
      "jinja2.exceptions.TemplateNotFound: frontend/index.html\n",
      "\n",
      "The above exception was the direct cause of the following exception:\n",
      "\n",
      "Traceback (most recent call last):\n",
      "  File \"/usr/lib/python3.11/site-packages/uvicorn/protocols/http/httptools_impl.py\", line 426, in run_asgi\n",
      "    result = await app(  # type: ignore[func-returns-value]\n",
      "             ^^^^^^^^^^^^^^^^^^^^^^^^^^^^^^^^^^^^^^^^^^^^^^\n",
      "  File \"/usr/lib/python3.11/site-packages/uvicorn/middleware/proxy_headers.py\", line 84, in __call__\n",
      "    return await self.app(scope, receive, send)\n",
      "           ^^^^^^^^^^^^^^^^^^^^^^^^^^^^^^^^^^^^\n",
      "  File \"/usr/lib/python3.11/site-packages/fastapi/applications.py\", line 292, in __call__\n",
      "    await super().__call__(scope, receive, send)\n",
      "  File \"/usr/lib/python3.11/site-packages/starlette/applications.py\", line 116, in __call__\n",
      "    await self.middleware_stack(scope, receive, send)\n",
      "  File \"/usr/lib/python3.11/site-packages/starlette/middleware/errors.py\", line 186, in __call__\n",
      "    raise exc\n",
      "  File \"/usr/lib/python3.11/site-packages/starlette/middleware/errors.py\", line 164, in __call__\n",
      "    await self.app(scope, receive, _send)\n",
      "  File \"/usr/lib/python3.11/site-packages/starlette/middleware/cors.py\", line 83, in __call__\n",
      "    await self.app(scope, receive, send)\n",
      "  File \"/usr/lib/python3.11/site-packages/starlette/middleware/exceptions.py\", line 62, in __call__\n",
      "    await wrap_app_handling_exceptions(self.app, conn)(scope, receive, send)\n",
      "  File \"/usr/lib/python3.11/site-packages/starlette/_exception_handler.py\", line 55, in wrapped_app\n",
      "    raise exc\n",
      "  File \"/usr/lib/python3.11/site-packages/starlette/_exception_handler.py\", line 44, in wrapped_app\n",
      "    await app(scope, receive, sender)\n",
      "  File \"/usr/lib/python3.11/site-packages/fastapi/middleware/asyncexitstack.py\", line 20, in __call__\n",
      "    raise e\n",
      "  File \"/usr/lib/python3.11/site-packages/fastapi/middleware/asyncexitstack.py\", line 17, in __call__\n",
      "    await self.app(scope, receive, send)\n",
      "  File \"/usr/lib/python3.11/site-packages/starlette/routing.py\", line 746, in __call__\n",
      "    await route.handle(scope, receive, send)\n",
      "  File \"/usr/lib/python3.11/site-packages/starlette/routing.py\", line 288, in handle\n",
      "    await self.app(scope, receive, send)\n",
      "  File \"/usr/lib/python3.11/site-packages/starlette/routing.py\", line 75, in app\n",
      "    await wrap_app_handling_exceptions(app, request)(scope, receive, send)\n",
      "  File \"/usr/lib/python3.11/site-packages/starlette/_exception_handler.py\", line 55, in wrapped_app\n",
      "    raise exc\n",
      "  File \"/usr/lib/python3.11/site-packages/starlette/_exception_handler.py\", line 44, in wrapped_app\n",
      "    await app(scope, receive, sender)\n",
      "  File \"/usr/lib/python3.11/site-packages/starlette/routing.py\", line 70, in app\n",
      "    response = await func(request)\n",
      "               ^^^^^^^^^^^^^^^^^^^\n",
      "  File \"/usr/lib/python3.11/site-packages/fastapi/routing.py\", line 273, in app\n",
      "    raw_response = await run_endpoint_function(\n",
      "                   ^^^^^^^^^^^^^^^^^^^^^^^^^^^^\n",
      "  File \"/usr/lib/python3.11/site-packages/fastapi/routing.py\", line 192, in run_endpoint_function\n",
      "    return await run_in_threadpool(dependant.call, **values)\n",
      "           ^^^^^^^^^^^^^^^^^^^^^^^^^^^^^^^^^^^^^^^^^^^^^^^^^\n",
      "  File \"/usr/lib/python3.11/site-packages/starlette/concurrency.py\", line 35, in run_in_threadpool\n",
      "    return await anyio.to_thread.run_sync(func, *args)\n",
      "           ^^^^^^^^^^^^^^^^^^^^^^^^^^^^^^^^^^^^^^^^^^^\n",
      "  File \"/usr/lib/python3.11/site-packages/anyio/to_thread.py\", line 33, in run_sync\n",
      "    return await get_asynclib().run_sync_in_worker_thread(\n",
      "           ^^^^^^^^^^^^^^^^^^^^^^^^^^^^^^^^^^^^^^^^^^^^^^^\n",
      "  File \"/usr/lib/python3.11/site-packages/anyio/_backends/_asyncio.py\", line 877, in run_sync_in_worker_thread\n",
      "    return await future\n",
      "           ^^^^^^^^^^^^\n",
      "  File \"/usr/lib/python3.11/site-packages/anyio/_backends/_asyncio.py\", line 807, in run\n",
      "    result = context.run(func, *args)\n",
      "             ^^^^^^^^^^^^^^^^^^^^^^^^\n",
      "  File \"/usr/lib/python3.11/site-packages/gradio/routes.py\", line 293, in main\n",
      "    raise ValueError(\n",
      "ValueError: Did you install Gradio from source files? You need to build the frontend by running /scripts/build_frontend.sh\n"
     ]
    },
    {
     "name": "stdout",
     "output_type": "stream",
     "text": [
      "Running on local URL:  http://127.0.0.1:7860\n"
     ]
    },
    {
     "name": "stderr",
     "output_type": "stream",
     "text": [
      "ERROR:    Exception in ASGI application\n",
      "Traceback (most recent call last):\n",
      "  File \"/usr/lib/python3.11/site-packages/gradio/routes.py\", line 282, in main\n",
      "    return templates.TemplateResponse(\n",
      "           ^^^^^^^^^^^^^^^^^^^^^^^^^^^\n",
      "  File \"/usr/lib/python3.11/site-packages/starlette/templating.py\", line 225, in TemplateResponse\n",
      "    template = self.get_template(name)\n",
      "               ^^^^^^^^^^^^^^^^^^^^^^^\n",
      "  File \"/usr/lib/python3.11/site-packages/starlette/templating.py\", line 139, in get_template\n",
      "    return self.env.get_template(name)\n",
      "           ^^^^^^^^^^^^^^^^^^^^^^^^^^^\n",
      "  File \"/usr/lib/python3.11/site-packages/jinja2/environment.py\", line 1010, in get_template\n",
      "    return self._load_template(name, globals)\n",
      "           ^^^^^^^^^^^^^^^^^^^^^^^^^^^^^^^^^^\n",
      "  File \"/usr/lib/python3.11/site-packages/jinja2/environment.py\", line 969, in _load_template\n",
      "    template = self.loader.load(self, name, self.make_globals(globals))\n",
      "               ^^^^^^^^^^^^^^^^^^^^^^^^^^^^^^^^^^^^^^^^^^^^^^^^^^^^^^^^\n",
      "  File \"/usr/lib/python3.11/site-packages/jinja2/loaders.py\", line 126, in load\n",
      "    source, filename, uptodate = self.get_source(environment, name)\n",
      "                                 ^^^^^^^^^^^^^^^^^^^^^^^^^^^^^^^^^^\n",
      "  File \"/usr/lib/python3.11/site-packages/jinja2/loaders.py\", line 218, in get_source\n",
      "    raise TemplateNotFound(template)\n",
      "jinja2.exceptions.TemplateNotFound: frontend/index.html\n",
      "\n",
      "The above exception was the direct cause of the following exception:\n",
      "\n",
      "Traceback (most recent call last):\n",
      "  File \"/usr/lib/python3.11/site-packages/uvicorn/protocols/http/httptools_impl.py\", line 426, in run_asgi\n",
      "    result = await app(  # type: ignore[func-returns-value]\n",
      "             ^^^^^^^^^^^^^^^^^^^^^^^^^^^^^^^^^^^^^^^^^^^^^^\n",
      "  File \"/usr/lib/python3.11/site-packages/uvicorn/middleware/proxy_headers.py\", line 84, in __call__\n",
      "    return await self.app(scope, receive, send)\n",
      "           ^^^^^^^^^^^^^^^^^^^^^^^^^^^^^^^^^^^^\n",
      "  File \"/usr/lib/python3.11/site-packages/fastapi/applications.py\", line 292, in __call__\n",
      "    await super().__call__(scope, receive, send)\n",
      "  File \"/usr/lib/python3.11/site-packages/starlette/applications.py\", line 116, in __call__\n",
      "    await self.middleware_stack(scope, receive, send)\n",
      "  File \"/usr/lib/python3.11/site-packages/starlette/middleware/errors.py\", line 186, in __call__\n",
      "    raise exc\n",
      "  File \"/usr/lib/python3.11/site-packages/starlette/middleware/errors.py\", line 164, in __call__\n",
      "    await self.app(scope, receive, _send)\n",
      "  File \"/usr/lib/python3.11/site-packages/starlette/middleware/cors.py\", line 83, in __call__\n",
      "    await self.app(scope, receive, send)\n",
      "  File \"/usr/lib/python3.11/site-packages/starlette/middleware/exceptions.py\", line 62, in __call__\n",
      "    await wrap_app_handling_exceptions(self.app, conn)(scope, receive, send)\n",
      "  File \"/usr/lib/python3.11/site-packages/starlette/_exception_handler.py\", line 55, in wrapped_app\n",
      "    raise exc\n",
      "  File \"/usr/lib/python3.11/site-packages/starlette/_exception_handler.py\", line 44, in wrapped_app\n",
      "    await app(scope, receive, sender)\n",
      "  File \"/usr/lib/python3.11/site-packages/fastapi/middleware/asyncexitstack.py\", line 20, in __call__\n",
      "    raise e\n",
      "  File \"/usr/lib/python3.11/site-packages/fastapi/middleware/asyncexitstack.py\", line 17, in __call__\n",
      "    await self.app(scope, receive, send)\n",
      "  File \"/usr/lib/python3.11/site-packages/starlette/routing.py\", line 746, in __call__\n",
      "    await route.handle(scope, receive, send)\n",
      "  File \"/usr/lib/python3.11/site-packages/starlette/routing.py\", line 288, in handle\n",
      "    await self.app(scope, receive, send)\n",
      "  File \"/usr/lib/python3.11/site-packages/starlette/routing.py\", line 75, in app\n",
      "    await wrap_app_handling_exceptions(app, request)(scope, receive, send)\n",
      "  File \"/usr/lib/python3.11/site-packages/starlette/_exception_handler.py\", line 55, in wrapped_app\n",
      "    raise exc\n",
      "  File \"/usr/lib/python3.11/site-packages/starlette/_exception_handler.py\", line 44, in wrapped_app\n",
      "    await app(scope, receive, sender)\n",
      "  File \"/usr/lib/python3.11/site-packages/starlette/routing.py\", line 70, in app\n",
      "    response = await func(request)\n",
      "               ^^^^^^^^^^^^^^^^^^^\n",
      "  File \"/usr/lib/python3.11/site-packages/fastapi/routing.py\", line 273, in app\n",
      "    raw_response = await run_endpoint_function(\n",
      "                   ^^^^^^^^^^^^^^^^^^^^^^^^^^^^\n",
      "  File \"/usr/lib/python3.11/site-packages/fastapi/routing.py\", line 192, in run_endpoint_function\n",
      "    return await run_in_threadpool(dependant.call, **values)\n",
      "           ^^^^^^^^^^^^^^^^^^^^^^^^^^^^^^^^^^^^^^^^^^^^^^^^^\n",
      "  File \"/usr/lib/python3.11/site-packages/starlette/concurrency.py\", line 35, in run_in_threadpool\n",
      "    return await anyio.to_thread.run_sync(func, *args)\n",
      "           ^^^^^^^^^^^^^^^^^^^^^^^^^^^^^^^^^^^^^^^^^^^\n",
      "  File \"/usr/lib/python3.11/site-packages/anyio/to_thread.py\", line 33, in run_sync\n",
      "    return await get_asynclib().run_sync_in_worker_thread(\n",
      "           ^^^^^^^^^^^^^^^^^^^^^^^^^^^^^^^^^^^^^^^^^^^^^^^\n",
      "  File \"/usr/lib/python3.11/site-packages/anyio/_backends/_asyncio.py\", line 877, in run_sync_in_worker_thread\n",
      "    return await future\n",
      "           ^^^^^^^^^^^^\n",
      "  File \"/usr/lib/python3.11/site-packages/anyio/_backends/_asyncio.py\", line 807, in run\n",
      "    result = context.run(func, *args)\n",
      "             ^^^^^^^^^^^^^^^^^^^^^^^^\n",
      "  File \"/usr/lib/python3.11/site-packages/gradio/routes.py\", line 293, in main\n",
      "    raise ValueError(\n",
      "ValueError: Did you install Gradio from source files? You need to build the frontend by running /scripts/build_frontend.sh\n",
      "ERROR:    Exception in ASGI application\n",
      "Traceback (most recent call last):\n",
      "  File \"/usr/lib/python3.11/site-packages/gradio/routes.py\", line 282, in main\n",
      "    return templates.TemplateResponse(\n",
      "           ^^^^^^^^^^^^^^^^^^^^^^^^^^^\n",
      "  File \"/usr/lib/python3.11/site-packages/starlette/templating.py\", line 225, in TemplateResponse\n",
      "    template = self.get_template(name)\n",
      "               ^^^^^^^^^^^^^^^^^^^^^^^\n",
      "  File \"/usr/lib/python3.11/site-packages/starlette/templating.py\", line 139, in get_template\n",
      "    return self.env.get_template(name)\n",
      "           ^^^^^^^^^^^^^^^^^^^^^^^^^^^\n",
      "  File \"/usr/lib/python3.11/site-packages/jinja2/environment.py\", line 1010, in get_template\n",
      "    return self._load_template(name, globals)\n",
      "           ^^^^^^^^^^^^^^^^^^^^^^^^^^^^^^^^^^\n",
      "  File \"/usr/lib/python3.11/site-packages/jinja2/environment.py\", line 969, in _load_template\n",
      "    template = self.loader.load(self, name, self.make_globals(globals))\n",
      "               ^^^^^^^^^^^^^^^^^^^^^^^^^^^^^^^^^^^^^^^^^^^^^^^^^^^^^^^^\n",
      "  File \"/usr/lib/python3.11/site-packages/jinja2/loaders.py\", line 126, in load\n",
      "    source, filename, uptodate = self.get_source(environment, name)\n",
      "                                 ^^^^^^^^^^^^^^^^^^^^^^^^^^^^^^^^^^\n",
      "  File \"/usr/lib/python3.11/site-packages/jinja2/loaders.py\", line 218, in get_source\n",
      "    raise TemplateNotFound(template)\n",
      "jinja2.exceptions.TemplateNotFound: frontend/index.html\n",
      "\n",
      "The above exception was the direct cause of the following exception:\n",
      "\n",
      "Traceback (most recent call last):\n",
      "  File \"/usr/lib/python3.11/site-packages/uvicorn/protocols/http/httptools_impl.py\", line 426, in run_asgi\n",
      "    result = await app(  # type: ignore[func-returns-value]\n",
      "             ^^^^^^^^^^^^^^^^^^^^^^^^^^^^^^^^^^^^^^^^^^^^^^\n",
      "  File \"/usr/lib/python3.11/site-packages/uvicorn/middleware/proxy_headers.py\", line 84, in __call__\n",
      "    return await self.app(scope, receive, send)\n",
      "           ^^^^^^^^^^^^^^^^^^^^^^^^^^^^^^^^^^^^\n",
      "  File \"/usr/lib/python3.11/site-packages/fastapi/applications.py\", line 292, in __call__\n",
      "    await super().__call__(scope, receive, send)\n",
      "  File \"/usr/lib/python3.11/site-packages/starlette/applications.py\", line 116, in __call__\n",
      "    await self.middleware_stack(scope, receive, send)\n",
      "  File \"/usr/lib/python3.11/site-packages/starlette/middleware/errors.py\", line 186, in __call__\n",
      "    raise exc\n",
      "  File \"/usr/lib/python3.11/site-packages/starlette/middleware/errors.py\", line 164, in __call__\n",
      "    await self.app(scope, receive, _send)\n",
      "  File \"/usr/lib/python3.11/site-packages/starlette/middleware/cors.py\", line 83, in __call__\n",
      "    await self.app(scope, receive, send)\n",
      "  File \"/usr/lib/python3.11/site-packages/starlette/middleware/exceptions.py\", line 62, in __call__\n",
      "    await wrap_app_handling_exceptions(self.app, conn)(scope, receive, send)\n",
      "  File \"/usr/lib/python3.11/site-packages/starlette/_exception_handler.py\", line 55, in wrapped_app\n",
      "    raise exc\n",
      "  File \"/usr/lib/python3.11/site-packages/starlette/_exception_handler.py\", line 44, in wrapped_app\n",
      "    await app(scope, receive, sender)\n",
      "  File \"/usr/lib/python3.11/site-packages/fastapi/middleware/asyncexitstack.py\", line 20, in __call__\n",
      "    raise e\n",
      "  File \"/usr/lib/python3.11/site-packages/fastapi/middleware/asyncexitstack.py\", line 17, in __call__\n",
      "    await self.app(scope, receive, send)\n",
      "  File \"/usr/lib/python3.11/site-packages/starlette/routing.py\", line 746, in __call__\n",
      "    await route.handle(scope, receive, send)\n",
      "  File \"/usr/lib/python3.11/site-packages/starlette/routing.py\", line 288, in handle\n",
      "    await self.app(scope, receive, send)\n",
      "  File \"/usr/lib/python3.11/site-packages/starlette/routing.py\", line 75, in app\n",
      "    await wrap_app_handling_exceptions(app, request)(scope, receive, send)\n",
      "  File \"/usr/lib/python3.11/site-packages/starlette/_exception_handler.py\", line 55, in wrapped_app\n",
      "    raise exc\n",
      "  File \"/usr/lib/python3.11/site-packages/starlette/_exception_handler.py\", line 44, in wrapped_app\n",
      "    await app(scope, receive, sender)\n",
      "  File \"/usr/lib/python3.11/site-packages/starlette/routing.py\", line 70, in app\n",
      "    response = await func(request)\n",
      "               ^^^^^^^^^^^^^^^^^^^\n",
      "  File \"/usr/lib/python3.11/site-packages/fastapi/routing.py\", line 273, in app\n",
      "    raw_response = await run_endpoint_function(\n",
      "                   ^^^^^^^^^^^^^^^^^^^^^^^^^^^^\n",
      "  File \"/usr/lib/python3.11/site-packages/fastapi/routing.py\", line 192, in run_endpoint_function\n",
      "    return await run_in_threadpool(dependant.call, **values)\n",
      "           ^^^^^^^^^^^^^^^^^^^^^^^^^^^^^^^^^^^^^^^^^^^^^^^^^\n",
      "  File \"/usr/lib/python3.11/site-packages/starlette/concurrency.py\", line 35, in run_in_threadpool\n",
      "    return await anyio.to_thread.run_sync(func, *args)\n",
      "           ^^^^^^^^^^^^^^^^^^^^^^^^^^^^^^^^^^^^^^^^^^^\n",
      "  File \"/usr/lib/python3.11/site-packages/anyio/to_thread.py\", line 33, in run_sync\n",
      "    return await get_asynclib().run_sync_in_worker_thread(\n",
      "           ^^^^^^^^^^^^^^^^^^^^^^^^^^^^^^^^^^^^^^^^^^^^^^^\n",
      "  File \"/usr/lib/python3.11/site-packages/anyio/_backends/_asyncio.py\", line 877, in run_sync_in_worker_thread\n",
      "    return await future\n",
      "           ^^^^^^^^^^^^\n",
      "  File \"/usr/lib/python3.11/site-packages/anyio/_backends/_asyncio.py\", line 807, in run\n",
      "    result = context.run(func, *args)\n",
      "             ^^^^^^^^^^^^^^^^^^^^^^^^\n",
      "  File \"/usr/lib/python3.11/site-packages/gradio/routes.py\", line 293, in main\n",
      "    raise ValueError(\n",
      "ValueError: Did you install Gradio from source files? You need to build the frontend by running /scripts/build_frontend.sh\n",
      "ERROR:    Exception in ASGI application\n",
      "Traceback (most recent call last):\n",
      "  File \"/usr/lib/python3.11/site-packages/gradio/routes.py\", line 282, in main\n",
      "    return templates.TemplateResponse(\n",
      "           ^^^^^^^^^^^^^^^^^^^^^^^^^^^\n",
      "  File \"/usr/lib/python3.11/site-packages/starlette/templating.py\", line 225, in TemplateResponse\n",
      "    template = self.get_template(name)\n",
      "               ^^^^^^^^^^^^^^^^^^^^^^^\n",
      "  File \"/usr/lib/python3.11/site-packages/starlette/templating.py\", line 139, in get_template\n",
      "    return self.env.get_template(name)\n",
      "           ^^^^^^^^^^^^^^^^^^^^^^^^^^^\n",
      "  File \"/usr/lib/python3.11/site-packages/jinja2/environment.py\", line 1010, in get_template\n",
      "    return self._load_template(name, globals)\n",
      "           ^^^^^^^^^^^^^^^^^^^^^^^^^^^^^^^^^^\n",
      "  File \"/usr/lib/python3.11/site-packages/jinja2/environment.py\", line 969, in _load_template\n",
      "    template = self.loader.load(self, name, self.make_globals(globals))\n",
      "               ^^^^^^^^^^^^^^^^^^^^^^^^^^^^^^^^^^^^^^^^^^^^^^^^^^^^^^^^\n",
      "  File \"/usr/lib/python3.11/site-packages/jinja2/loaders.py\", line 126, in load\n",
      "    source, filename, uptodate = self.get_source(environment, name)\n",
      "                                 ^^^^^^^^^^^^^^^^^^^^^^^^^^^^^^^^^^\n",
      "  File \"/usr/lib/python3.11/site-packages/jinja2/loaders.py\", line 218, in get_source\n",
      "    raise TemplateNotFound(template)\n",
      "jinja2.exceptions.TemplateNotFound: frontend/index.html\n",
      "\n",
      "The above exception was the direct cause of the following exception:\n",
      "\n",
      "Traceback (most recent call last):\n",
      "  File \"/usr/lib/python3.11/site-packages/uvicorn/protocols/http/httptools_impl.py\", line 426, in run_asgi\n",
      "    result = await app(  # type: ignore[func-returns-value]\n",
      "             ^^^^^^^^^^^^^^^^^^^^^^^^^^^^^^^^^^^^^^^^^^^^^^\n",
      "  File \"/usr/lib/python3.11/site-packages/uvicorn/middleware/proxy_headers.py\", line 84, in __call__\n",
      "    return await self.app(scope, receive, send)\n",
      "           ^^^^^^^^^^^^^^^^^^^^^^^^^^^^^^^^^^^^\n",
      "  File \"/usr/lib/python3.11/site-packages/fastapi/applications.py\", line 292, in __call__\n",
      "    await super().__call__(scope, receive, send)\n",
      "  File \"/usr/lib/python3.11/site-packages/starlette/applications.py\", line 116, in __call__\n",
      "    await self.middleware_stack(scope, receive, send)\n",
      "  File \"/usr/lib/python3.11/site-packages/starlette/middleware/errors.py\", line 186, in __call__\n",
      "    raise exc\n",
      "  File \"/usr/lib/python3.11/site-packages/starlette/middleware/errors.py\", line 164, in __call__\n",
      "    await self.app(scope, receive, _send)\n",
      "  File \"/usr/lib/python3.11/site-packages/starlette/middleware/cors.py\", line 83, in __call__\n",
      "    await self.app(scope, receive, send)\n",
      "  File \"/usr/lib/python3.11/site-packages/starlette/middleware/exceptions.py\", line 62, in __call__\n",
      "    await wrap_app_handling_exceptions(self.app, conn)(scope, receive, send)\n",
      "  File \"/usr/lib/python3.11/site-packages/starlette/_exception_handler.py\", line 55, in wrapped_app\n",
      "    raise exc\n",
      "  File \"/usr/lib/python3.11/site-packages/starlette/_exception_handler.py\", line 44, in wrapped_app\n",
      "    await app(scope, receive, sender)\n",
      "  File \"/usr/lib/python3.11/site-packages/fastapi/middleware/asyncexitstack.py\", line 20, in __call__\n",
      "    raise e\n",
      "  File \"/usr/lib/python3.11/site-packages/fastapi/middleware/asyncexitstack.py\", line 17, in __call__\n",
      "    await self.app(scope, receive, send)\n",
      "  File \"/usr/lib/python3.11/site-packages/starlette/routing.py\", line 746, in __call__\n",
      "    await route.handle(scope, receive, send)\n",
      "  File \"/usr/lib/python3.11/site-packages/starlette/routing.py\", line 288, in handle\n",
      "    await self.app(scope, receive, send)\n",
      "  File \"/usr/lib/python3.11/site-packages/starlette/routing.py\", line 75, in app\n",
      "    await wrap_app_handling_exceptions(app, request)(scope, receive, send)\n",
      "  File \"/usr/lib/python3.11/site-packages/starlette/_exception_handler.py\", line 55, in wrapped_app\n",
      "    raise exc\n",
      "  File \"/usr/lib/python3.11/site-packages/starlette/_exception_handler.py\", line 44, in wrapped_app\n",
      "    await app(scope, receive, sender)\n",
      "  File \"/usr/lib/python3.11/site-packages/starlette/routing.py\", line 70, in app\n",
      "    response = await func(request)\n",
      "               ^^^^^^^^^^^^^^^^^^^\n",
      "  File \"/usr/lib/python3.11/site-packages/fastapi/routing.py\", line 273, in app\n",
      "    raw_response = await run_endpoint_function(\n",
      "                   ^^^^^^^^^^^^^^^^^^^^^^^^^^^^\n",
      "  File \"/usr/lib/python3.11/site-packages/fastapi/routing.py\", line 192, in run_endpoint_function\n",
      "    return await run_in_threadpool(dependant.call, **values)\n",
      "           ^^^^^^^^^^^^^^^^^^^^^^^^^^^^^^^^^^^^^^^^^^^^^^^^^\n",
      "  File \"/usr/lib/python3.11/site-packages/starlette/concurrency.py\", line 35, in run_in_threadpool\n",
      "    return await anyio.to_thread.run_sync(func, *args)\n",
      "           ^^^^^^^^^^^^^^^^^^^^^^^^^^^^^^^^^^^^^^^^^^^\n",
      "  File \"/usr/lib/python3.11/site-packages/anyio/to_thread.py\", line 33, in run_sync\n",
      "    return await get_asynclib().run_sync_in_worker_thread(\n",
      "           ^^^^^^^^^^^^^^^^^^^^^^^^^^^^^^^^^^^^^^^^^^^^^^^\n",
      "  File \"/usr/lib/python3.11/site-packages/anyio/_backends/_asyncio.py\", line 877, in run_sync_in_worker_thread\n",
      "    return await future\n",
      "           ^^^^^^^^^^^^\n",
      "  File \"/usr/lib/python3.11/site-packages/anyio/_backends/_asyncio.py\", line 807, in run\n",
      "    result = context.run(func, *args)\n",
      "             ^^^^^^^^^^^^^^^^^^^^^^^^\n",
      "  File \"/usr/lib/python3.11/site-packages/gradio/routes.py\", line 293, in main\n",
      "    raise ValueError(\n",
      "ValueError: Did you install Gradio from source files? You need to build the frontend by running /scripts/build_frontend.sh\n",
      "ERROR:    Exception in ASGI application\n",
      "Traceback (most recent call last):\n",
      "  File \"/usr/lib/python3.11/site-packages/gradio/routes.py\", line 282, in main\n",
      "    return templates.TemplateResponse(\n",
      "           ^^^^^^^^^^^^^^^^^^^^^^^^^^^\n",
      "  File \"/usr/lib/python3.11/site-packages/starlette/templating.py\", line 225, in TemplateResponse\n",
      "    template = self.get_template(name)\n",
      "               ^^^^^^^^^^^^^^^^^^^^^^^\n",
      "  File \"/usr/lib/python3.11/site-packages/starlette/templating.py\", line 139, in get_template\n",
      "    return self.env.get_template(name)\n",
      "           ^^^^^^^^^^^^^^^^^^^^^^^^^^^\n",
      "  File \"/usr/lib/python3.11/site-packages/jinja2/environment.py\", line 1010, in get_template\n",
      "    return self._load_template(name, globals)\n",
      "           ^^^^^^^^^^^^^^^^^^^^^^^^^^^^^^^^^^\n",
      "  File \"/usr/lib/python3.11/site-packages/jinja2/environment.py\", line 969, in _load_template\n",
      "    template = self.loader.load(self, name, self.make_globals(globals))\n",
      "               ^^^^^^^^^^^^^^^^^^^^^^^^^^^^^^^^^^^^^^^^^^^^^^^^^^^^^^^^\n",
      "  File \"/usr/lib/python3.11/site-packages/jinja2/loaders.py\", line 126, in load\n",
      "    source, filename, uptodate = self.get_source(environment, name)\n",
      "                                 ^^^^^^^^^^^^^^^^^^^^^^^^^^^^^^^^^^\n",
      "  File \"/usr/lib/python3.11/site-packages/jinja2/loaders.py\", line 218, in get_source\n",
      "    raise TemplateNotFound(template)\n",
      "jinja2.exceptions.TemplateNotFound: frontend/index.html\n",
      "\n",
      "The above exception was the direct cause of the following exception:\n",
      "\n",
      "Traceback (most recent call last):\n",
      "  File \"/usr/lib/python3.11/site-packages/uvicorn/protocols/http/httptools_impl.py\", line 426, in run_asgi\n",
      "    result = await app(  # type: ignore[func-returns-value]\n",
      "             ^^^^^^^^^^^^^^^^^^^^^^^^^^^^^^^^^^^^^^^^^^^^^^\n",
      "  File \"/usr/lib/python3.11/site-packages/uvicorn/middleware/proxy_headers.py\", line 84, in __call__\n",
      "    return await self.app(scope, receive, send)\n",
      "           ^^^^^^^^^^^^^^^^^^^^^^^^^^^^^^^^^^^^\n",
      "  File \"/usr/lib/python3.11/site-packages/fastapi/applications.py\", line 292, in __call__\n",
      "    await super().__call__(scope, receive, send)\n",
      "  File \"/usr/lib/python3.11/site-packages/starlette/applications.py\", line 116, in __call__\n",
      "    await self.middleware_stack(scope, receive, send)\n",
      "  File \"/usr/lib/python3.11/site-packages/starlette/middleware/errors.py\", line 186, in __call__\n",
      "    raise exc\n",
      "  File \"/usr/lib/python3.11/site-packages/starlette/middleware/errors.py\", line 164, in __call__\n",
      "    await self.app(scope, receive, _send)\n",
      "  File \"/usr/lib/python3.11/site-packages/starlette/middleware/cors.py\", line 83, in __call__\n",
      "    await self.app(scope, receive, send)\n",
      "  File \"/usr/lib/python3.11/site-packages/starlette/middleware/exceptions.py\", line 62, in __call__\n",
      "    await wrap_app_handling_exceptions(self.app, conn)(scope, receive, send)\n",
      "  File \"/usr/lib/python3.11/site-packages/starlette/_exception_handler.py\", line 55, in wrapped_app\n",
      "    raise exc\n",
      "  File \"/usr/lib/python3.11/site-packages/starlette/_exception_handler.py\", line 44, in wrapped_app\n",
      "    await app(scope, receive, sender)\n",
      "  File \"/usr/lib/python3.11/site-packages/fastapi/middleware/asyncexitstack.py\", line 20, in __call__\n",
      "    raise e\n",
      "  File \"/usr/lib/python3.11/site-packages/fastapi/middleware/asyncexitstack.py\", line 17, in __call__\n",
      "    await self.app(scope, receive, send)\n",
      "  File \"/usr/lib/python3.11/site-packages/starlette/routing.py\", line 746, in __call__\n",
      "    await route.handle(scope, receive, send)\n",
      "  File \"/usr/lib/python3.11/site-packages/starlette/routing.py\", line 288, in handle\n",
      "    await self.app(scope, receive, send)\n",
      "  File \"/usr/lib/python3.11/site-packages/starlette/routing.py\", line 75, in app\n",
      "    await wrap_app_handling_exceptions(app, request)(scope, receive, send)\n",
      "  File \"/usr/lib/python3.11/site-packages/starlette/_exception_handler.py\", line 55, in wrapped_app\n",
      "    raise exc\n",
      "  File \"/usr/lib/python3.11/site-packages/starlette/_exception_handler.py\", line 44, in wrapped_app\n",
      "    await app(scope, receive, sender)\n",
      "  File \"/usr/lib/python3.11/site-packages/starlette/routing.py\", line 70, in app\n",
      "    response = await func(request)\n",
      "               ^^^^^^^^^^^^^^^^^^^\n",
      "  File \"/usr/lib/python3.11/site-packages/fastapi/routing.py\", line 273, in app\n",
      "    raw_response = await run_endpoint_function(\n",
      "                   ^^^^^^^^^^^^^^^^^^^^^^^^^^^^\n",
      "  File \"/usr/lib/python3.11/site-packages/fastapi/routing.py\", line 192, in run_endpoint_function\n",
      "    return await run_in_threadpool(dependant.call, **values)\n",
      "           ^^^^^^^^^^^^^^^^^^^^^^^^^^^^^^^^^^^^^^^^^^^^^^^^^\n",
      "  File \"/usr/lib/python3.11/site-packages/starlette/concurrency.py\", line 35, in run_in_threadpool\n",
      "    return await anyio.to_thread.run_sync(func, *args)\n",
      "           ^^^^^^^^^^^^^^^^^^^^^^^^^^^^^^^^^^^^^^^^^^^\n",
      "  File \"/usr/lib/python3.11/site-packages/anyio/to_thread.py\", line 33, in run_sync\n",
      "    return await get_asynclib().run_sync_in_worker_thread(\n",
      "           ^^^^^^^^^^^^^^^^^^^^^^^^^^^^^^^^^^^^^^^^^^^^^^^\n",
      "  File \"/usr/lib/python3.11/site-packages/anyio/_backends/_asyncio.py\", line 877, in run_sync_in_worker_thread\n",
      "    return await future\n",
      "           ^^^^^^^^^^^^\n",
      "  File \"/usr/lib/python3.11/site-packages/anyio/_backends/_asyncio.py\", line 807, in run\n",
      "    result = context.run(func, *args)\n",
      "             ^^^^^^^^^^^^^^^^^^^^^^^^\n",
      "  File \"/usr/lib/python3.11/site-packages/gradio/routes.py\", line 293, in main\n",
      "    raise ValueError(\n",
      "ValueError: Did you install Gradio from source files? You need to build the frontend by running /scripts/build_frontend.sh\n"
     ]
    },
    {
     "ename": "ValueError",
     "evalue": "When localhost is not accessible, a shareable link must be created. Please set share=True or check your proxy settings to allow access to localhost.",
     "output_type": "error",
     "traceback": [
      "\u001b[0;31m---------------------------------------------------------------------------\u001b[0m",
      "\u001b[0;31mValueError\u001b[0m                                Traceback (most recent call last)",
      "\u001b[1;32m/home/stanley/Documents/shidder/ml/pytorch-deep-learning/self/mnist_gradio/num_track/main.ipynb Cell 70\u001b[0m line \u001b[0;36m1\n\u001b[1;32m      <a href='vscode-notebook-cell:/home/stanley/Documents/shidder/ml/pytorch-deep-learning/self/mnist_gradio/num_track/main.ipynb#Y126sZmlsZQ%3D%3D?line=3'>4</a>\u001b[0m     \u001b[39mreturn\u001b[39;00m \u001b[39m\"\u001b[39m\u001b[39mHello \u001b[39m\u001b[39m\"\u001b[39m \u001b[39m+\u001b[39m name \u001b[39m+\u001b[39m \u001b[39m\"\u001b[39m\u001b[39m!\u001b[39m\u001b[39m\"\u001b[39m\n\u001b[1;32m      <a href='vscode-notebook-cell:/home/stanley/Documents/shidder/ml/pytorch-deep-learning/self/mnist_gradio/num_track/main.ipynb#Y126sZmlsZQ%3D%3D?line=5'>6</a>\u001b[0m demo \u001b[39m=\u001b[39m gr\u001b[39m.\u001b[39mInterface(\n\u001b[1;32m      <a href='vscode-notebook-cell:/home/stanley/Documents/shidder/ml/pytorch-deep-learning/self/mnist_gradio/num_track/main.ipynb#Y126sZmlsZQ%3D%3D?line=6'>7</a>\u001b[0m     fn\u001b[39m=\u001b[39mgreet,\n\u001b[1;32m      <a href='vscode-notebook-cell:/home/stanley/Documents/shidder/ml/pytorch-deep-learning/self/mnist_gradio/num_track/main.ipynb#Y126sZmlsZQ%3D%3D?line=7'>8</a>\u001b[0m     inputs\u001b[39m=\u001b[39mgr\u001b[39m.\u001b[39mTextbox(lines\u001b[39m=\u001b[39m\u001b[39m2\u001b[39m, placeholder\u001b[39m=\u001b[39m\u001b[39m\"\u001b[39m\u001b[39mName Here...\u001b[39m\u001b[39m\"\u001b[39m),\n\u001b[1;32m      <a href='vscode-notebook-cell:/home/stanley/Documents/shidder/ml/pytorch-deep-learning/self/mnist_gradio/num_track/main.ipynb#Y126sZmlsZQ%3D%3D?line=8'>9</a>\u001b[0m     outputs\u001b[39m=\u001b[39m\u001b[39m\"\u001b[39m\u001b[39mtext\u001b[39m\u001b[39m\"\u001b[39m,\n\u001b[1;32m     <a href='vscode-notebook-cell:/home/stanley/Documents/shidder/ml/pytorch-deep-learning/self/mnist_gradio/num_track/main.ipynb#Y126sZmlsZQ%3D%3D?line=9'>10</a>\u001b[0m )\n\u001b[0;32m---> <a href='vscode-notebook-cell:/home/stanley/Documents/shidder/ml/pytorch-deep-learning/self/mnist_gradio/num_track/main.ipynb#Y126sZmlsZQ%3D%3D?line=10'>11</a>\u001b[0m demo\u001b[39m.\u001b[39;49mlaunch()\n",
      "File \u001b[0;32m/usr/lib/python3.11/site-packages/gradio/blocks.py:1974\u001b[0m, in \u001b[0;36mBlocks.launch\u001b[0;34m(self, inline, inbrowser, share, debug, enable_queue, max_threads, auth, auth_message, prevent_thread_lock, show_error, server_name, server_port, show_tips, height, width, encrypt, favicon_path, ssl_keyfile, ssl_certfile, ssl_keyfile_password, ssl_verify, quiet, show_api, file_directories, allowed_paths, blocked_paths, root_path, _frontend, app_kwargs)\u001b[0m\n\u001b[1;32m   1966\u001b[0m \u001b[39m# If running in a colab or not able to access localhost,\u001b[39;00m\n\u001b[1;32m   1967\u001b[0m \u001b[39m# a shareable link must be created.\u001b[39;00m\n\u001b[1;32m   1968\u001b[0m \u001b[39mif\u001b[39;00m (\n\u001b[1;32m   1969\u001b[0m     _frontend\n\u001b[1;32m   1970\u001b[0m     \u001b[39mand\u001b[39;00m \u001b[39mnot\u001b[39;00m wasm_utils\u001b[39m.\u001b[39mIS_WASM\n\u001b[1;32m   1971\u001b[0m     \u001b[39mand\u001b[39;00m \u001b[39mnot\u001b[39;00m networking\u001b[39m.\u001b[39murl_ok(\u001b[39mself\u001b[39m\u001b[39m.\u001b[39mlocal_url)\n\u001b[1;32m   1972\u001b[0m     \u001b[39mand\u001b[39;00m \u001b[39mnot\u001b[39;00m \u001b[39mself\u001b[39m\u001b[39m.\u001b[39mshare\n\u001b[1;32m   1973\u001b[0m ):\n\u001b[0;32m-> 1974\u001b[0m     \u001b[39mraise\u001b[39;00m \u001b[39mValueError\u001b[39;00m(\n\u001b[1;32m   1975\u001b[0m         \u001b[39m\"\u001b[39m\u001b[39mWhen localhost is not accessible, a shareable link must be created. Please set share=True or check your proxy settings to allow access to localhost.\u001b[39m\u001b[39m\"\u001b[39m\n\u001b[1;32m   1976\u001b[0m     )\n\u001b[1;32m   1978\u001b[0m \u001b[39mif\u001b[39;00m \u001b[39mself\u001b[39m\u001b[39m.\u001b[39mis_colab:\n\u001b[1;32m   1979\u001b[0m     \u001b[39mif\u001b[39;00m \u001b[39mnot\u001b[39;00m quiet:\n",
      "\u001b[0;31mValueError\u001b[0m: When localhost is not accessible, a shareable link must be created. Please set share=True or check your proxy settings to allow access to localhost."
     ]
    },
    {
     "name": "stderr",
     "output_type": "stream",
     "text": [
      "ERROR:    Exception in ASGI application\n",
      "Traceback (most recent call last):\n",
      "  File \"/usr/lib/python3.11/site-packages/gradio/routes.py\", line 282, in main\n",
      "    return templates.TemplateResponse(\n",
      "           ^^^^^^^^^^^^^^^^^^^^^^^^^^^\n",
      "  File \"/usr/lib/python3.11/site-packages/starlette/templating.py\", line 225, in TemplateResponse\n",
      "    template = self.get_template(name)\n",
      "               ^^^^^^^^^^^^^^^^^^^^^^^\n",
      "  File \"/usr/lib/python3.11/site-packages/starlette/templating.py\", line 139, in get_template\n",
      "    return self.env.get_template(name)\n",
      "           ^^^^^^^^^^^^^^^^^^^^^^^^^^^\n",
      "  File \"/usr/lib/python3.11/site-packages/jinja2/environment.py\", line 1010, in get_template\n",
      "    return self._load_template(name, globals)\n",
      "           ^^^^^^^^^^^^^^^^^^^^^^^^^^^^^^^^^^\n",
      "  File \"/usr/lib/python3.11/site-packages/jinja2/environment.py\", line 969, in _load_template\n",
      "    template = self.loader.load(self, name, self.make_globals(globals))\n",
      "               ^^^^^^^^^^^^^^^^^^^^^^^^^^^^^^^^^^^^^^^^^^^^^^^^^^^^^^^^\n",
      "  File \"/usr/lib/python3.11/site-packages/jinja2/loaders.py\", line 126, in load\n",
      "    source, filename, uptodate = self.get_source(environment, name)\n",
      "                                 ^^^^^^^^^^^^^^^^^^^^^^^^^^^^^^^^^^\n",
      "  File \"/usr/lib/python3.11/site-packages/jinja2/loaders.py\", line 218, in get_source\n",
      "    raise TemplateNotFound(template)\n",
      "jinja2.exceptions.TemplateNotFound: frontend/index.html\n",
      "\n",
      "The above exception was the direct cause of the following exception:\n",
      "\n",
      "Traceback (most recent call last):\n",
      "  File \"/usr/lib/python3.11/site-packages/uvicorn/protocols/http/httptools_impl.py\", line 426, in run_asgi\n",
      "    result = await app(  # type: ignore[func-returns-value]\n",
      "             ^^^^^^^^^^^^^^^^^^^^^^^^^^^^^^^^^^^^^^^^^^^^^^\n",
      "  File \"/usr/lib/python3.11/site-packages/uvicorn/middleware/proxy_headers.py\", line 84, in __call__\n",
      "    return await self.app(scope, receive, send)\n",
      "           ^^^^^^^^^^^^^^^^^^^^^^^^^^^^^^^^^^^^\n",
      "  File \"/usr/lib/python3.11/site-packages/fastapi/applications.py\", line 292, in __call__\n",
      "    await super().__call__(scope, receive, send)\n",
      "  File \"/usr/lib/python3.11/site-packages/starlette/applications.py\", line 116, in __call__\n",
      "    await self.middleware_stack(scope, receive, send)\n",
      "  File \"/usr/lib/python3.11/site-packages/starlette/middleware/errors.py\", line 186, in __call__\n",
      "    raise exc\n",
      "  File \"/usr/lib/python3.11/site-packages/starlette/middleware/errors.py\", line 164, in __call__\n",
      "    await self.app(scope, receive, _send)\n",
      "  File \"/usr/lib/python3.11/site-packages/starlette/middleware/cors.py\", line 83, in __call__\n",
      "    await self.app(scope, receive, send)\n",
      "  File \"/usr/lib/python3.11/site-packages/starlette/middleware/exceptions.py\", line 62, in __call__\n",
      "    await wrap_app_handling_exceptions(self.app, conn)(scope, receive, send)\n",
      "  File \"/usr/lib/python3.11/site-packages/starlette/_exception_handler.py\", line 55, in wrapped_app\n",
      "    raise exc\n",
      "  File \"/usr/lib/python3.11/site-packages/starlette/_exception_handler.py\", line 44, in wrapped_app\n",
      "    await app(scope, receive, sender)\n",
      "  File \"/usr/lib/python3.11/site-packages/fastapi/middleware/asyncexitstack.py\", line 20, in __call__\n",
      "    raise e\n",
      "  File \"/usr/lib/python3.11/site-packages/fastapi/middleware/asyncexitstack.py\", line 17, in __call__\n",
      "    await self.app(scope, receive, send)\n",
      "  File \"/usr/lib/python3.11/site-packages/starlette/routing.py\", line 746, in __call__\n",
      "    await route.handle(scope, receive, send)\n",
      "  File \"/usr/lib/python3.11/site-packages/starlette/routing.py\", line 288, in handle\n",
      "    await self.app(scope, receive, send)\n",
      "  File \"/usr/lib/python3.11/site-packages/starlette/routing.py\", line 75, in app\n",
      "    await wrap_app_handling_exceptions(app, request)(scope, receive, send)\n",
      "  File \"/usr/lib/python3.11/site-packages/starlette/_exception_handler.py\", line 55, in wrapped_app\n",
      "    raise exc\n",
      "  File \"/usr/lib/python3.11/site-packages/starlette/_exception_handler.py\", line 44, in wrapped_app\n",
      "    await app(scope, receive, sender)\n",
      "  File \"/usr/lib/python3.11/site-packages/starlette/routing.py\", line 70, in app\n",
      "    response = await func(request)\n",
      "               ^^^^^^^^^^^^^^^^^^^\n",
      "  File \"/usr/lib/python3.11/site-packages/fastapi/routing.py\", line 273, in app\n",
      "    raw_response = await run_endpoint_function(\n",
      "                   ^^^^^^^^^^^^^^^^^^^^^^^^^^^^\n",
      "  File \"/usr/lib/python3.11/site-packages/fastapi/routing.py\", line 192, in run_endpoint_function\n",
      "    return await run_in_threadpool(dependant.call, **values)\n",
      "           ^^^^^^^^^^^^^^^^^^^^^^^^^^^^^^^^^^^^^^^^^^^^^^^^^\n",
      "  File \"/usr/lib/python3.11/site-packages/starlette/concurrency.py\", line 35, in run_in_threadpool\n",
      "    return await anyio.to_thread.run_sync(func, *args)\n",
      "           ^^^^^^^^^^^^^^^^^^^^^^^^^^^^^^^^^^^^^^^^^^^\n",
      "  File \"/usr/lib/python3.11/site-packages/anyio/to_thread.py\", line 33, in run_sync\n",
      "    return await get_asynclib().run_sync_in_worker_thread(\n",
      "           ^^^^^^^^^^^^^^^^^^^^^^^^^^^^^^^^^^^^^^^^^^^^^^^\n",
      "  File \"/usr/lib/python3.11/site-packages/anyio/_backends/_asyncio.py\", line 877, in run_sync_in_worker_thread\n",
      "    return await future\n",
      "           ^^^^^^^^^^^^\n",
      "  File \"/usr/lib/python3.11/site-packages/anyio/_backends/_asyncio.py\", line 807, in run\n",
      "    result = context.run(func, *args)\n",
      "             ^^^^^^^^^^^^^^^^^^^^^^^^\n",
      "  File \"/usr/lib/python3.11/site-packages/gradio/routes.py\", line 293, in main\n",
      "    raise ValueError(\n",
      "ValueError: Did you install Gradio from source files? You need to build the frontend by running /scripts/build_frontend.sh\n"
     ]
    }
   ],
   "source": [
    "import gradio as gr\n",
    "\n",
    "def greet(name):\n",
    "    return \"Hello \" + name + \"!\"\n",
    "\n",
    "demo = gr.Interface(\n",
    "    fn=greet,\n",
    "    inputs=gr.Textbox(lines=2, placeholder=\"Name Here...\"),\n",
    "    outputs=\"text\",\n",
    ")\n",
    "demo.launch()\n"
   ]
  }
 ],
 "metadata": {
  "kernelspec": {
   "display_name": "Python 3",
   "language": "python",
   "name": "python3"
  },
  "language_info": {
   "codemirror_mode": {
    "name": "ipython",
    "version": 3
   },
   "file_extension": ".py",
   "mimetype": "text/x-python",
   "name": "python",
   "nbconvert_exporter": "python",
   "pygments_lexer": "ipython3",
   "version": "3.11.5"
  },
  "orig_nbformat": 4
 },
 "nbformat": 4,
 "nbformat_minor": 2
}
