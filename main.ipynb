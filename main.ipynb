{
 "cells": [
  {
   "cell_type": "code",
   "execution_count": 1,
   "metadata": {},
   "outputs": [],
   "source": [
    "try:\n",
    "    import torch\n",
    "    from torch import nn\n",
    "    from torch.utils.data import DataLoader\n",
    "\n",
    "    import torchvision\n",
    "    from torchvision import transforms\n",
    "    from torchvision import datasets\n",
    "\n",
    "    import torchmetrics\n",
    "\n",
    "    import matplotlib.pyplot as plt\n",
    "except:\n",
    "    !pip install torch\n",
    "    !pip install torchvision\n",
    "    !pip install matplotlib\n",
    "    !pip install torchmetrics\n",
    "    \n",
    "    import torch\n",
    "    from torch import nn\n",
    "    from torch.utils.data import DataLoader\n",
    "\n",
    "    import torchvision\n",
    "    from torchvision import transforms\n",
    "    from torchvision import datasets\n",
    "\n",
    "    import matplotlib.pyplot as plt"
   ]
  },
  {
   "cell_type": "code",
   "execution_count": 2,
   "metadata": {},
   "outputs": [],
   "source": [
    "#making code dvice agnostic\n",
    "device = 'cuda' if torch.cuda.is_available() else 'cpu'"
   ]
  },
  {
   "cell_type": "code",
   "execution_count": 3,
   "metadata": {},
   "outputs": [
    {
     "name": "stdout",
     "output_type": "stream",
     "text": [
      "2.0.1\n"
     ]
    }
   ],
   "source": [
    "print(torch.__version__)"
   ]
  },
  {
   "cell_type": "code",
   "execution_count": 4,
   "metadata": {},
   "outputs": [
    {
     "data": {
      "text/plain": [
       "(PosixPath('datasets/training_set'), PosixPath('datasets/test_set'))"
      ]
     },
     "execution_count": 4,
     "metadata": {},
     "output_type": "execute_result"
    }
   ],
   "source": [
    "from pathlib import Path\n",
    "TRAINING_SET_PATH = Path('datasets/training_set')\n",
    "TEST_SET_PATH = Path('datasets/test_set')\n",
    "\n",
    "TRAINING_SET_PATH, TEST_SET_PATH"
   ]
  },
  {
   "cell_type": "code",
   "execution_count": 5,
   "metadata": {},
   "outputs": [],
   "source": [
    "#importing the datasets from torchvision.datasets\n",
    "train_data = datasets.MNIST(\n",
    "    root=TRAINING_SET_PATH,\n",
    "    download=True,\n",
    "    train=True,\n",
    "    transform=transforms.ToTensor(),\n",
    "    target_transform=None\n",
    ")\n",
    "\n",
    "test_data = datasets.MNIST(\n",
    "    root=TEST_SET_PATH,\n",
    "    train=False, #testset\n",
    "    download=True,\n",
    "    transform=transforms.ToTensor(),\n",
    "    target_transform=None\n",
    ")"
   ]
  },
  {
   "cell_type": "code",
   "execution_count": 6,
   "metadata": {},
   "outputs": [
    {
     "data": {
      "text/plain": [
       "Dataset MNIST\n",
       "    Number of datapoints: 60000\n",
       "    Root location: datasets/training_set\n",
       "    Split: Train\n",
       "    StandardTransform\n",
       "Transform: ToTensor()"
      ]
     },
     "execution_count": 6,
     "metadata": {},
     "output_type": "execute_result"
    }
   ],
   "source": [
    "train_data"
   ]
  },
  {
   "cell_type": "code",
   "execution_count": 7,
   "metadata": {},
   "outputs": [
    {
     "data": {
      "text/plain": [
       "2"
      ]
     },
     "execution_count": 7,
     "metadata": {},
     "output_type": "execute_result"
    }
   ],
   "source": [
    "len(train_data[0])"
   ]
  },
  {
   "cell_type": "code",
   "execution_count": 8,
   "metadata": {},
   "outputs": [
    {
     "data": {
      "text/plain": [
       "5"
      ]
     },
     "execution_count": 8,
     "metadata": {},
     "output_type": "execute_result"
    }
   ],
   "source": [
    "train_data[0][1]"
   ]
  },
  {
   "cell_type": "code",
   "execution_count": 9,
   "metadata": {},
   "outputs": [],
   "source": [
    "image, label = train_data[0]"
   ]
  },
  {
   "cell_type": "code",
   "execution_count": 10,
   "metadata": {},
   "outputs": [
    {
     "data": {
      "text/plain": [
       "5"
      ]
     },
     "execution_count": 10,
     "metadata": {},
     "output_type": "execute_result"
    }
   ],
   "source": [
    "label"
   ]
  },
  {
   "cell_type": "code",
   "execution_count": 11,
   "metadata": {},
   "outputs": [
    {
     "data": {
      "text/plain": [
       "torch.Size([1, 28, 28])"
      ]
     },
     "execution_count": 11,
     "metadata": {},
     "output_type": "execute_result"
    }
   ],
   "source": [
    "#to get the dimension of an image\n",
    "image.shape"
   ]
  },
  {
   "cell_type": "markdown",
   "metadata": {},
   "source": [
    "Image is black and white"
   ]
  },
  {
   "cell_type": "code",
   "execution_count": 12,
   "metadata": {},
   "outputs": [
    {
     "data": {
      "text/plain": [
       "['0 - zero',\n",
       " '1 - one',\n",
       " '2 - two',\n",
       " '3 - three',\n",
       " '4 - four',\n",
       " '5 - five',\n",
       " '6 - six',\n",
       " '7 - seven',\n",
       " '8 - eight',\n",
       " '9 - nine']"
      ]
     },
     "execution_count": 12,
     "metadata": {},
     "output_type": "execute_result"
    }
   ],
   "source": [
    "train_data.classes"
   ]
  },
  {
   "cell_type": "code",
   "execution_count": 13,
   "metadata": {},
   "outputs": [
    {
     "data": {
      "text/plain": [
       "60000"
      ]
     },
     "execution_count": 13,
     "metadata": {},
     "output_type": "execute_result"
    }
   ],
   "source": [
    "len(train_data.targets)"
   ]
  },
  {
   "cell_type": "code",
   "execution_count": 14,
   "metadata": {},
   "outputs": [
    {
     "data": {
      "text/plain": [
       "10000"
      ]
     },
     "execution_count": 14,
     "metadata": {},
     "output_type": "execute_result"
    }
   ],
   "source": [
    "len(test_data.targets)"
   ]
  },
  {
   "cell_type": "code",
   "execution_count": 15,
   "metadata": {},
   "outputs": [
    {
     "data": {
      "text/plain": [
       "'5 - five'"
      ]
     },
     "execution_count": 15,
     "metadata": {},
     "output_type": "execute_result"
    }
   ],
   "source": [
    "class_names = train_data.classes\n",
    "class_names[1]\n",
    "class_names[label]"
   ]
  },
  {
   "cell_type": "code",
   "execution_count": 16,
   "metadata": {},
   "outputs": [
    {
     "data": {
      "text/plain": [
       "torch.Size([1, 28, 28])"
      ]
     },
     "execution_count": 16,
     "metadata": {},
     "output_type": "execute_result"
    }
   ],
   "source": [
    "image.shape"
   ]
  },
  {
   "cell_type": "code",
   "execution_count": 17,
   "metadata": {},
   "outputs": [
    {
     "data": {
      "text/plain": [
       "torch.Size([28, 28])"
      ]
     },
     "execution_count": 17,
     "metadata": {},
     "output_type": "execute_result"
    }
   ],
   "source": [
    "image.squeeze().shape"
   ]
  },
  {
   "cell_type": "markdown",
   "metadata": {},
   "source": [
    "#### were working with `60000` train data samples and `10000` test data samples"
   ]
  },
  {
   "cell_type": "markdown",
   "metadata": {},
   "source": [
    ">## visualizing"
   ]
  },
  {
   "cell_type": "code",
   "execution_count": 18,
   "metadata": {},
   "outputs": [
    {
     "data": {
      "image/png": "[encoded data removed]",
      "text/plain": [
       "<Figure size 1000x1000 with 9 Axes>"
      ]
     },
     "metadata": {},
     "output_type": "display_data"
    }
   ],
   "source": [
    "#visualizing\n",
    "sample_grid = plt.figure(figsize=(10,10))\n",
    "rows, cols = 3, 3\n",
    "for i in range (1,rows*cols+1):\n",
    "    random_no = torch.randint(0,len(train_data), size=[1]).item()\n",
    "    image, label = train_data[random_no]\n",
    "    sample_grid.add_subplot(rows, cols, i)\n",
    "    plt.axis(False)\n",
    "    plt.title(class_names[label], c='b')\n",
    "    plt.imshow(image.squeeze()) #we need to squeeze as matplotlib only takes in 2d\n",
    "    "
   ]
  },
  {
   "cell_type": "code",
   "execution_count": 19,
   "metadata": {},
   "outputs": [
    {
     "data": {
      "text/plain": [
       "0.6937690377235413"
      ]
     },
     "execution_count": 19,
     "metadata": {},
     "output_type": "execute_result"
    }
   ],
   "source": [
    "rand = torch.rand(size=(1,))\n",
    "rand.item()"
   ]
  },
  {
   "cell_type": "code",
   "execution_count": 20,
   "metadata": {},
   "outputs": [
    {
     "data": {
      "text/plain": [
       "44803"
      ]
     },
     "execution_count": 20,
     "metadata": {},
     "output_type": "execute_result"
    }
   ],
   "source": [
    "rand1 = torch.randint(0, len(train_data),size=[1])\n",
    "rand1.item()"
   ]
  },
  {
   "cell_type": "markdown",
   "metadata": {},
   "source": [
    ">## loading data"
   ]
  },
  {
   "cell_type": "code",
   "execution_count": 21,
   "metadata": {},
   "outputs": [
    {
     "data": {
      "text/plain": [
       "(1875, 313)"
      ]
     },
     "execution_count": 21,
     "metadata": {},
     "output_type": "execute_result"
    }
   ],
   "source": [
    "BATCH_SIZE = 32 #const\n",
    "\n",
    "train_dataloader = DataLoader(\n",
    "    dataset=train_data,\n",
    "    batch_size=BATCH_SIZE,\n",
    "    shuffle=True\n",
    ")\n",
    "\n",
    "test_dataloader = DataLoader(\n",
    "    dataset=test_data,\n",
    "    batch_size=BATCH_SIZE \n",
    ")\n",
    "\n",
    "len(train_dataloader), len(test_dataloader)\n"
   ]
  },
  {
   "cell_type": "code",
   "execution_count": 22,
   "metadata": {},
   "outputs": [
    {
     "data": {
      "text/plain": [
       "60000"
      ]
     },
     "execution_count": 22,
     "metadata": {},
     "output_type": "execute_result"
    }
   ],
   "source": [
    "32*1875"
   ]
  },
  {
   "cell_type": "code",
   "execution_count": 23,
   "metadata": {},
   "outputs": [
    {
     "data": {
      "text/plain": [
       "60000"
      ]
     },
     "execution_count": 23,
     "metadata": {},
     "output_type": "execute_result"
    }
   ],
   "source": [
    "len(train_data)"
   ]
  },
  {
   "cell_type": "code",
   "execution_count": 24,
   "metadata": {},
   "outputs": [
    {
     "data": {
      "text/plain": [
       "(torch.Size([32, 1, 28, 28]), torch.Size([32]))"
      ]
     },
     "execution_count": 24,
     "metadata": {},
     "output_type": "execute_result"
    }
   ],
   "source": [
    "X_train_batch, y_train_batch = next(iter(train_dataloader))\n",
    "X_train_batch.shape, y_train_batch.shape"
   ]
  },
  {
   "cell_type": "code",
   "execution_count": 25,
   "metadata": {},
   "outputs": [
    {
     "data": {
      "text/plain": [
       "torch.Size([1, 28, 28])"
      ]
     },
     "execution_count": 25,
     "metadata": {},
     "output_type": "execute_result"
    }
   ],
   "source": [
    "X_train_batch[0].shape"
   ]
  },
  {
   "cell_type": "code",
   "execution_count": 26,
   "metadata": {},
   "outputs": [
    {
     "data": {
      "text/plain": [
       "32"
      ]
     },
     "execution_count": 26,
     "metadata": {},
     "output_type": "execute_result"
    }
   ],
   "source": [
    "len(X_train_batch)"
   ]
  },
  {
   "cell_type": "code",
   "execution_count": 27,
   "metadata": {},
   "outputs": [
    {
     "data": {
      "text/plain": [
       "<matplotlib.image.AxesImage at 0x7f2fb9042450>"
      ]
     },
     "execution_count": 27,
     "metadata": {},
     "output_type": "execute_result"
    },
    {
     "data": {
      "image/png": "[encoded data removed]",
      "text/plain": [
       "<Figure size 640x480 with 1 Axes>"
      ]
     },
     "metadata": {},
     "output_type": "display_data"
    }
   ],
   "source": [
    "#random train image visual\n",
    "random_no2 = torch.randint(0, len(X_train_batch), size=[1]).item()\n",
    "plt.imshow(X_train_batch[random_no2].squeeze())"
   ]
  },
  {
   "cell_type": "markdown",
   "metadata": {},
   "source": [
    ">## Model ARch"
   ]
  },
  {
   "cell_type": "code",
   "execution_count": 28,
   "metadata": {},
   "outputs": [],
   "source": [
    "class MNISTModelV1(nn.Module):\n",
    "    \"\"\"\n",
    "    TinyVGG model Arch.\n",
    "    mddel from CNN explainers website https://poloclub.github.io/cnn-explainer/\n",
    "    \"\"\"\n",
    "\n",
    "    def __init__(self, \n",
    "                 input_shape: int,\n",
    "                 hidden_units: int,\n",
    "                 output_shape: int):\n",
    "        super().__init__()\n",
    "        self.conv_block_1 = nn.Sequential(\n",
    "            #create a conv layer\n",
    "            nn.Conv2d(in_channels=input_shape,\n",
    "                      out_channels=hidden_units,\n",
    "                      kernel_size=3,\n",
    "                      stride=1,\n",
    "                      padding=1), #values wew can set ourselfs are called hyperparameters called nn conv2d\n",
    "            nn.ReLU(),\n",
    "            nn.Conv2d(in_channels=hidden_units,\n",
    "                      out_channels=hidden_units,\n",
    "                      kernel_size=3,\n",
    "                      stride=1,\n",
    "                      padding=1),    \n",
    "            nn.ReLU(),\n",
    "            nn.MaxPool2d(kernel_size=2)          \n",
    "        )\n",
    "\n",
    "        self.conv_block_2 = nn.Sequential(\n",
    "            nn.Conv2d(in_channels=hidden_units,\n",
    "                      out_channels=hidden_units,\n",
    "                      kernel_size=3,\n",
    "                      stride=1,\n",
    "                      padding=1),\n",
    "            nn.ReLU(),\n",
    "            nn.Conv2d(in_channels=hidden_units,\n",
    "                     out_channels=hidden_units,\n",
    "                     kernel_size=3,\n",
    "                     stride=1,\n",
    "                     padding=1),\n",
    "                     \n",
    "            nn.ReLU(),\n",
    "            nn.MaxPool2d(kernel_size=2)   \n",
    "        )\n",
    "\n",
    "        self.classifier = nn.Sequential(\n",
    "            nn.Flatten(),\n",
    "            nn.Linear(in_features=hidden_units*7*7,#there is a trick to calculate this!\n",
    "                      out_features=output_shape),\n",
    "            \n",
    "        )\n",
    "    def forward(self, x: torch.Tensor) -> torch.Tensor:\n",
    "        x = self.conv_block_1(x)\n",
    "        x = self.conv_block_2(x)\n",
    "        # print(\"output shape fp conv layer 2\",x.shape) #use this to get dim of in features in classification layer\n",
    "        x = self.classifier(x)\n",
    "        return x\n"
   ]
  },
  {
   "cell_type": "code",
   "execution_count": 29,
   "metadata": {},
   "outputs": [
    {
     "data": {
      "text/plain": [
       "tensor([[ 0.0305,  0.1323, -0.0695,  0.0487, -0.0476, -0.0062, -0.0229,  0.0230,\n",
       "         -0.1183,  0.0365]], device='cuda:0', grad_fn=<AddmmBackward0>)"
      ]
     },
     "execution_count": 29,
     "metadata": {},
     "output_type": "execute_result"
    }
   ],
   "source": [
    "#pass rand_tensor of similar dims into model to get dim after nn.flatten()\n",
    "rand_image_tensor = torch.randn(size=(1,28,28))\n",
    "model_1 = MNISTModelV1(input_shape=1,\n",
    "                              hidden_units=10,\n",
    "                              output_shape=len(class_names)).to(device)\n",
    "model_1(rand_image_tensor.unsqueeze(dim=0).to(device=device))"
   ]
  },
  {
   "cell_type": "code",
   "execution_count": 30,
   "metadata": {},
   "outputs": [],
   "source": [
    "def train_step(model: torch.nn.Module,\n",
    "               data_loader: torch.utils.data.DataLoader,\n",
    "               loss_fn: torch.nn.Module,\n",
    "               optimizer: torch.optim.Optimizer,\n",
    "               accuracy_fn,\n",
    "               device: torch.device = device):\n",
    "    train_loss, train_acc = 0, 0\n",
    "    model.to(device)\n",
    "    for batch, (X, y) in enumerate(data_loader):\n",
    "        X, y = X.to(device), y.to(device)\n",
    "        y_pred = model(X)\n",
    "        loss = loss_fn(y_pred, y)\n",
    "        train_loss += loss\n",
    "        train_acc += accuracy_fn(\n",
    "                y_pred.argmax(dim=1),# Go from logits -> pred labels wihout softmax\n",
    "                y \n",
    "            ).item()*100\n",
    "        optimizer.zero_grad()\n",
    "        loss.backward()\n",
    "        optimizer.step()\n",
    "\n",
    "    # Calculate loss and accuracy per epoch and print out what's happening\n",
    "    train_loss /= len(data_loader)\n",
    "    train_acc /= len(data_loader)\n",
    "    print(f\"Train loss: {train_loss:.5f} | Train accuracy: {train_acc:.2f}%\")\n",
    "\n",
    "    return train_loss, train_acc\n",
    "\n"
   ]
  },
  {
   "cell_type": "code",
   "execution_count": 31,
   "metadata": {},
   "outputs": [],
   "source": [
    "def test_step(data_loader: torch.utils.data.DataLoader,\n",
    "              model: torch.nn.Module,\n",
    "              loss_fn: torch.nn.Module,\n",
    "              accuracy_fn,\n",
    "              device: torch.device = device):\n",
    "    test_loss, test_acc = 0, 0\n",
    "    model.to(device)\n",
    "    model.eval()\n",
    "    with torch.inference_mode(): \n",
    "        for X, y in data_loader:\n",
    "            X, y = X.to(device), y.to(device)\n",
    "            test_pred = model(X)\n",
    "            test_loss += loss_fn(test_pred, y)\n",
    "            test_acc += accuracy_fn(\n",
    "                test_pred.argmax(dim=1),# Go from logits -> pred labels wihout softmax\n",
    "                y \n",
    "            ).item()*100\n",
    "        \n",
    "        # Adjust metrics and print out\n",
    "        test_loss /= len(data_loader)\n",
    "        test_acc /= len(data_loader)\n",
    "        print(f\"Test loss: {test_loss:.5f} | Test accuracy: {test_acc:.2f}%\\n\")\n",
    "        \n",
    "    return test_loss, test_acc"
   ]
  },
  {
   "cell_type": "code",
   "execution_count": 32,
   "metadata": {},
   "outputs": [
    {
     "data": {
      "text/plain": [
       "OrderedDict([('conv_block_1.0.weight',\n",
       "              tensor([[[[-0.2807,  0.0255, -0.0797],\n",
       "                        [ 0.1296,  0.2547,  0.1461],\n",
       "                        [-0.0811,  0.2714,  0.2407]]],\n",
       "              \n",
       "              \n",
       "                      [[[ 0.1242, -0.2114,  0.1161],\n",
       "                        [-0.0743, -0.1118, -0.3135],\n",
       "                        [-0.1891, -0.2415, -0.1766]]],\n",
       "              \n",
       "              \n",
       "                      [[[-0.0953,  0.2702, -0.2407],\n",
       "                        [-0.2327,  0.0976, -0.1312],\n",
       "                        [-0.3306,  0.2905,  0.0196]]],\n",
       "              \n",
       "              \n",
       "                      [[[-0.0064,  0.0681, -0.0805],\n",
       "                        [-0.1969, -0.2151,  0.1569],\n",
       "                        [ 0.3309,  0.1907, -0.1801]]],\n",
       "              \n",
       "              \n",
       "                      [[[-0.1017, -0.2038, -0.1396],\n",
       "                        [-0.2166, -0.0505,  0.2183],\n",
       "                        [ 0.1542, -0.1177, -0.0212]]],\n",
       "              \n",
       "              \n",
       "                      [[[ 0.0736,  0.2658,  0.1954],\n",
       "                        [-0.1141,  0.2883, -0.1644],\n",
       "                        [-0.2429, -0.2425,  0.2555]]],\n",
       "              \n",
       "              \n",
       "                      [[[ 0.1776,  0.0492, -0.1516],\n",
       "                        [ 0.1328, -0.2741, -0.0319],\n",
       "                        [-0.2144, -0.1720,  0.2516]]],\n",
       "              \n",
       "              \n",
       "                      [[[-0.2643,  0.2085,  0.2595],\n",
       "                        [ 0.1074,  0.0670, -0.2623],\n",
       "                        [ 0.1196, -0.1836,  0.3055]]],\n",
       "              \n",
       "              \n",
       "                      [[[ 0.0309,  0.1747,  0.0065],\n",
       "                        [-0.3089, -0.3059, -0.0914],\n",
       "                        [-0.0503, -0.1041,  0.2383]]],\n",
       "              \n",
       "              \n",
       "                      [[[ 0.1339,  0.0404, -0.3000],\n",
       "                        [ 0.0496,  0.0161, -0.2485],\n",
       "                        [ 0.1511, -0.0745, -0.0268]]]], device='cuda:0')),\n",
       "             ('conv_block_1.0.bias',\n",
       "              tensor([ 0.2056,  0.1238,  0.1208, -0.3023, -0.1178,  0.0466, -0.0179, -0.1224,\n",
       "                      -0.0289, -0.2870], device='cuda:0')),\n",
       "             ('conv_block_1.2.weight',\n",
       "              tensor([[[[-5.6139e-02, -9.7528e-02,  2.9219e-03],\n",
       "                        [-4.0947e-02, -4.2548e-02,  3.3822e-02],\n",
       "                        [ 4.7947e-02, -9.8660e-02,  6.5345e-02]],\n",
       "              \n",
       "                       [[-6.5499e-02,  3.9380e-02,  8.9490e-03],\n",
       "                        [ 3.3561e-02, -1.0297e-01,  6.4230e-02],\n",
       "                        [-1.0455e-01,  9.5876e-02,  3.9117e-02]],\n",
       "              \n",
       "                       [[ 3.7453e-02, -7.2820e-02,  7.3964e-03],\n",
       "                        [-1.0257e-01,  5.0359e-02, -8.1104e-02],\n",
       "                        [ 1.0525e-01, -9.5719e-02,  9.1056e-02]],\n",
       "              \n",
       "                       [[-2.5733e-02,  4.2223e-02, -3.9475e-02],\n",
       "                        [ 5.8104e-02, -8.7212e-02, -7.8339e-02],\n",
       "                        [-5.8047e-02,  1.7536e-02, -2.8419e-02]],\n",
       "              \n",
       "                       [[-6.5744e-02,  2.4487e-02,  5.8619e-02],\n",
       "                        [-8.5089e-02,  7.1651e-02, -2.8122e-02],\n",
       "                        [ 4.0489e-02, -3.2280e-02,  2.1129e-02]],\n",
       "              \n",
       "                       [[-2.0682e-02, -2.3880e-02,  8.5345e-02],\n",
       "                        [-7.4962e-02, -5.8270e-02,  9.3444e-02],\n",
       "                        [-9.6557e-02, -9.7633e-02, -8.3434e-02]],\n",
       "              \n",
       "                       [[-2.1031e-02,  4.3736e-02, -9.0749e-02],\n",
       "                        [ 4.0779e-02,  8.8498e-02,  3.4243e-02],\n",
       "                        [ 1.1556e-02, -5.5896e-02, -3.2405e-02]],\n",
       "              \n",
       "                       [[ 9.1057e-03,  9.4190e-02, -9.0418e-03],\n",
       "                        [-7.0818e-02, -8.8029e-02,  9.4113e-02],\n",
       "                        [-7.1437e-02, -1.6519e-02,  9.6968e-02]],\n",
       "              \n",
       "                       [[-4.1511e-02, -5.2689e-02, -8.3863e-02],\n",
       "                        [ 4.5180e-02,  7.5122e-02,  4.0642e-03],\n",
       "                        [ 6.0081e-02, -6.6861e-02,  4.3268e-02]],\n",
       "              \n",
       "                       [[-1.0441e-01, -8.1537e-02, -6.1256e-02],\n",
       "                        [-4.7462e-02,  5.6052e-02, -4.8702e-02],\n",
       "                        [ 9.7889e-03,  1.5585e-02,  2.0093e-02]]],\n",
       "              \n",
       "              \n",
       "                      [[[ 6.6173e-02, -7.7690e-02,  9.6756e-02],\n",
       "                        [-3.1946e-02, -6.9736e-03,  1.0092e-01],\n",
       "                        [ 1.6368e-02,  7.9487e-02, -9.5397e-02]],\n",
       "              \n",
       "                       [[ 2.0068e-02, -6.0584e-02, -9.9166e-02],\n",
       "                        [-8.7474e-03, -9.4141e-02, -1.0419e-01],\n",
       "                        [-2.3616e-02,  1.0188e-01,  8.5864e-02]],\n",
       "              \n",
       "                       [[-3.7647e-02, -1.6702e-02,  1.8161e-02],\n",
       "                        [-4.8065e-02, -3.6407e-02,  3.4556e-02],\n",
       "                        [-6.1419e-02, -9.4998e-02, -6.1846e-02]],\n",
       "              \n",
       "                       [[-6.3618e-02, -9.1588e-02, -2.9357e-02],\n",
       "                        [ 7.1164e-02, -2.6151e-02,  6.4866e-02],\n",
       "                        [ 2.2305e-02, -1.2715e-02, -8.0194e-02]],\n",
       "              \n",
       "                       [[ 1.0085e-01,  4.8584e-02,  4.0507e-02],\n",
       "                        [-2.7975e-02, -8.5892e-02,  3.6044e-02],\n",
       "                        [ 3.5641e-02,  7.2959e-02,  2.3608e-02]],\n",
       "              \n",
       "                       [[-2.3705e-02,  7.5998e-02,  8.4191e-02],\n",
       "                        [ 7.6237e-02, -5.8292e-02, -5.6065e-02],\n",
       "                        [ 5.2088e-02, -3.2258e-02, -1.6619e-02]],\n",
       "              \n",
       "                       [[-6.6119e-02,  8.4938e-02, -9.3017e-02],\n",
       "                        [ 2.1397e-02, -9.3494e-02,  1.1893e-02],\n",
       "                        [-8.1583e-02,  9.6207e-02, -6.2713e-02]],\n",
       "              \n",
       "                       [[-5.8300e-02,  6.5708e-02, -5.1452e-02],\n",
       "                        [ 2.8268e-02,  8.6152e-02,  6.4165e-02],\n",
       "                        [-1.0038e-01, -3.7919e-02, -4.5395e-02]],\n",
       "              \n",
       "                       [[-4.1590e-02,  4.1320e-02, -1.0328e-01],\n",
       "                        [-6.3845e-02, -3.2765e-02,  1.3919e-02],\n",
       "                        [ 9.1507e-02,  7.2363e-03, -9.9644e-02]],\n",
       "              \n",
       "                       [[-2.9906e-02, -1.0225e-02,  7.3166e-02],\n",
       "                        [ 1.6750e-05,  5.1852e-02,  3.6925e-02],\n",
       "                        [ 2.3686e-02,  5.8530e-03, -6.4271e-02]]],\n",
       "              \n",
       "              \n",
       "                      [[[ 8.9375e-02, -2.4124e-02,  7.8360e-02],\n",
       "                        [-7.5180e-02,  5.4209e-02, -8.8379e-02],\n",
       "                        [-5.6938e-02,  3.2249e-02,  4.6130e-02]],\n",
       "              \n",
       "                       [[-1.9118e-02, -1.0516e-01, -2.2368e-02],\n",
       "                        [-8.7737e-02,  5.6241e-02,  5.6211e-02],\n",
       "                        [-9.0154e-02,  3.8351e-02,  1.5665e-02]],\n",
       "              \n",
       "                       [[-2.4957e-02,  3.1519e-02, -8.2636e-02],\n",
       "                        [-6.8488e-02, -5.5934e-02,  5.5040e-02],\n",
       "                        [ 1.3614e-02,  4.6367e-02, -1.8672e-02]],\n",
       "              \n",
       "                       [[-9.4017e-02, -7.8945e-02,  4.3491e-03],\n",
       "                        [ 5.3328e-02,  1.1055e-02, -2.3907e-02],\n",
       "                        [-8.4185e-02, -4.8782e-03,  4.1897e-02]],\n",
       "              \n",
       "                       [[ 1.7948e-02,  1.5527e-02,  7.0746e-02],\n",
       "                        [ 8.7930e-02, -3.7353e-02,  4.1246e-02],\n",
       "                        [-4.6942e-02,  2.9043e-02,  8.7743e-02]],\n",
       "              \n",
       "                       [[ 5.8465e-03,  4.7344e-02, -4.0719e-02],\n",
       "                        [ 5.4206e-02, -9.0430e-02, -2.4041e-02],\n",
       "                        [ 9.3617e-02,  1.0132e-02, -9.2795e-02]],\n",
       "              \n",
       "                       [[ 5.4312e-02,  5.5238e-02, -3.0716e-02],\n",
       "                        [ 9.3911e-02, -8.6752e-02,  5.1776e-02],\n",
       "                        [-8.4615e-03, -6.4779e-02, -6.6167e-02]],\n",
       "              \n",
       "                       [[ 2.0203e-02,  3.6304e-02, -2.4477e-02],\n",
       "                        [ 1.1471e-02,  1.6001e-02, -4.9257e-02],\n",
       "                        [ 5.3028e-02,  1.9098e-02,  6.6798e-02]],\n",
       "              \n",
       "                       [[ 6.5414e-02, -6.6117e-02,  4.7576e-02],\n",
       "                        [ 5.3939e-02,  7.0456e-02, -4.2065e-02],\n",
       "                        [-9.8358e-03, -2.0562e-02,  7.4034e-02]],\n",
       "              \n",
       "                       [[-7.6232e-02, -9.5900e-02,  3.9703e-02],\n",
       "                        [-6.9398e-02, -3.1858e-02, -4.9727e-02],\n",
       "                        [ 6.0609e-02, -1.0074e-01, -9.4856e-02]]],\n",
       "              \n",
       "              \n",
       "                      [[[ 5.7092e-02,  3.3474e-02, -9.6285e-02],\n",
       "                        [ 6.6340e-02, -1.0436e-01,  9.7220e-02],\n",
       "                        [ 1.4660e-02, -8.3572e-02,  7.6881e-02]],\n",
       "              \n",
       "                       [[-9.0564e-02,  1.0495e-01,  1.0313e-01],\n",
       "                        [-9.4450e-03,  8.1094e-02,  1.0158e-01],\n",
       "                        [-6.9728e-02, -8.2853e-02,  7.2473e-02]],\n",
       "              \n",
       "                       [[-4.8492e-02, -4.2794e-02, -2.0838e-02],\n",
       "                        [ 5.4239e-02, -7.4056e-02,  2.9435e-02],\n",
       "                        [-1.0269e-01, -4.0087e-02,  2.1472e-02]],\n",
       "              \n",
       "                       [[-3.3587e-02,  5.0170e-02, -9.6928e-02],\n",
       "                        [ 7.6967e-02, -5.3075e-02,  9.4613e-02],\n",
       "                        [-9.9603e-02, -3.1826e-02, -4.0421e-02]],\n",
       "              \n",
       "                       [[-6.1846e-02,  8.1323e-02,  8.8764e-02],\n",
       "                        [ 5.7158e-02, -2.3227e-02,  1.8949e-02],\n",
       "                        [-8.1769e-03,  5.4317e-02, -9.6542e-02]],\n",
       "              \n",
       "                       [[ 1.0459e-01, -1.0424e-01,  2.7749e-03],\n",
       "                        [ 8.7833e-02,  4.8671e-02,  8.1487e-02],\n",
       "                        [-4.9750e-02, -8.9290e-02,  3.1328e-02]],\n",
       "              \n",
       "                       [[-1.2308e-02,  9.1265e-02, -4.4226e-02],\n",
       "                        [ 8.5189e-02, -5.1859e-02,  9.3569e-02],\n",
       "                        [ 1.1356e-02, -4.9330e-02,  3.5810e-03]],\n",
       "              \n",
       "                       [[-3.3792e-02,  9.6826e-02, -1.0452e-01],\n",
       "                        [-5.2087e-02,  3.1299e-02,  1.0573e-02],\n",
       "                        [-6.0975e-02,  8.7920e-02, -4.6009e-02]],\n",
       "              \n",
       "                       [[-5.1924e-02,  1.4866e-02,  9.4859e-02],\n",
       "                        [-7.3292e-02, -7.9865e-02,  8.1807e-02],\n",
       "                        [-7.5564e-02,  9.9114e-02,  6.4061e-02]],\n",
       "              \n",
       "                       [[ 3.7882e-02,  5.6180e-02,  2.4995e-02],\n",
       "                        [ 6.3229e-03, -2.6950e-02,  5.5551e-02],\n",
       "                        [ 2.2246e-02, -2.4952e-02, -1.0225e-01]]],\n",
       "              \n",
       "              \n",
       "                      [[[-2.4875e-02, -6.7519e-02, -3.8076e-02],\n",
       "                        [ 1.7564e-02, -2.4408e-02, -5.6196e-02],\n",
       "                        [ 8.4704e-02, -4.2922e-02,  1.2916e-02]],\n",
       "              \n",
       "                       [[ 3.6421e-02,  4.4236e-02,  5.5104e-02],\n",
       "                        [-1.0438e-01,  5.4405e-03, -9.7885e-02],\n",
       "                        [-5.0152e-02,  1.5883e-02, -1.2187e-02]],\n",
       "              \n",
       "                       [[ 9.1610e-02, -3.9079e-02, -8.0498e-02],\n",
       "                        [-5.6958e-02, -2.8889e-02,  9.7372e-02],\n",
       "                        [ 6.6782e-02, -1.0103e-01, -7.7926e-03]],\n",
       "              \n",
       "                       [[-1.4009e-02,  3.7335e-02, -3.4472e-02],\n",
       "                        [-2.4959e-02, -1.0176e-01,  1.6864e-02],\n",
       "                        [-4.9588e-02,  2.6184e-02,  6.0269e-02]],\n",
       "              \n",
       "                       [[-5.7058e-02, -7.7480e-02, -1.7689e-02],\n",
       "                        [-8.6496e-02,  6.4619e-02,  5.3465e-02],\n",
       "                        [ 3.8548e-02, -1.0301e-01, -8.0912e-02]],\n",
       "              \n",
       "                       [[-9.9844e-02,  3.9727e-02,  4.5707e-02],\n",
       "                        [-3.0054e-02, -4.7465e-02, -8.0164e-02],\n",
       "                        [ 2.4677e-02,  8.9210e-02, -7.5652e-02]],\n",
       "              \n",
       "                       [[ 6.3029e-02,  9.4691e-02, -8.7732e-03],\n",
       "                        [ 8.4954e-02, -1.0198e-01, -1.0184e-01],\n",
       "                        [ 5.6824e-03, -3.8817e-02,  5.0903e-03]],\n",
       "              \n",
       "                       [[ 3.4598e-02, -7.5329e-02,  9.4226e-02],\n",
       "                        [-2.2679e-02, -8.6221e-02,  8.8057e-02],\n",
       "                        [ 3.6517e-02,  4.9344e-02, -3.8636e-02]],\n",
       "              \n",
       "                       [[-7.0342e-02,  7.9026e-02, -7.9605e-02],\n",
       "                        [ 9.5988e-02,  1.7739e-02, -2.2476e-02],\n",
       "                        [-9.7271e-02,  3.3017e-03, -9.3000e-02]],\n",
       "              \n",
       "                       [[-3.6835e-02, -1.7134e-02,  5.0935e-02],\n",
       "                        [ 2.0479e-03,  5.0049e-02,  3.8211e-02],\n",
       "                        [-1.7546e-02, -5.8394e-02, -2.4678e-02]]],\n",
       "              \n",
       "              \n",
       "                      [[[ 3.5210e-02,  7.3679e-02, -2.8290e-02],\n",
       "                        [-3.3475e-03,  1.6045e-02, -9.7133e-02],\n",
       "                        [ 5.7266e-02,  4.3402e-04,  6.9770e-03]],\n",
       "              \n",
       "                       [[ 1.0346e-01, -8.9052e-02, -2.2863e-02],\n",
       "                        [-2.2499e-02, -1.8933e-02,  4.0577e-02],\n",
       "                        [-7.3143e-02, -2.5068e-02, -3.3177e-04]],\n",
       "              \n",
       "                       [[ 1.3239e-02,  1.6055e-02, -8.3744e-03],\n",
       "                        [-8.7007e-02,  4.5565e-02,  1.5069e-02],\n",
       "                        [ 4.3631e-02,  9.8131e-02,  1.8363e-02]],\n",
       "              \n",
       "                       [[ 5.9089e-02,  5.6026e-02,  8.1352e-02],\n",
       "                        [ 8.1160e-02,  3.0508e-02, -9.7386e-02],\n",
       "                        [ 8.9767e-02, -1.6595e-02, -1.0325e-01]],\n",
       "              \n",
       "                       [[-1.4763e-02,  5.6891e-02,  5.5639e-02],\n",
       "                        [-1.5073e-02, -9.5348e-02, -5.4304e-02],\n",
       "                        [ 1.4530e-02,  3.1364e-02, -8.5284e-02]],\n",
       "              \n",
       "                       [[-3.0363e-02, -2.4954e-02,  5.1990e-03],\n",
       "                        [-2.1649e-02, -3.5755e-02,  4.9377e-02],\n",
       "                        [-2.6455e-02, -3.6002e-03, -8.7040e-02]],\n",
       "              \n",
       "                       [[ 6.5579e-02, -8.5203e-02, -6.6633e-02],\n",
       "                        [ 3.5072e-02,  5.0605e-02,  7.1191e-02],\n",
       "                        [ 1.0159e-01, -4.9230e-02,  9.2479e-02]],\n",
       "              \n",
       "                       [[ 2.2669e-02,  1.0471e-01, -5.5958e-02],\n",
       "                        [ 3.7664e-02,  5.4771e-02, -1.1913e-02],\n",
       "                        [-5.8298e-02, -5.3783e-02,  6.6996e-02]],\n",
       "              \n",
       "                       [[ 8.2392e-02, -8.7991e-02,  1.0399e-01],\n",
       "                        [-5.2598e-02,  1.0357e-01,  9.5528e-02],\n",
       "                        [ 1.0476e-01, -7.3196e-03, -1.8339e-02]],\n",
       "              \n",
       "                       [[ 8.6808e-02,  9.5667e-02, -1.4650e-02],\n",
       "                        [ 3.9134e-02,  8.5703e-02, -6.1711e-02],\n",
       "                        [-7.3362e-02, -9.5499e-02,  5.1570e-02]]],\n",
       "              \n",
       "              \n",
       "                      [[[-5.6980e-03, -8.7054e-03,  1.0169e-01],\n",
       "                        [-1.2408e-02,  6.1266e-02, -7.8200e-02],\n",
       "                        [-2.9948e-02,  6.3112e-02, -4.5985e-02]],\n",
       "              \n",
       "                       [[ 4.4008e-02, -6.8628e-02,  4.9385e-03],\n",
       "                        [ 1.8872e-02,  2.9691e-02, -7.1777e-02],\n",
       "                        [ 5.0635e-02,  1.4783e-02, -1.0057e-01]],\n",
       "              \n",
       "                       [[ 3.7099e-02, -9.5420e-02,  4.7219e-02],\n",
       "                        [ 7.3866e-02, -4.3610e-02, -4.9677e-02],\n",
       "                        [-1.0185e-01, -9.5676e-03, -9.9733e-02]],\n",
       "              \n",
       "                       [[-3.5217e-03, -8.3167e-03,  6.2866e-02],\n",
       "                        [-8.3305e-03, -9.7801e-02, -2.2653e-02],\n",
       "                        [-3.0064e-02, -6.8996e-02,  7.0818e-02]],\n",
       "              \n",
       "                       [[ 9.5792e-02,  6.5364e-02, -1.0376e-02],\n",
       "                        [ 3.2831e-02,  2.9842e-03,  5.1038e-02],\n",
       "                        [ 9.9457e-02,  1.3716e-02, -1.2479e-02]],\n",
       "              \n",
       "                       [[ 1.3382e-02,  9.2362e-02,  2.1018e-02],\n",
       "                        [ 6.2658e-02,  5.0746e-02, -4.8239e-02],\n",
       "                        [-6.7533e-03, -9.9648e-03, -7.7145e-02]],\n",
       "              \n",
       "                       [[ 8.2842e-02, -5.1485e-02,  7.9467e-02],\n",
       "                        [-4.9582e-02,  2.5591e-04, -4.3009e-02],\n",
       "                        [-6.3544e-02,  1.0540e-01, -4.3129e-02]],\n",
       "              \n",
       "                       [[ 8.8258e-02, -3.8758e-02, -6.5789e-02],\n",
       "                        [ 1.9025e-02,  5.1216e-03,  6.2507e-02],\n",
       "                        [-3.7150e-02,  1.8594e-02, -1.5116e-02]],\n",
       "              \n",
       "                       [[ 3.5148e-02, -9.5457e-02, -3.5187e-02],\n",
       "                        [-3.3258e-02,  2.4836e-02,  1.5585e-02],\n",
       "                        [ 6.2538e-02, -7.5561e-02, -7.8834e-02]],\n",
       "              \n",
       "                       [[ 1.9769e-02,  7.9217e-02, -2.8234e-02],\n",
       "                        [-1.1474e-02,  1.6407e-02, -2.5391e-03],\n",
       "                        [ 5.1343e-02,  6.3901e-02, -2.2348e-02]]],\n",
       "              \n",
       "              \n",
       "                      [[[ 8.5742e-02, -5.0559e-02,  6.2926e-02],\n",
       "                        [ 4.8486e-02,  7.0988e-02,  8.6885e-02],\n",
       "                        [-1.5635e-02, -1.0725e-02,  7.3866e-03]],\n",
       "              \n",
       "                       [[ 2.6747e-02,  3.2732e-02,  6.6068e-02],\n",
       "                        [-1.0221e-01,  3.3032e-02,  7.8635e-03],\n",
       "                        [ 2.3883e-02,  2.8536e-02, -7.3126e-02]],\n",
       "              \n",
       "                       [[-2.3083e-02,  9.2023e-02, -9.0840e-02],\n",
       "                        [-1.0445e-01, -1.3046e-02, -7.8225e-02],\n",
       "                        [-5.6062e-02, -1.4915e-03, -8.9758e-02]],\n",
       "              \n",
       "                       [[ 2.9817e-02, -9.9456e-03, -7.7031e-02],\n",
       "                        [-1.0065e-01, -3.6013e-02, -3.7842e-02],\n",
       "                        [ 1.6092e-02,  3.0114e-02, -9.6926e-02]],\n",
       "              \n",
       "                       [[-8.7609e-02,  4.9833e-02,  4.5421e-02],\n",
       "                        [ 6.7616e-02,  8.3244e-02, -1.6101e-03],\n",
       "                        [ 3.2952e-02, -6.6565e-02,  1.5846e-02]],\n",
       "              \n",
       "                       [[-5.2105e-02, -6.2524e-02, -7.0341e-02],\n",
       "                        [-1.1731e-02,  5.7290e-03,  4.9424e-02],\n",
       "                        [-9.5211e-02,  1.0536e-01, -2.3436e-02]],\n",
       "              \n",
       "                       [[ 2.6818e-02, -9.7442e-02, -6.4159e-03],\n",
       "                        [-3.1274e-02, -9.9119e-02,  1.4923e-02],\n",
       "                        [-8.9388e-02, -1.6701e-02,  3.0599e-02]],\n",
       "              \n",
       "                       [[ 3.9897e-02, -6.8962e-02, -7.8233e-02],\n",
       "                        [ 1.0514e-01,  2.9811e-02,  9.7791e-02],\n",
       "                        [-1.5127e-03,  2.4664e-02,  5.3865e-02]],\n",
       "              \n",
       "                       [[-6.7790e-02,  8.9793e-02,  6.0534e-02],\n",
       "                        [-4.5044e-02, -3.7230e-02, -2.0343e-02],\n",
       "                        [-8.2787e-02, -4.6071e-02, -7.5782e-02]],\n",
       "              \n",
       "                       [[ 3.7650e-02, -8.6692e-02, -1.7763e-02],\n",
       "                        [-6.9182e-02,  5.8585e-03,  3.1049e-02],\n",
       "                        [-6.1531e-03, -9.4483e-02, -3.4583e-02]]],\n",
       "              \n",
       "              \n",
       "                      [[[ 4.8358e-02, -5.4068e-02, -5.5131e-02],\n",
       "                        [-6.1796e-02, -9.5266e-03, -1.0196e-01],\n",
       "                        [-3.7705e-02, -1.6009e-02,  6.4153e-02]],\n",
       "              \n",
       "                       [[-7.2587e-02, -3.7265e-02, -4.7137e-02],\n",
       "                        [ 7.6960e-02,  3.5731e-03,  8.1023e-02],\n",
       "                        [-7.6015e-02,  2.0027e-03,  8.9865e-02]],\n",
       "              \n",
       "                       [[ 9.7697e-02, -6.8984e-02,  6.0279e-02],\n",
       "                        [ 1.0519e-01, -1.0443e-01,  3.2727e-02],\n",
       "                        [ 5.9605e-02,  6.3378e-02, -7.4731e-02]],\n",
       "              \n",
       "                       [[-9.3668e-02,  2.7214e-02, -1.0790e-02],\n",
       "                        [ 1.6335e-02,  4.4603e-02,  7.7326e-02],\n",
       "                        [ 5.3620e-03,  7.7218e-03, -5.4886e-02]],\n",
       "              \n",
       "                       [[ 3.8911e-02,  3.8453e-02,  7.8885e-02],\n",
       "                        [-5.3177e-02, -1.0305e-01, -5.8514e-02],\n",
       "                        [-4.5712e-02, -3.6935e-02, -2.5490e-03]],\n",
       "              \n",
       "                       [[-8.0402e-02, -4.1326e-03,  3.5381e-02],\n",
       "                        [-9.3552e-02,  1.2771e-02,  9.1297e-02],\n",
       "                        [ 4.7617e-03,  2.2377e-02, -2.2487e-02]],\n",
       "              \n",
       "                       [[-2.7503e-02,  1.9513e-02, -1.4859e-02],\n",
       "                        [-9.2656e-02, -8.8545e-02, -9.7080e-02],\n",
       "                        [-5.7628e-02, -3.8467e-02,  4.3357e-02]],\n",
       "              \n",
       "                       [[ 8.3110e-02, -4.8755e-02, -2.7994e-02],\n",
       "                        [ 2.8097e-02, -7.4262e-02,  8.3322e-02],\n",
       "                        [-9.2448e-02,  7.7907e-02,  6.1578e-02]],\n",
       "              \n",
       "                       [[-1.9639e-03,  4.4739e-02,  7.6834e-02],\n",
       "                        [-9.2015e-02, -6.1311e-02, -9.1685e-02],\n",
       "                        [ 3.2251e-02,  1.2396e-02,  2.6605e-02]],\n",
       "              \n",
       "                       [[-7.0217e-02,  4.3658e-02,  9.8054e-02],\n",
       "                        [-2.9538e-02,  8.1592e-02, -3.9588e-02],\n",
       "                        [-4.6723e-02, -1.7782e-02,  6.9816e-02]]],\n",
       "              \n",
       "              \n",
       "                      [[[-8.1231e-02,  2.7116e-02,  5.4942e-02],\n",
       "                        [-7.9793e-02,  1.8261e-02,  3.6723e-02],\n",
       "                        [-8.0206e-02,  4.0655e-03, -1.9098e-02]],\n",
       "              \n",
       "                       [[ 7.2436e-02, -3.7005e-02,  7.1980e-02],\n",
       "                        [-1.5003e-02,  9.9859e-02,  6.9123e-02],\n",
       "                        [ 2.6675e-02,  5.3839e-02,  8.2538e-03]],\n",
       "              \n",
       "                       [[-2.2464e-02, -3.4362e-02,  6.3686e-02],\n",
       "                        [-9.8215e-02,  3.9220e-02, -4.0668e-02],\n",
       "                        [ 6.7810e-02, -1.0280e-01,  8.9531e-02]],\n",
       "              \n",
       "                       [[-1.6910e-02, -3.5952e-02,  3.7472e-02],\n",
       "                        [ 3.9872e-02,  9.2300e-02, -7.4598e-02],\n",
       "                        [ 1.1485e-02, -7.2731e-02,  1.5309e-02]],\n",
       "              \n",
       "                       [[ 6.9338e-02, -1.0180e-01,  5.5437e-02],\n",
       "                        [ 3.6827e-02,  1.0293e-01,  8.6890e-02],\n",
       "                        [ 8.6322e-02, -4.2175e-02, -1.5152e-02]],\n",
       "              \n",
       "                       [[ 9.1587e-02,  2.0537e-02,  1.0129e-01],\n",
       "                        [ 6.0203e-02,  1.5812e-03,  8.9356e-02],\n",
       "                        [ 9.8968e-02,  8.5695e-02,  1.0486e-01]],\n",
       "              \n",
       "                       [[ 3.3862e-02, -2.6874e-02,  8.9878e-02],\n",
       "                        [ 3.3075e-02,  7.2018e-02,  7.7904e-02],\n",
       "                        [-5.4478e-02,  2.1906e-02, -6.7787e-02]],\n",
       "              \n",
       "                       [[ 9.4780e-02,  3.7751e-02,  8.4630e-02],\n",
       "                        [-4.1385e-02, -6.4712e-02, -6.7087e-03],\n",
       "                        [ 9.1989e-02, -3.2899e-02,  4.8034e-02]],\n",
       "              \n",
       "                       [[ 4.3531e-02, -8.5259e-02,  4.7296e-02],\n",
       "                        [-2.4843e-03,  2.5881e-02,  5.3405e-02],\n",
       "                        [ 2.5744e-02,  3.8471e-02, -9.2211e-02]],\n",
       "              \n",
       "                       [[-9.9414e-02, -5.6015e-02,  7.6456e-02],\n",
       "                        [-9.9251e-02, -4.1496e-02, -6.7795e-02],\n",
       "                        [-1.6483e-02, -1.7009e-02,  6.1739e-02]]]], device='cuda:0')),\n",
       "             ('conv_block_1.2.bias',\n",
       "              tensor([-0.0972, -0.0167, -0.0521, -0.0470,  0.0970,  0.0429, -0.0938,  0.0610,\n",
       "                      -0.0527,  0.0808], device='cuda:0')),\n",
       "             ('conv_block_2.0.weight',\n",
       "              tensor([[[[-5.7167e-02,  6.6615e-02, -3.2776e-02],\n",
       "                        [-2.1884e-02, -1.0409e-01,  4.4229e-02],\n",
       "                        [-8.3704e-02, -1.0525e-01, -8.1192e-03]],\n",
       "              \n",
       "                       [[ 3.7333e-02, -6.6167e-02,  7.4829e-02],\n",
       "                        [-6.6420e-02,  4.9617e-02,  8.7515e-02],\n",
       "                        [-6.1284e-02, -1.5532e-02,  7.3077e-03]],\n",
       "              \n",
       "                       [[ 7.9409e-04,  1.0268e-01,  8.2913e-02],\n",
       "                        [-2.5726e-02, -5.9090e-03, -2.8814e-02],\n",
       "                        [ 8.4387e-02,  4.6126e-03,  9.5915e-02]],\n",
       "              \n",
       "                       [[ 3.8065e-03,  1.3275e-02,  4.3178e-02],\n",
       "                        [-9.1235e-02,  8.7766e-02, -5.0728e-02],\n",
       "                        [-1.5523e-02,  1.0135e-01,  2.5299e-02]],\n",
       "              \n",
       "                       [[-2.5951e-02, -4.7082e-02, -7.9620e-02],\n",
       "                        [ 1.7520e-02, -4.8018e-02, -4.8686e-02],\n",
       "                        [-7.5009e-02, -7.8438e-02, -8.6606e-02]],\n",
       "              \n",
       "                       [[-6.1637e-02,  1.0441e-01, -9.3898e-02],\n",
       "                        [ 4.9632e-02,  8.4167e-03, -8.4183e-02],\n",
       "                        [-7.1922e-02, -1.1812e-02,  6.2252e-02]],\n",
       "              \n",
       "                       [[-2.2288e-02,  5.1599e-02,  8.9345e-02],\n",
       "                        [-8.4746e-02,  1.0069e-02, -1.6537e-02],\n",
       "                        [-4.0553e-02, -9.0960e-02, -5.3003e-03]],\n",
       "              \n",
       "                       [[-9.2239e-02,  4.2492e-02, -7.3536e-02],\n",
       "                        [ 3.1655e-02, -5.1156e-02, -2.7870e-02],\n",
       "                        [ 1.9496e-02,  2.5511e-02,  2.6121e-02]],\n",
       "              \n",
       "                       [[ 1.6861e-02,  4.3914e-02,  4.8600e-02],\n",
       "                        [ 3.6388e-02, -5.5822e-03, -8.5926e-02],\n",
       "                        [ 1.2743e-03,  3.2724e-02, -1.9307e-02]],\n",
       "              \n",
       "                       [[ 1.0477e-01, -6.4541e-02, -2.0000e-02],\n",
       "                        [ 3.2574e-02,  8.0873e-02,  2.5435e-02],\n",
       "                        [-1.0262e-01,  7.2839e-02, -4.2960e-02]]],\n",
       "              \n",
       "              \n",
       "                      [[[ 9.8028e-02,  8.3051e-02,  2.1379e-02],\n",
       "                        [-4.5400e-02,  9.1027e-03, -8.0359e-02],\n",
       "                        [-8.2985e-02, -1.3206e-02, -2.6299e-03]],\n",
       "              \n",
       "                       [[ 1.1580e-02, -9.6144e-02,  2.5443e-02],\n",
       "                        [-9.0283e-02, -3.7596e-02,  1.1566e-02],\n",
       "                        [ 3.8300e-02,  7.1599e-03,  6.0422e-02]],\n",
       "              \n",
       "                       [[-1.3268e-02,  4.6425e-02, -6.9771e-03],\n",
       "                        [-6.7209e-02,  2.3358e-02,  3.0432e-02],\n",
       "                        [ 8.9223e-02,  7.0966e-02, -3.1361e-02]],\n",
       "              \n",
       "                       [[ 8.9278e-02,  7.1681e-02,  1.0287e-01],\n",
       "                        [ 2.6226e-02,  5.9875e-02, -9.5842e-02],\n",
       "                        [-9.5484e-03, -4.1710e-02,  5.2663e-02]],\n",
       "              \n",
       "                       [[ 8.9193e-02, -3.4351e-03,  9.1167e-02],\n",
       "                        [ 8.8359e-02,  5.8284e-02,  9.5469e-02],\n",
       "                        [-8.9009e-02,  5.0397e-02, -3.5833e-02]],\n",
       "              \n",
       "                       [[-3.8942e-02, -7.2352e-02,  7.7226e-02],\n",
       "                        [-1.5948e-02,  3.1320e-02, -4.9136e-02],\n",
       "                        [ 1.7815e-02,  4.6342e-02, -9.4169e-02]],\n",
       "              \n",
       "                       [[ 2.2104e-02,  4.0346e-02, -1.5558e-02],\n",
       "                        [ 6.1033e-02,  6.1659e-02,  2.0265e-02],\n",
       "                        [ 1.2681e-02,  1.0488e-01, -1.0237e-01]],\n",
       "              \n",
       "                       [[ 2.5135e-02,  3.3900e-03, -1.0176e-01],\n",
       "                        [ 4.0548e-02,  6.2239e-02,  2.2335e-02],\n",
       "                        [ 2.7889e-03,  1.2547e-02,  2.2473e-02]],\n",
       "              \n",
       "                       [[ 5.3400e-02,  8.7518e-02, -7.7724e-02],\n",
       "                        [ 5.0785e-02, -3.0553e-02,  6.6374e-02],\n",
       "                        [ 5.6697e-02, -1.0488e-02, -5.9261e-02]],\n",
       "              \n",
       "                       [[-1.0181e-01, -5.8917e-02, -4.3156e-02],\n",
       "                        [-1.0096e-01, -9.9545e-02,  4.1332e-02],\n",
       "                        [ 9.1390e-02,  3.6468e-02, -5.2283e-02]]],\n",
       "              \n",
       "              \n",
       "                      [[[-7.0034e-02,  1.0645e-03, -5.1679e-02],\n",
       "                        [ 9.2604e-02,  3.9982e-02, -5.6529e-02],\n",
       "                        [ 7.3182e-02,  1.0225e-01, -6.9756e-02]],\n",
       "              \n",
       "                       [[ 3.5788e-02, -3.4191e-02, -5.8412e-02],\n",
       "                        [ 7.9795e-02,  2.3196e-02,  7.1941e-02],\n",
       "                        [ 7.9937e-02,  4.0972e-02, -1.8131e-02]],\n",
       "              \n",
       "                       [[ 7.0706e-02,  7.9282e-03,  4.1291e-02],\n",
       "                        [ 2.0128e-02,  6.4855e-02, -2.2486e-03],\n",
       "                        [ 4.8323e-02,  9.8855e-02, -7.7827e-02]],\n",
       "              \n",
       "                       [[-2.6138e-02, -9.6299e-02,  8.2150e-02],\n",
       "                        [ 6.9697e-02, -1.5949e-02,  4.2592e-02],\n",
       "                        [-4.3114e-02, -9.1601e-02, -1.3256e-02]],\n",
       "              \n",
       "                       [[-9.5392e-02, -1.7348e-02,  1.5011e-02],\n",
       "                        [ 3.6119e-02,  4.9230e-02,  9.9409e-02],\n",
       "                        [-4.2679e-02, -7.9883e-02,  2.8067e-02]],\n",
       "              \n",
       "                       [[-6.1879e-02, -3.1003e-02, -9.9639e-02],\n",
       "                        [ 7.4008e-02, -2.6276e-03,  2.7298e-03],\n",
       "                        [ 1.1107e-02, -3.1684e-02,  8.1476e-02]],\n",
       "              \n",
       "                       [[ 3.5704e-02, -2.9599e-02,  4.1371e-02],\n",
       "                        [ 8.0100e-02,  1.0131e-01,  2.4953e-02],\n",
       "                        [ 8.5437e-02, -9.9373e-02, -7.4677e-02]],\n",
       "              \n",
       "                       [[ 1.1675e-02,  8.2930e-02,  7.3224e-02],\n",
       "                        [-7.6480e-02,  7.6357e-03, -4.7727e-02],\n",
       "                        [-4.4726e-02,  6.6422e-03,  6.8487e-02]],\n",
       "              \n",
       "                       [[-5.8929e-02, -1.0305e-02,  1.2156e-02],\n",
       "                        [-7.6478e-02, -9.0506e-02,  5.5344e-02],\n",
       "                        [-7.8749e-02,  7.2453e-02, -8.4126e-03]],\n",
       "              \n",
       "                       [[ 6.4444e-02,  1.2396e-02, -9.4369e-02],\n",
       "                        [-5.5434e-03, -4.4922e-02, -3.0847e-02],\n",
       "                        [ 2.0760e-02,  5.1850e-02,  3.7562e-02]]],\n",
       "              \n",
       "              \n",
       "                      [[[ 7.5026e-02,  2.4660e-02, -9.8734e-02],\n",
       "                        [-5.5443e-02,  4.8801e-03, -1.7020e-02],\n",
       "                        [-1.0076e-01,  6.9754e-02, -1.2170e-02]],\n",
       "              \n",
       "                       [[-1.0172e-01,  3.8785e-02,  8.0176e-02],\n",
       "                        [ 1.4731e-02, -5.0689e-02,  9.0275e-03],\n",
       "                        [-4.9272e-02, -1.0149e-01, -7.0352e-04]],\n",
       "              \n",
       "                       [[ 7.1912e-02,  5.1108e-02,  5.3724e-02],\n",
       "                        [ 9.4343e-02, -5.0291e-02,  6.7920e-03],\n",
       "                        [ 7.7907e-02,  1.0089e-01, -6.3427e-02]],\n",
       "              \n",
       "                       [[-5.4756e-02,  9.4736e-02,  1.6745e-02],\n",
       "                        [-7.1046e-03, -4.9689e-02, -5.6312e-03],\n",
       "                        [ 1.7612e-03, -7.1493e-02, -3.5939e-02]],\n",
       "              \n",
       "                       [[-7.1250e-02,  3.5302e-02,  9.3290e-02],\n",
       "                        [-6.8716e-02, -3.3861e-02,  2.0925e-02],\n",
       "                        [-5.4289e-02, -3.5883e-02,  9.3890e-02]],\n",
       "              \n",
       "                       [[-3.2927e-02, -7.3834e-02,  7.1957e-02],\n",
       "                        [ 8.9305e-02, -1.8771e-02,  3.0742e-03],\n",
       "                        [ 7.9324e-02, -5.8711e-02,  2.7629e-02]],\n",
       "              \n",
       "                       [[ 2.4447e-02, -9.4606e-04, -7.9045e-02],\n",
       "                        [-5.0126e-02,  1.1059e-02,  1.9759e-02],\n",
       "                        [-1.6022e-02, -9.9679e-02, -1.4000e-02]],\n",
       "              \n",
       "                       [[-5.9433e-02,  7.7182e-02,  5.6027e-02],\n",
       "                        [-6.9410e-02,  7.3682e-02,  6.0946e-02],\n",
       "                        [-2.7250e-02, -6.3013e-02, -5.4854e-02]],\n",
       "              \n",
       "                       [[-9.0702e-02,  4.8026e-02, -2.3548e-03],\n",
       "                        [-5.8344e-02, -2.5198e-02,  2.8976e-02],\n",
       "                        [-9.2503e-02, -2.0599e-02,  9.8018e-03]],\n",
       "              \n",
       "                       [[-1.8120e-02, -2.6432e-02,  2.3083e-02],\n",
       "                        [-8.7139e-02, -6.8029e-02, -4.5981e-03],\n",
       "                        [ 9.0841e-02, -2.6513e-02,  6.7761e-02]]],\n",
       "              \n",
       "              \n",
       "                      [[[-4.9745e-02,  7.1425e-02, -6.8094e-02],\n",
       "                        [ 2.7674e-02,  6.6006e-02,  2.6981e-02],\n",
       "                        [ 5.9885e-02, -3.2343e-04,  7.0267e-02]],\n",
       "              \n",
       "                       [[ 6.7625e-02,  3.6806e-02,  2.3362e-02],\n",
       "                        [-9.2406e-02, -6.4462e-05, -8.6945e-02],\n",
       "                        [ 3.0326e-02,  4.0633e-02, -3.3820e-02]],\n",
       "              \n",
       "                       [[-8.6003e-02, -2.3003e-02, -3.3796e-02],\n",
       "                        [-2.3875e-02, -6.4220e-03,  8.7477e-02],\n",
       "                        [ 9.9834e-02,  9.9023e-02,  7.8294e-02]],\n",
       "              \n",
       "                       [[ 3.0812e-02,  6.4007e-02, -8.8600e-03],\n",
       "                        [-1.7368e-02, -3.2802e-02, -6.1145e-02],\n",
       "                        [-5.9005e-02,  8.4439e-02,  8.9787e-02]],\n",
       "              \n",
       "                       [[ 6.4535e-02, -4.9395e-02, -5.4916e-02],\n",
       "                        [-7.4238e-02,  6.9419e-02,  1.0780e-02],\n",
       "                        [-9.1164e-02, -2.9086e-02, -5.5596e-02]],\n",
       "              \n",
       "                       [[ 7.3586e-02,  1.2755e-02, -7.7543e-02],\n",
       "                        [ 8.8080e-02,  2.9712e-02,  7.0363e-02],\n",
       "                        [ 6.4294e-02, -1.7293e-02, -5.0788e-02]],\n",
       "              \n",
       "                       [[-6.0643e-02,  8.8681e-02, -4.4452e-02],\n",
       "                        [ 2.8626e-02,  4.5444e-02,  8.9552e-02],\n",
       "                        [-2.2996e-02, -1.5237e-02,  6.8765e-02]],\n",
       "              \n",
       "                       [[ 8.1926e-02, -1.8844e-02,  1.0512e-02],\n",
       "                        [-6.4310e-02, -1.2902e-02, -7.5281e-02],\n",
       "                        [ 6.0973e-02,  6.3280e-02, -5.9354e-03]],\n",
       "              \n",
       "                       [[ 8.7208e-02,  8.4015e-02,  2.2843e-02],\n",
       "                        [ 2.8582e-02, -8.7709e-02,  2.1127e-02],\n",
       "                        [ 9.3809e-02,  6.3790e-02, -1.7754e-02]],\n",
       "              \n",
       "                       [[-9.5925e-02,  8.8815e-02, -9.4071e-02],\n",
       "                        [-2.3744e-02, -9.0413e-02, -8.9502e-02],\n",
       "                        [ 8.3226e-02,  5.4926e-02,  7.8112e-02]]],\n",
       "              \n",
       "              \n",
       "                      [[[-2.6546e-02,  9.6842e-02, -1.3789e-03],\n",
       "                        [ 7.5020e-02,  6.9212e-02, -8.3216e-02],\n",
       "                        [-5.5673e-02, -7.9312e-02, -1.7183e-02]],\n",
       "              \n",
       "                       [[-1.0199e-01,  6.5762e-02,  6.5272e-02],\n",
       "                        [-5.7605e-02,  7.4235e-02,  7.5085e-02],\n",
       "                        [ 9.4952e-02,  5.6429e-02,  9.9377e-02]],\n",
       "              \n",
       "                       [[-9.5983e-02,  6.1390e-02, -1.0593e-03],\n",
       "                        [ 9.7957e-02,  3.0686e-04,  8.4501e-02],\n",
       "                        [ 7.5044e-02, -1.7919e-02,  8.8445e-02]],\n",
       "              \n",
       "                       [[ 7.7775e-02, -4.8635e-03, -5.9726e-03],\n",
       "                        [ 1.9335e-02,  7.7814e-02, -2.7561e-02],\n",
       "                        [-8.8292e-02, -4.5015e-02,  6.7998e-02]],\n",
       "              \n",
       "                       [[ 4.5417e-02,  3.2625e-02,  2.7067e-02],\n",
       "                        [-8.5714e-03, -9.5748e-03, -4.8657e-02],\n",
       "                        [ 5.8214e-02,  6.7518e-02, -7.8066e-02]],\n",
       "              \n",
       "                       [[ 4.2759e-02,  5.2433e-02,  7.6870e-02],\n",
       "                        [ 9.3615e-02,  6.0528e-03, -9.5855e-02],\n",
       "                        [ 2.2777e-02,  8.3840e-02, -9.9623e-02]],\n",
       "              \n",
       "                       [[ 3.5454e-03, -9.3990e-02,  7.6970e-02],\n",
       "                        [-3.0257e-03,  1.0199e-01,  6.3909e-02],\n",
       "                        [ 2.9227e-02,  1.6595e-02, -7.2682e-02]],\n",
       "              \n",
       "                       [[-1.7872e-02,  1.0632e-02, -5.6120e-02],\n",
       "                        [-8.8208e-02, -4.9591e-02, -5.2584e-02],\n",
       "                        [-5.0517e-02,  9.8116e-02,  2.9453e-02]],\n",
       "              \n",
       "                       [[-6.6871e-02, -4.0525e-03,  9.6342e-02],\n",
       "                        [-4.7984e-02, -8.1217e-02, -9.4876e-02],\n",
       "                        [ 1.4441e-02,  2.4613e-02, -8.2657e-02]],\n",
       "              \n",
       "                       [[ 3.7910e-02,  2.3105e-02,  6.7617e-02],\n",
       "                        [ 1.0212e-02,  5.3614e-02,  1.0119e-01],\n",
       "                        [ 1.7872e-02, -6.9869e-02, -6.2499e-02]]],\n",
       "              \n",
       "              \n",
       "                      [[[-6.3777e-02, -8.7927e-02, -8.7640e-02],\n",
       "                        [ 4.9807e-02, -4.9539e-02, -6.6206e-03],\n",
       "                        [-4.5964e-02,  2.9444e-02, -4.4484e-02]],\n",
       "              \n",
       "                       [[ 4.3013e-02,  4.6346e-02,  2.6302e-02],\n",
       "                        [ 6.6651e-02, -7.8710e-02,  5.9902e-02],\n",
       "                        [ 3.4152e-02,  7.5193e-02, -8.7194e-02]],\n",
       "              \n",
       "                       [[-8.0976e-02, -2.3023e-02, -4.2260e-02],\n",
       "                        [-6.8591e-02, -1.7597e-02,  1.0274e-01],\n",
       "                        [ 6.9633e-02, -5.7962e-02, -1.1173e-02]],\n",
       "              \n",
       "                       [[-7.0076e-02,  1.0474e-02, -5.2921e-02],\n",
       "                        [ 6.6106e-02, -5.9024e-02, -7.8540e-02],\n",
       "                        [-5.7172e-02,  9.1594e-02, -8.6230e-02]],\n",
       "              \n",
       "                       [[ 5.2351e-02, -2.2967e-02, -8.9138e-02],\n",
       "                        [ 6.4374e-02, -4.7139e-02,  7.4227e-02],\n",
       "                        [ 3.5833e-02,  6.2630e-03, -1.0030e-01]],\n",
       "              \n",
       "                       [[ 5.9213e-02, -8.1313e-02,  7.5340e-02],\n",
       "                        [ 5.8714e-02, -9.9263e-02, -6.7991e-02],\n",
       "                        [ 1.0136e-01, -4.1308e-02, -4.9614e-02]],\n",
       "              \n",
       "                       [[ 8.1146e-03,  4.3228e-03,  5.0418e-02],\n",
       "                        [-2.8885e-02,  5.4565e-02, -9.0104e-02],\n",
       "                        [-1.0850e-02,  2.7892e-02, -3.5304e-02]],\n",
       "              \n",
       "                       [[-6.7526e-02,  4.8980e-02, -4.6000e-02],\n",
       "                        [-1.7932e-02, -1.6726e-02, -6.5947e-02],\n",
       "                        [-3.7736e-02,  1.0220e-01, -3.6436e-02]],\n",
       "              \n",
       "                       [[ 2.3412e-02,  1.7864e-02, -7.2466e-03],\n",
       "                        [ 9.9150e-02,  3.6357e-02,  1.6494e-02],\n",
       "                        [ 8.2777e-02, -1.8055e-02,  7.8491e-02]],\n",
       "              \n",
       "                       [[-8.3903e-03,  5.3109e-02, -9.1550e-02],\n",
       "                        [ 1.0356e-01,  2.4708e-02, -6.6945e-02],\n",
       "                        [-6.6232e-02, -8.5639e-02,  7.7639e-02]]],\n",
       "              \n",
       "              \n",
       "                      [[[ 8.5725e-02,  7.0766e-02, -1.4672e-02],\n",
       "                        [-9.1757e-02, -7.8363e-02, -1.6351e-02],\n",
       "                        [-6.4973e-02, -3.1674e-02,  7.9117e-02]],\n",
       "              \n",
       "                       [[ 7.8741e-02,  9.4984e-02,  1.3223e-02],\n",
       "                        [ 9.1446e-03, -1.2408e-02, -3.6263e-02],\n",
       "                        [-1.2124e-02, -3.0152e-02, -8.1929e-02]],\n",
       "              \n",
       "                       [[ 3.2013e-02,  1.0513e-01,  9.1922e-02],\n",
       "                        [ 8.1961e-02, -8.6450e-02,  9.9827e-02],\n",
       "                        [-4.7839e-02, -7.7150e-02,  1.2552e-02]],\n",
       "              \n",
       "                       [[-7.2847e-02, -2.6493e-02,  2.7489e-02],\n",
       "                        [ 3.5153e-02,  9.4046e-02,  3.4321e-02],\n",
       "                        [-8.2910e-02,  1.0310e-01,  7.9820e-02]],\n",
       "              \n",
       "                       [[-6.4438e-02, -1.3872e-02, -1.0135e-01],\n",
       "                        [ 5.7212e-03, -1.0455e-01,  3.6656e-03],\n",
       "                        [-3.7506e-02, -1.0191e-01, -1.0140e-01]],\n",
       "              \n",
       "                       [[-7.2038e-02,  5.1601e-02, -2.5892e-02],\n",
       "                        [-9.3313e-02,  3.0744e-02,  1.7546e-02],\n",
       "                        [-6.1237e-02, -8.4663e-02,  5.6916e-02]],\n",
       "              \n",
       "                       [[ 9.8222e-02, -8.0879e-02, -1.6931e-02],\n",
       "                        [ 1.0394e-01,  6.9219e-02, -7.4361e-02],\n",
       "                        [ 7.4910e-02, -7.9698e-02, -4.7079e-02]],\n",
       "              \n",
       "                       [[-7.4499e-02,  6.9946e-02,  1.6623e-02],\n",
       "                        [ 9.7398e-02, -4.1329e-02,  1.2383e-02],\n",
       "                        [ 4.8413e-02,  2.1117e-03, -7.8262e-02]],\n",
       "              \n",
       "                       [[-1.0371e-02,  5.7885e-02, -2.8172e-02],\n",
       "                        [ 7.7415e-02, -6.7090e-02,  6.0681e-02],\n",
       "                        [ 6.7963e-03, -9.6921e-02,  2.9553e-02]],\n",
       "              \n",
       "                       [[-2.0969e-02, -8.8374e-02,  8.8031e-02],\n",
       "                        [ 2.4863e-02, -3.8398e-02,  1.0133e-02],\n",
       "                        [-9.9078e-02,  7.8740e-02,  8.3898e-02]]],\n",
       "              \n",
       "              \n",
       "                      [[[ 4.6319e-02,  8.8684e-02,  3.3057e-03],\n",
       "                        [-8.2383e-02,  7.6809e-02, -1.0993e-02],\n",
       "                        [ 3.2164e-02, -3.4025e-02, -7.0504e-02]],\n",
       "              \n",
       "                       [[-2.1332e-02,  9.8717e-03, -8.8939e-02],\n",
       "                        [ 8.3813e-02,  2.8014e-02, -3.7775e-02],\n",
       "                        [-3.8577e-02,  7.1867e-02,  9.5289e-02]],\n",
       "              \n",
       "                       [[-8.2553e-02, -8.8602e-02,  7.5563e-02],\n",
       "                        [ 5.3040e-02,  5.5310e-02,  8.7079e-02],\n",
       "                        [ 5.4319e-02, -7.4342e-02, -5.7763e-02]],\n",
       "              \n",
       "                       [[ 9.5047e-02,  5.1262e-02, -5.3196e-02],\n",
       "                        [ 9.9597e-02,  6.0881e-02, -7.1101e-02],\n",
       "                        [ 9.0090e-02,  5.4031e-02, -1.3296e-02]],\n",
       "              \n",
       "                       [[ 1.0127e-01,  4.8985e-02, -2.3997e-02],\n",
       "                        [-3.0164e-02,  5.2044e-02,  3.3717e-02],\n",
       "                        [-1.0454e-01, -9.9917e-02, -7.6787e-02]],\n",
       "              \n",
       "                       [[ 3.9720e-02, -7.6476e-02,  5.5092e-02],\n",
       "                        [-4.4146e-03,  6.9882e-03, -5.6477e-04],\n",
       "                        [ 3.9999e-02,  7.5952e-02, -5.6994e-02]],\n",
       "              \n",
       "                       [[-9.3677e-02, -8.4972e-02, -1.0326e-01],\n",
       "                        [-5.4312e-02,  5.1818e-02,  6.5830e-02],\n",
       "                        [-1.2702e-02, -9.0312e-02,  3.1990e-02]],\n",
       "              \n",
       "                       [[ 2.1544e-02, -6.8291e-02, -3.7286e-03],\n",
       "                        [-1.0394e-01, -4.9842e-02,  1.0375e-01],\n",
       "                        [-7.2123e-02,  2.5958e-03,  9.3258e-02]],\n",
       "              \n",
       "                       [[-1.6192e-02, -7.0551e-02,  3.9300e-02],\n",
       "                        [-6.2826e-03, -6.9591e-02, -1.4068e-02],\n",
       "                        [ 1.1686e-02, -7.3599e-03,  2.5944e-02]],\n",
       "              \n",
       "                       [[ 2.9903e-02, -2.9273e-02, -7.0887e-02],\n",
       "                        [ 6.8022e-03,  7.3487e-02,  8.8976e-02],\n",
       "                        [ 1.7363e-02,  7.2242e-02, -9.4251e-03]]],\n",
       "              \n",
       "              \n",
       "                      [[[ 1.4366e-02, -8.4076e-02, -7.9459e-02],\n",
       "                        [ 6.0158e-02,  6.5641e-02, -1.0235e-01],\n",
       "                        [-7.4675e-02, -6.5103e-02, -5.3021e-02]],\n",
       "              \n",
       "                       [[ 7.8636e-02, -6.0640e-03, -8.1955e-02],\n",
       "                        [-1.2166e-02,  7.9200e-02, -4.9908e-02],\n",
       "                        [-8.3930e-02,  5.3828e-02, -9.0437e-02]],\n",
       "              \n",
       "                       [[-8.9007e-02, -6.4427e-02, -8.0948e-02],\n",
       "                        [ 7.2339e-02, -8.9401e-02,  3.5476e-02],\n",
       "                        [ 4.6987e-02,  1.3915e-02, -3.3588e-02]],\n",
       "              \n",
       "                       [[ 2.8775e-02,  3.3151e-02, -9.5666e-02],\n",
       "                        [-6.2867e-02, -4.0379e-03,  9.1109e-02],\n",
       "                        [-6.3423e-02, -4.9869e-02, -9.9521e-03]],\n",
       "              \n",
       "                       [[-2.7185e-02,  4.9074e-02,  8.5944e-03],\n",
       "                        [ 3.6522e-02,  6.2664e-02, -9.3918e-02],\n",
       "                        [ 4.4773e-02,  3.2008e-02,  3.5446e-02]],\n",
       "              \n",
       "                       [[ 2.7816e-02, -2.1499e-02, -7.3165e-02],\n",
       "                        [ 1.0709e-02,  5.9586e-02,  6.3516e-02],\n",
       "                        [ 2.2351e-02, -9.4627e-02,  2.7614e-02]],\n",
       "              \n",
       "                       [[-4.8047e-02,  1.0217e-02, -6.3887e-02],\n",
       "                        [ 2.7709e-02, -8.8619e-02, -2.1053e-02],\n",
       "                        [ 7.7664e-02, -1.7206e-02,  4.0540e-02]],\n",
       "              \n",
       "                       [[ 2.2378e-02,  4.3683e-03,  7.1717e-02],\n",
       "                        [-6.2430e-02,  4.0908e-02,  9.0160e-02],\n",
       "                        [ 6.5828e-02,  5.1389e-03,  4.9471e-02]],\n",
       "              \n",
       "                       [[-9.6538e-03,  4.8996e-02,  3.1067e-02],\n",
       "                        [-7.7717e-02,  1.9660e-02,  3.0009e-03],\n",
       "                        [ 7.2573e-02, -6.1151e-03,  4.5212e-02]],\n",
       "              \n",
       "                       [[ 2.5793e-02, -5.4552e-02, -7.2635e-03],\n",
       "                        [ 3.1992e-02, -3.9274e-02, -4.9424e-02],\n",
       "                        [ 3.2438e-02, -2.7821e-02, -3.0376e-02]]]], device='cuda:0')),\n",
       "             ('conv_block_2.0.bias',\n",
       "              tensor([-0.0618, -0.0006, -0.0834,  0.0107,  0.0722,  0.0408,  0.0847,  0.0564,\n",
       "                      -0.0958,  0.1017], device='cuda:0')),\n",
       "             ('conv_block_2.2.weight',\n",
       "              tensor([[[[-8.3088e-02, -4.6352e-02, -8.7015e-02],\n",
       "                        [-5.3828e-02, -7.8829e-02,  6.4526e-02],\n",
       "                        [-7.7493e-02, -9.3941e-02, -3.9530e-02]],\n",
       "              \n",
       "                       [[-3.1454e-02,  7.3745e-02, -8.4801e-02],\n",
       "                        [-6.7306e-02,  9.0845e-02, -3.6181e-02],\n",
       "                        [-1.0199e-01, -3.6203e-03,  4.2199e-02]],\n",
       "              \n",
       "                       [[ 2.9559e-02, -1.0018e-01, -9.8224e-02],\n",
       "                        [-9.3192e-02, -9.7653e-02, -8.4496e-02],\n",
       "                        [-3.0524e-02,  1.4621e-02, -6.5997e-02]],\n",
       "              \n",
       "                       [[ 5.3646e-03, -6.4958e-02, -3.6577e-02],\n",
       "                        [-7.2797e-02, -1.7379e-02, -8.5197e-02],\n",
       "                        [-6.5645e-02,  4.5193e-02, -2.7116e-02]],\n",
       "              \n",
       "                       [[ 7.0963e-03,  9.8481e-02,  8.1326e-02],\n",
       "                        [-2.1710e-02, -1.6958e-02, -3.3358e-02],\n",
       "                        [ 6.8685e-02,  4.9846e-02,  2.8805e-03]],\n",
       "              \n",
       "                       [[ 9.7596e-02,  7.6621e-02,  5.4515e-02],\n",
       "                        [ 7.2458e-02,  2.7893e-02,  4.0997e-02],\n",
       "                        [ 2.6911e-02, -3.9588e-02, -1.3621e-02]],\n",
       "              \n",
       "                       [[-4.4338e-02,  7.0320e-02, -5.1160e-02],\n",
       "                        [ 4.2763e-02, -1.9354e-02, -6.3813e-02],\n",
       "                        [ 7.8618e-03, -7.4249e-02,  6.9041e-02]],\n",
       "              \n",
       "                       [[-2.2951e-02,  5.1119e-02,  5.3780e-02],\n",
       "                        [-7.4354e-02, -2.5710e-02,  2.2777e-02],\n",
       "                        [ 1.0274e-01,  4.7805e-02, -9.3481e-02]],\n",
       "              \n",
       "                       [[-1.0123e-01,  4.9810e-02, -7.3621e-02],\n",
       "                        [-7.2496e-02, -8.3832e-02, -9.9523e-02],\n",
       "                        [-2.1197e-02,  8.6139e-02,  6.8646e-02]],\n",
       "              \n",
       "                       [[-7.2420e-02,  4.5325e-02, -8.8030e-02],\n",
       "                        [-1.6704e-02,  6.5850e-02,  3.1127e-02],\n",
       "                        [ 6.1577e-02,  1.6126e-02,  9.7299e-02]]],\n",
       "              \n",
       "              \n",
       "                      [[[-9.1687e-02,  6.2024e-02,  1.8472e-03],\n",
       "                        [ 7.8729e-02, -6.5040e-02,  6.6950e-02],\n",
       "                        [ 7.4254e-02, -7.8392e-02, -6.5900e-02]],\n",
       "              \n",
       "                       [[-5.9677e-02,  9.3816e-02, -4.4107e-02],\n",
       "                        [-1.6398e-02,  6.2795e-03, -8.4133e-02],\n",
       "                        [-9.5500e-02, -8.7625e-02, -1.0566e-02]],\n",
       "              \n",
       "                       [[-4.5562e-02,  4.4008e-02, -2.1442e-02],\n",
       "                        [ 3.7091e-02,  9.0850e-03,  2.1084e-03],\n",
       "                        [ 4.6785e-02, -2.2628e-02,  1.7796e-02]],\n",
       "              \n",
       "                       [[-7.5775e-02, -2.4345e-02, -5.2697e-02],\n",
       "                        [ 1.0047e-01, -8.0246e-02,  3.7709e-02],\n",
       "                        [ 3.7373e-02, -4.2003e-02, -5.6722e-02]],\n",
       "              \n",
       "                       [[ 6.3700e-02, -7.3507e-02, -2.4806e-02],\n",
       "                        [-5.7640e-02, -2.3068e-02,  9.9219e-02],\n",
       "                        [ 7.1078e-03, -1.8990e-02, -5.1887e-02]],\n",
       "              \n",
       "                       [[ 2.8918e-02, -8.4244e-02,  7.9001e-02],\n",
       "                        [ 3.6789e-02,  4.8616e-02, -5.0878e-02],\n",
       "                        [ 7.9841e-02, -4.1264e-02,  1.0323e-01]],\n",
       "              \n",
       "                       [[ 8.7428e-02,  7.8993e-02, -7.5104e-02],\n",
       "                        [ 1.8808e-02,  2.2631e-02,  9.4619e-02],\n",
       "                        [ 3.9149e-02, -3.9999e-02,  2.4473e-02]],\n",
       "              \n",
       "                       [[ 6.8853e-02,  9.6624e-02, -8.9705e-02],\n",
       "                        [ 6.6147e-02,  7.7055e-02,  1.0378e-01],\n",
       "                        [-3.8719e-02,  4.9290e-02,  1.5904e-02]],\n",
       "              \n",
       "                       [[-5.4272e-02, -2.4559e-03,  1.1325e-02],\n",
       "                        [-7.3072e-02,  5.1200e-02,  4.0894e-02],\n",
       "                        [ 1.9269e-02,  1.0454e-01, -6.6754e-02]],\n",
       "              \n",
       "                       [[ 5.9163e-02,  7.9396e-02, -4.1365e-02],\n",
       "                        [-7.8310e-02, -7.3241e-02, -4.0114e-02],\n",
       "                        [ 6.8460e-02,  8.3256e-02,  5.5691e-02]]],\n",
       "              \n",
       "              \n",
       "                      [[[-6.9840e-02, -6.6444e-02, -1.0293e-01],\n",
       "                        [-9.0141e-02, -9.9574e-04, -7.2858e-03],\n",
       "                        [ 5.0160e-02, -2.0643e-02,  5.4055e-02]],\n",
       "              \n",
       "                       [[-1.0796e-02,  5.4444e-02, -3.2277e-02],\n",
       "                        [ 5.0805e-02, -1.8623e-02, -1.8344e-02],\n",
       "                        [ 6.3418e-02,  3.2954e-02, -2.2196e-02]],\n",
       "              \n",
       "                       [[-1.8576e-02,  8.5891e-02,  3.9286e-03],\n",
       "                        [-4.8047e-02,  1.9488e-02, -4.7686e-02],\n",
       "                        [-6.2544e-02, -2.6622e-02,  6.1078e-02]],\n",
       "              \n",
       "                       [[ 4.9192e-02,  4.9789e-02,  1.0536e-01],\n",
       "                        [-7.6100e-02, -9.5004e-02, -4.4907e-02],\n",
       "                        [ 1.2664e-02, -8.4219e-03,  2.3106e-02]],\n",
       "              \n",
       "                       [[-3.5615e-02,  3.8396e-02,  3.0406e-02],\n",
       "                        [ 6.7960e-02,  6.1426e-02, -6.7774e-02],\n",
       "                        [-1.8070e-05, -8.4648e-02, -1.9209e-02]],\n",
       "              \n",
       "                       [[ 4.1894e-02,  7.9119e-02,  5.9093e-02],\n",
       "                        [-7.3827e-02,  3.1935e-02,  5.9305e-02],\n",
       "                        [-8.7798e-04, -1.2412e-02, -4.4581e-02]],\n",
       "              \n",
       "                       [[ 9.9237e-02,  8.7319e-02,  5.8291e-03],\n",
       "                        [ 2.5637e-02, -8.8473e-02, -5.5309e-02],\n",
       "                        [-8.1147e-02,  2.4501e-02, -3.0813e-02]],\n",
       "              \n",
       "                       [[ 9.7107e-02,  2.8418e-02, -1.0950e-02],\n",
       "                        [-4.7458e-03, -8.5421e-02,  4.3244e-02],\n",
       "                        [-1.4854e-02, -6.1411e-02,  9.2079e-03]],\n",
       "              \n",
       "                       [[ 7.6392e-02, -1.0465e-01, -9.0774e-02],\n",
       "                        [-7.7129e-02, -9.5258e-02, -3.6632e-02],\n",
       "                        [-2.9040e-03,  8.0912e-02, -3.0924e-02]],\n",
       "              \n",
       "                       [[ 9.7383e-02,  5.8059e-02,  8.4083e-02],\n",
       "                        [ 9.7205e-03,  5.4999e-02, -1.0047e-01],\n",
       "                        [ 9.7357e-02,  4.9285e-02,  6.3118e-02]]],\n",
       "              \n",
       "              \n",
       "                      [[[ 9.0908e-02,  9.8497e-02,  1.0022e-01],\n",
       "                        [ 2.1951e-02, -9.4290e-02, -9.9353e-02],\n",
       "                        [ 6.6895e-02, -2.7852e-03,  2.5317e-02]],\n",
       "              \n",
       "                       [[-6.7648e-02, -9.1071e-02, -9.5397e-02],\n",
       "                        [ 4.7752e-02,  6.3190e-02,  9.9167e-02],\n",
       "                        [ 4.8551e-02,  8.5996e-02,  6.3833e-02]],\n",
       "              \n",
       "                       [[-7.9664e-02, -9.0611e-02, -8.0096e-02],\n",
       "                        [ 6.6534e-02, -8.0711e-02,  4.5482e-02],\n",
       "                        [ 2.7421e-02,  2.8251e-02,  2.4374e-02]],\n",
       "              \n",
       "                       [[-2.6520e-02,  7.8137e-02,  8.7512e-02],\n",
       "                        [ 3.6095e-02, -4.9680e-02,  3.7641e-02],\n",
       "                        [ 1.2127e-02, -2.2844e-02, -9.2833e-02]],\n",
       "              \n",
       "                       [[-6.6769e-02,  2.4672e-02,  2.0553e-02],\n",
       "                        [ 9.5900e-02, -8.3957e-02,  8.2357e-02],\n",
       "                        [-9.5867e-02, -4.9392e-02,  4.7238e-02]],\n",
       "              \n",
       "                       [[-8.0317e-02,  7.9464e-02,  7.5664e-02],\n",
       "                        [ 1.4805e-02,  2.3293e-02,  7.1655e-02],\n",
       "                        [-1.0367e-01,  8.2516e-02, -2.7272e-02]],\n",
       "              \n",
       "                       [[ 8.1377e-02, -7.4017e-03,  4.1635e-02],\n",
       "                        [-1.1726e-02,  4.5688e-02,  1.8237e-02],\n",
       "                        [ 7.6755e-02, -3.2774e-03,  5.5642e-03]],\n",
       "              \n",
       "                       [[-4.9306e-02, -5.3783e-02,  9.3356e-02],\n",
       "                        [ 2.9022e-03, -2.2449e-02, -1.0381e-01],\n",
       "                        [ 8.0751e-02,  4.7009e-03, -1.0302e-01]],\n",
       "              \n",
       "                       [[ 5.5637e-02,  7.9910e-02,  2.3566e-02],\n",
       "                        [ 5.3553e-02, -6.6024e-02, -6.7082e-02],\n",
       "                        [-1.0525e-01,  9.8776e-02, -6.1103e-02]],\n",
       "              \n",
       "                       [[-4.8725e-02, -6.1428e-02,  9.7302e-02],\n",
       "                        [-2.3940e-02, -3.4589e-02,  8.7625e-02],\n",
       "                        [-6.3073e-03, -1.0262e-01,  5.5631e-03]]],\n",
       "              \n",
       "              \n",
       "                      [[[ 8.9436e-03, -9.4546e-02, -1.0382e-01],\n",
       "                        [ 4.7675e-02, -3.4651e-02,  7.8947e-02],\n",
       "                        [-5.4959e-02,  4.6230e-02, -1.4443e-02]],\n",
       "              \n",
       "                       [[ 4.8513e-02,  8.2682e-02,  2.5985e-02],\n",
       "                        [ 7.3939e-02,  9.0157e-03,  2.8932e-02],\n",
       "                        [ 5.5936e-02, -4.4287e-02, -4.9273e-02]],\n",
       "              \n",
       "                       [[-3.9638e-02,  3.8810e-02, -4.5582e-02],\n",
       "                        [ 3.7970e-02,  4.8035e-02,  3.3068e-02],\n",
       "                        [-5.5247e-02, -5.6550e-02,  7.3449e-02]],\n",
       "              \n",
       "                       [[-9.7639e-03,  5.4628e-02,  8.6480e-02],\n",
       "                        [ 8.1442e-03,  8.1452e-02,  4.3069e-02],\n",
       "                        [-1.7867e-02, -5.9682e-02,  3.4408e-02]],\n",
       "              \n",
       "                       [[ 7.9326e-02,  7.0393e-02,  2.6874e-03],\n",
       "                        [ 7.0469e-02, -1.1939e-02,  4.8344e-02],\n",
       "                        [-2.4092e-02,  8.2969e-02, -4.1988e-02]],\n",
       "              \n",
       "                       [[ 1.0189e-01,  6.0837e-02,  2.8680e-02],\n",
       "                        [ 7.2934e-02,  4.3946e-02, -3.2000e-02],\n",
       "                        [-7.7744e-02, -6.5368e-02, -2.2999e-02]],\n",
       "              \n",
       "                       [[ 6.7335e-02, -6.3423e-02, -3.4813e-02],\n",
       "                        [-3.6553e-02,  2.1260e-02,  5.6405e-02],\n",
       "                        [ 7.9913e-02, -3.1375e-02,  6.0089e-02]],\n",
       "              \n",
       "                       [[-1.2937e-02,  8.4086e-03, -2.3855e-02],\n",
       "                        [-3.3843e-02,  2.9654e-02,  2.0282e-02],\n",
       "                        [ 9.5316e-02,  3.8050e-02, -2.5397e-02]],\n",
       "              \n",
       "                       [[ 9.6226e-03, -4.0629e-02, -9.2336e-02],\n",
       "                        [ 6.8473e-02, -2.1429e-02, -5.8542e-02],\n",
       "                        [-2.1031e-02, -5.9433e-02,  9.4623e-02]],\n",
       "              \n",
       "                       [[ 2.4751e-02, -6.0717e-02,  4.2060e-02],\n",
       "                        [ 8.5906e-02,  1.7085e-02, -2.3174e-02],\n",
       "                        [-1.9110e-02, -4.7859e-02, -3.8664e-02]]],\n",
       "              \n",
       "              \n",
       "                      [[[ 2.8767e-02, -4.1336e-02, -6.7680e-03],\n",
       "                        [ 1.5625e-02, -5.0503e-02, -1.8982e-02],\n",
       "                        [ 1.2451e-02,  8.3955e-02,  4.2397e-02]],\n",
       "              \n",
       "                       [[-5.9325e-02,  9.3196e-02,  1.2843e-02],\n",
       "                        [ 9.8449e-02,  3.7440e-02,  6.9244e-02],\n",
       "                        [ 3.3434e-03,  2.8335e-02, -2.0469e-02]],\n",
       "              \n",
       "                       [[ 4.7150e-02,  1.7993e-02,  6.6228e-02],\n",
       "                        [-6.9831e-02, -9.0885e-02, -6.1758e-02],\n",
       "                        [ 9.0554e-02,  3.7782e-02, -5.5539e-04]],\n",
       "              \n",
       "                       [[ 7.4874e-02, -1.6716e-02,  3.5511e-04],\n",
       "                        [ 1.3251e-02,  2.0272e-02, -6.5401e-02],\n",
       "                        [ 3.0931e-02, -3.5445e-02,  1.1879e-02]],\n",
       "              \n",
       "                       [[ 8.3907e-02,  7.6815e-02,  8.1563e-02],\n",
       "                        [-9.0527e-02, -4.7964e-02, -7.6204e-02],\n",
       "                        [ 8.9779e-02, -7.0422e-02, -2.7254e-02]],\n",
       "              \n",
       "                       [[-3.8210e-02, -7.3171e-02, -1.2639e-02],\n",
       "                        [-1.3771e-02,  3.0793e-02, -5.7637e-02],\n",
       "                        [-8.0919e-02,  7.6638e-02, -8.0969e-02]],\n",
       "              \n",
       "                       [[-6.8430e-02,  4.4934e-02,  5.7453e-02],\n",
       "                        [ 6.2472e-02,  8.2803e-02,  5.2373e-02],\n",
       "                        [-6.2838e-02,  8.1485e-02, -8.4479e-02]],\n",
       "              \n",
       "                       [[ 9.4860e-02, -3.5819e-02,  6.6719e-02],\n",
       "                        [-4.4558e-02, -3.6700e-02, -2.4158e-02],\n",
       "                        [-1.8323e-02, -2.6911e-02, -3.7073e-02]],\n",
       "              \n",
       "                       [[-9.8691e-02,  2.7575e-02,  3.9071e-02],\n",
       "                        [-6.7301e-03, -7.0760e-02, -6.5476e-02],\n",
       "                        [-8.2698e-02, -7.9983e-02, -9.8765e-02]],\n",
       "              \n",
       "                       [[-3.0045e-02, -9.7483e-02, -3.4745e-02],\n",
       "                        [-6.0601e-04, -9.3498e-02, -8.9334e-02],\n",
       "                        [-7.4103e-02,  6.9786e-02, -3.7383e-02]]],\n",
       "              \n",
       "              \n",
       "                      [[[ 9.7287e-03,  4.8257e-02, -8.1283e-02],\n",
       "                        [ 1.0135e-01,  8.9557e-02, -8.8374e-02],\n",
       "                        [-9.2967e-02,  8.5378e-02, -9.0942e-02]],\n",
       "              \n",
       "                       [[-9.7425e-02, -1.0370e-01, -2.6261e-02],\n",
       "                        [-1.9672e-02,  1.8643e-02, -1.0363e-01],\n",
       "                        [ 1.7621e-02,  8.1266e-02, -5.7545e-02]],\n",
       "              \n",
       "                       [[ 4.7284e-02, -8.2518e-02, -9.9177e-02],\n",
       "                        [ 1.6893e-02, -9.1716e-02, -7.2477e-02],\n",
       "                        [ 8.4587e-02, -6.8099e-02, -1.9658e-02]],\n",
       "              \n",
       "                       [[-4.5456e-02, -8.1139e-02, -1.1608e-04],\n",
       "                        [ 1.3469e-02,  6.5744e-02, -1.0577e-02],\n",
       "                        [ 6.3140e-02,  1.6658e-02,  4.7698e-02]],\n",
       "              \n",
       "                       [[-1.0366e-01, -8.0261e-02, -7.9123e-02],\n",
       "                        [-7.7787e-02, -5.7275e-02,  6.2690e-02],\n",
       "                        [-3.9880e-03,  8.2475e-02,  5.3035e-02]],\n",
       "              \n",
       "                       [[-5.0754e-02, -4.8819e-02, -8.2656e-02],\n",
       "                        [ 1.0243e-01,  5.6726e-02,  6.2399e-02],\n",
       "                        [ 1.6370e-02,  7.2832e-02, -2.3378e-02]],\n",
       "              \n",
       "                       [[-6.2704e-02, -2.9941e-02, -6.7025e-02],\n",
       "                        [ 7.0064e-02,  6.3401e-02,  9.6476e-02],\n",
       "                        [-8.2165e-02, -3.7924e-03, -7.2453e-03]],\n",
       "              \n",
       "                       [[ 7.9232e-02, -3.5317e-02,  4.4393e-02],\n",
       "                        [ 8.4829e-02, -3.8926e-02, -7.4303e-02],\n",
       "                        [-7.7769e-02, -4.9730e-02,  1.0107e-02]],\n",
       "              \n",
       "                       [[ 6.7929e-02, -7.2182e-02, -4.5939e-02],\n",
       "                        [-1.0288e-01,  3.1817e-02,  4.2182e-02],\n",
       "                        [-1.2428e-02, -1.4990e-02, -7.6697e-02]],\n",
       "              \n",
       "                       [[-7.2639e-02, -6.3890e-02, -9.3504e-02],\n",
       "                        [-8.7528e-02, -5.6009e-02, -7.9652e-02],\n",
       "                        [ 9.7100e-02,  9.6135e-02, -6.2858e-02]]],\n",
       "              \n",
       "              \n",
       "                      [[[ 1.0065e-02,  8.6636e-02,  5.2748e-02],\n",
       "                        [-4.4709e-02,  7.2866e-02,  8.6382e-02],\n",
       "                        [-6.9760e-02,  3.8108e-02,  1.8446e-02]],\n",
       "              \n",
       "                       [[-6.7203e-02, -3.5770e-02,  8.0913e-02],\n",
       "                        [-2.2776e-03,  1.8404e-02,  6.6077e-02],\n",
       "                        [-4.1961e-02, -4.9312e-03, -9.0470e-02]],\n",
       "              \n",
       "                       [[-7.2328e-02, -3.3339e-02,  3.2992e-02],\n",
       "                        [-1.2833e-02,  8.6103e-02, -4.0679e-02],\n",
       "                        [ 1.8632e-02,  1.6987e-02,  8.5123e-02]],\n",
       "              \n",
       "                       [[ 5.3053e-02, -7.9370e-02, -4.3790e-02],\n",
       "                        [ 4.4314e-02,  2.8307e-02, -2.0837e-02],\n",
       "                        [-1.0406e-01, -7.6590e-02, -3.5748e-02]],\n",
       "              \n",
       "                       [[ 8.0977e-02,  5.7859e-03,  3.9693e-02],\n",
       "                        [ 2.2179e-02, -9.7052e-02, -3.9926e-02],\n",
       "                        [ 4.9408e-02,  3.3404e-02, -7.2327e-02]],\n",
       "              \n",
       "                       [[ 2.9058e-02,  2.1438e-02, -5.4818e-02],\n",
       "                        [ 5.1864e-02,  7.4947e-02, -9.8932e-02],\n",
       "                        [ 9.5361e-02,  3.3246e-03,  5.0820e-02]],\n",
       "              \n",
       "                       [[-1.0025e-01, -1.5617e-04,  9.5979e-02],\n",
       "                        [ 8.0635e-02, -8.8934e-02,  4.4282e-02],\n",
       "                        [-9.6125e-02,  6.8667e-02, -7.9784e-03]],\n",
       "              \n",
       "                       [[-6.0771e-02, -1.8957e-02,  2.4030e-02],\n",
       "                        [ 7.5287e-04, -3.7231e-02,  1.9662e-02],\n",
       "                        [ 7.9405e-02,  1.5239e-02,  1.8652e-02]],\n",
       "              \n",
       "                       [[-1.5062e-02,  2.0176e-02, -8.6182e-02],\n",
       "                        [ 3.7747e-02,  5.6025e-02, -8.6428e-02],\n",
       "                        [ 3.2828e-02, -6.0606e-02, -9.7150e-02]],\n",
       "              \n",
       "                       [[ 4.7038e-03,  2.6558e-02, -5.6985e-02],\n",
       "                        [ 1.0396e-01,  7.0013e-02,  3.6717e-02],\n",
       "                        [ 1.0363e-02,  1.2243e-02,  1.6342e-02]]],\n",
       "              \n",
       "              \n",
       "                      [[[ 9.7907e-02,  5.3336e-02, -1.0075e-01],\n",
       "                        [ 4.9709e-02, -4.7468e-04, -1.1274e-02],\n",
       "                        [-1.7330e-02,  7.3149e-02, -5.6105e-02]],\n",
       "              \n",
       "                       [[-5.6903e-02,  5.6561e-02, -2.5517e-02],\n",
       "                        [ 1.0232e-01,  5.0208e-02, -7.8603e-02],\n",
       "                        [ 8.1215e-02, -6.6040e-03, -3.5320e-02]],\n",
       "              \n",
       "                       [[ 5.2859e-03, -9.3743e-02,  1.1141e-02],\n",
       "                        [ 6.3326e-02,  4.2388e-02, -7.7064e-02],\n",
       "                        [-1.2284e-02, -8.6236e-02,  3.9933e-02]],\n",
       "              \n",
       "                       [[-5.2908e-02, -1.0493e-01,  6.3847e-05],\n",
       "                        [ 4.9918e-02, -1.7908e-02,  1.3660e-02],\n",
       "                        [ 2.2939e-02, -9.2245e-02, -2.9342e-02]],\n",
       "              \n",
       "                       [[-6.5171e-02, -2.7456e-03, -4.4709e-02],\n",
       "                        [ 4.3527e-02,  9.4725e-02, -6.2166e-02],\n",
       "                        [ 2.4096e-02,  4.1153e-02,  8.2711e-02]],\n",
       "              \n",
       "                       [[-5.4260e-02,  6.4580e-03, -5.8810e-02],\n",
       "                        [-8.5989e-02,  3.6305e-02, -2.2776e-02],\n",
       "                        [ 7.6941e-02, -5.6395e-02,  4.6777e-02]],\n",
       "              \n",
       "                       [[ 6.2318e-02,  4.8869e-02,  3.2437e-02],\n",
       "                        [ 5.3769e-02, -1.1251e-03,  1.0135e-01],\n",
       "                        [-2.7812e-02,  3.9347e-02,  8.4071e-02]],\n",
       "              \n",
       "                       [[-3.3193e-02,  6.9911e-02,  2.0148e-02],\n",
       "                        [ 5.2693e-02,  2.6209e-02, -2.5598e-03],\n",
       "                        [ 6.8364e-02, -5.3126e-02,  2.1941e-02]],\n",
       "              \n",
       "                       [[-3.4435e-02,  4.6964e-02,  6.8875e-02],\n",
       "                        [-1.0211e-01, -1.5869e-02, -4.4696e-02],\n",
       "                        [ 1.4095e-02,  2.8804e-02,  5.0476e-02]],\n",
       "              \n",
       "                       [[ 3.5576e-02,  1.2129e-02,  7.9842e-02],\n",
       "                        [ 8.6076e-02,  2.9486e-02,  3.7843e-02],\n",
       "                        [-1.0308e-01, -7.3386e-02, -9.7268e-02]]],\n",
       "              \n",
       "              \n",
       "                      [[[-8.1760e-03, -7.4921e-02, -7.0122e-03],\n",
       "                        [ 2.9862e-02, -1.0253e-01,  8.6727e-02],\n",
       "                        [ 1.0102e-01, -1.0034e-01, -9.1506e-02]],\n",
       "              \n",
       "                       [[-4.0637e-02,  7.0957e-02,  5.6739e-02],\n",
       "                        [ 4.1019e-02, -9.3153e-02, -5.7673e-02],\n",
       "                        [-8.9045e-02,  4.6343e-02,  9.8501e-02]],\n",
       "              \n",
       "                       [[-5.3048e-02, -5.8450e-02, -3.3386e-02],\n",
       "                        [ 4.5407e-02,  4.8348e-02,  3.1635e-02],\n",
       "                        [-3.5865e-02,  8.4475e-02,  4.3578e-02]],\n",
       "              \n",
       "                       [[ 2.4089e-02, -9.1300e-02, -7.6401e-02],\n",
       "                        [-9.5936e-02,  9.5557e-02,  6.6685e-02],\n",
       "                        [ 8.9361e-02, -5.6681e-03, -1.7979e-02]],\n",
       "              \n",
       "                       [[ 6.8536e-02, -7.7070e-04, -8.9371e-02],\n",
       "                        [-1.5422e-02,  6.3224e-02,  9.8444e-02],\n",
       "                        [-7.4609e-02,  6.4295e-02, -7.5568e-02]],\n",
       "              \n",
       "                       [[ 6.9021e-02,  8.3375e-02, -9.4071e-03],\n",
       "                        [ 7.5153e-02, -5.8628e-03, -8.6801e-02],\n",
       "                        [ 1.0468e-01,  8.8944e-02, -1.0122e-01]],\n",
       "              \n",
       "                       [[-4.0388e-02,  5.1909e-03,  5.8894e-02],\n",
       "                        [-8.8810e-02, -4.4831e-02,  8.2962e-02],\n",
       "                        [-8.6597e-02, -6.1780e-03,  8.4582e-03]],\n",
       "              \n",
       "                       [[-5.8000e-02,  4.0470e-02, -1.0052e-01],\n",
       "                        [ 9.6058e-02, -6.4520e-02, -6.2987e-02],\n",
       "                        [-2.1682e-02, -4.1896e-02, -2.1810e-02]],\n",
       "              \n",
       "                       [[-5.8314e-02,  7.2182e-02, -7.6741e-02],\n",
       "                        [-8.2027e-02, -2.3833e-04, -3.3402e-02],\n",
       "                        [ 1.4249e-02, -4.5520e-02, -2.7075e-02]],\n",
       "              \n",
       "                       [[-9.5903e-03,  5.8226e-02, -1.0342e-01],\n",
       "                        [ 7.5508e-02,  5.6067e-02,  4.0443e-03],\n",
       "                        [ 6.7051e-02, -8.1332e-02, -2.4698e-02]]]], device='cuda:0')),\n",
       "             ('conv_block_2.2.bias',\n",
       "              tensor([ 0.0615,  0.0303,  0.0185, -0.0534, -0.0645, -0.0999,  0.0949,  0.0105,\n",
       "                      -0.0213, -0.0527], device='cuda:0')),\n",
       "             ('classifier.1.weight',\n",
       "              tensor([[-0.0402, -0.0409, -0.0172,  ..., -0.0005, -0.0157, -0.0404],\n",
       "                      [ 0.0048,  0.0034,  0.0177,  ..., -0.0332,  0.0055,  0.0424],\n",
       "                      [ 0.0336,  0.0273,  0.0227,  ...,  0.0396, -0.0080,  0.0345],\n",
       "                      ...,\n",
       "                      [ 0.0256, -0.0270, -0.0239,  ..., -0.0410, -0.0298, -0.0188],\n",
       "                      [ 0.0008,  0.0285, -0.0271,  ..., -0.0150, -0.0088,  0.0050],\n",
       "                      [-0.0435,  0.0256,  0.0312,  ...,  0.0016, -0.0187,  0.0330]],\n",
       "                     device='cuda:0')),\n",
       "             ('classifier.1.bias',\n",
       "              tensor([ 0.0374,  0.0053, -0.0159, -0.0023,  0.0098,  0.0279,  0.0053, -0.0030,\n",
       "                      -0.0435, -0.0155], device='cuda:0'))])"
      ]
     },
     "execution_count": 32,
     "metadata": {},
     "output_type": "execute_result"
    }
   ],
   "source": [
    "model_1.state_dict()"
   ]
  },
  {
   "cell_type": "code",
   "execution_count": 33,
   "metadata": {},
   "outputs": [],
   "source": [
    "optimizer = torch.optim.Adam(params=model_1.parameters(),\n",
    "                             lr=0.001)\n",
    "loss_fn = nn.CrossEntropyLoss()"
   ]
  },
  {
   "cell_type": "code",
   "execution_count": 34,
   "metadata": {},
   "outputs": [],
   "source": [
    "from torchmetrics import Accuracy\n",
    "acc = Accuracy(task='multiclass',\n",
    "               num_classes=len(class_names)).to(device)"
   ]
  },
  {
   "cell_type": "code",
   "execution_count": 35,
   "metadata": {},
   "outputs": [
    {
     "data": {
      "text/plain": [
       "10"
      ]
     },
     "execution_count": 35,
     "metadata": {},
     "output_type": "execute_result"
    }
   ],
   "source": [
    "len(class_names)"
   ]
  },
  {
   "cell_type": "code",
   "execution_count": 36,
   "metadata": {},
   "outputs": [
    {
     "name": "stdout",
     "output_type": "stream",
     "text": [
      "helper_fcuntions.py already exists, skipping download..\n"
     ]
    }
   ],
   "source": [
    "#import helper file\n",
    "import requests\n",
    "from pathlib import Path\n",
    "#downloading helper_functions.py\n",
    "if Path('helper_functions.py').is_file():\n",
    "    print('helper_fcuntions.py already exists, skipping download..')\n",
    "else:\n",
    "    print(\"downloading helper_functions.py\")\n",
    "    request = requests.get(\"https://raw.githubusercontent.com/mrdbourke/pytorch-deep-learning/main/helper_functions.py\")\n",
    "    with open(\"helper_functions.py\", 'wb') as file:\n",
    "        file.write(request.content)"
   ]
  },
  {
   "cell_type": "code",
   "execution_count": 37,
   "metadata": {},
   "outputs": [
    {
     "name": "stderr",
     "output_type": "stream",
     "text": [
      "/usr/lib/python3.11/site-packages/tqdm/auto.py:21: TqdmWarning: IProgress not found. Please update jupyter and ipywidgets. See https://ipywidgets.readthedocs.io/en/stable/user_install.html\n",
      "  from .autonotebook import tqdm as notebook_tqdm\n",
      "  0%|          | 0/3 [00:00<?, ?it/s]"
     ]
    },
    {
     "name": "stdout",
     "output_type": "stream",
     "text": [
      "epoch: 0\n",
      "--------\n",
      "Train loss: 0.22212 | Train accuracy: 93.02%\n"
     ]
    },
    {
     "name": "stderr",
     "output_type": "stream",
     "text": [
      " 33%|███▎      | 1/3 [00:16<00:33, 16.88s/it]"
     ]
    },
    {
     "name": "stdout",
     "output_type": "stream",
     "text": [
      "Test loss: 0.08084 | Test accuracy: 97.54%\n",
      "\n",
      "epoch: 1\n",
      "--------\n",
      "Train loss: 0.06957 | Train accuracy: 97.90%\n"
     ]
    },
    {
     "name": "stderr",
     "output_type": "stream",
     "text": [
      " 67%|██████▋   | 2/3 [00:35<00:17, 17.70s/it]"
     ]
    },
    {
     "name": "stdout",
     "output_type": "stream",
     "text": [
      "Test loss: 0.04663 | Test accuracy: 98.46%\n",
      "\n",
      "epoch: 2\n",
      "--------\n",
      "Train loss: 0.05266 | Train accuracy: 98.41%\n"
     ]
    },
    {
     "name": "stderr",
     "output_type": "stream",
     "text": [
      "100%|██████████| 3/3 [00:53<00:00, 18.00s/it]"
     ]
    },
    {
     "name": "stdout",
     "output_type": "stream",
     "text": [
      "Test loss: 0.03567 | Test accuracy: 98.96%\n",
      "\n",
      "\n",
      "Train time on cuda: 53.999 seconds\n"
     ]
    },
    {
     "name": "stderr",
     "output_type": "stream",
     "text": [
      "\n"
     ]
    }
   ],
   "source": [
    "from timeit import default_timer as Timer\n",
    "from tqdm.auto import tqdm\n",
    "import helper_functions \n",
    "\n",
    "start_timer = Timer()\n",
    "train_loss_values = []\n",
    "train_acc_values = []\n",
    "test_acc_values = []\n",
    "test_loss_values = []\n",
    "epochs = 3 #low for testing\n",
    "for epoch in tqdm(range(epochs)):\n",
    "    print(f\"epoch: {epoch}\\n--------\")\n",
    "    train_loss_list, train_acc_list = train_step(\n",
    "        model=model_1,\n",
    "        data_loader=train_dataloader,\n",
    "        loss_fn=loss_fn,\n",
    "        optimizer=optimizer,\n",
    "        accuracy_fn=acc,\n",
    "        device=device\n",
    "    )\n",
    "\n",
    "    test_loss_list, test_acc_list = test_step(model=model_1,\n",
    "              data_loader=test_dataloader,\n",
    "              loss_fn=loss_fn,\n",
    "              accuracy_fn=acc,\n",
    "              device=device)\n",
    "    train_loss_values.append(train_loss_list.item())\n",
    "    train_acc_values.append(train_acc_list)\n",
    "    test_loss_values.append(test_loss_list.item())\n",
    "    test_acc_values.append(test_acc_list)\n",
    "    \n",
    "end_timer = Timer()\n",
    "total_time = helper_functions.print_train_time(start=start_timer,\n",
    "                                               end=end_timer,\n",
    "                                               device=device)"
   ]
  },
  {
   "cell_type": "code",
   "execution_count": 38,
   "metadata": {},
   "outputs": [
    {
     "data": {
      "text/plain": [
       "[0.22212029993534088, 0.06956955045461655, 0.052662819623947144]"
      ]
     },
     "execution_count": 38,
     "metadata": {},
     "output_type": "execute_result"
    }
   ],
   "source": [
    "train_loss_values"
   ]
  },
  {
   "cell_type": "code",
   "execution_count": 39,
   "metadata": {},
   "outputs": [
    {
     "data": {
      "text/plain": [
       "[93.01666666666667, 97.89666666666666, 98.41]"
      ]
     },
     "execution_count": 39,
     "metadata": {},
     "output_type": "execute_result"
    }
   ],
   "source": [
    "train_acc_values"
   ]
  },
  {
   "cell_type": "code",
   "execution_count": 40,
   "metadata": {},
   "outputs": [
    {
     "data": {
      "text/plain": [
       "[97.54392971246007, 98.46246006389777, 98.96166134185303]"
      ]
     },
     "execution_count": 40,
     "metadata": {},
     "output_type": "execute_result"
    }
   ],
   "source": [
    "test_acc_values"
   ]
  },
  {
   "cell_type": "code",
   "execution_count": 41,
   "metadata": {},
   "outputs": [
    {
     "data": {
      "text/plain": [
       "[0.08083896338939667, 0.04662838950753212, 0.03566758707165718]"
      ]
     },
     "execution_count": 41,
     "metadata": {},
     "output_type": "execute_result"
    }
   ],
   "source": [
    "test_loss_values"
   ]
  },
  {
   "cell_type": "markdown",
   "metadata": {},
   "source": [
    ">## plotting the loss and acc graph"
   ]
  },
  {
   "cell_type": "code",
   "execution_count": 42,
   "metadata": {},
   "outputs": [],
   "source": [
    "train_results = {\n",
    "    \"train_loss\": train_loss_values,\n",
    "    \"train_acc\": train_acc_values,\n",
    "    \"test_loss\": test_loss_values,\n",
    "    \"test_acc\": test_acc_values\n",
    "}"
   ]
  },
  {
   "cell_type": "code",
   "execution_count": 43,
   "metadata": {},
   "outputs": [
    {
     "data": {
      "image/png": "[encoded data removed]",
      "text/plain": [
       "<Figure size 1500x700 with 2 Axes>"
      ]
     },
     "metadata": {},
     "output_type": "display_data"
    }
   ],
   "source": [
    "helper_functions.plot_loss_curves(train_results)"
   ]
  },
  {
   "cell_type": "code",
   "execution_count": null,
   "metadata": {},
   "outputs": [],
   "source": []
  }
 ],
 "metadata": {
  "kernelspec": {
   "display_name": "Python 3",
   "language": "python",
   "name": "python3"
  },
  "language_info": {
   "codemirror_mode": {
    "name": "ipython",
    "version": 3
   },
   "file_extension": ".py",
   "mimetype": "text/x-python",
   "name": "python",
   "nbconvert_exporter": "python",
   "pygments_lexer": "ipython3",
   "version": "3.11.5"
  },
  "orig_nbformat": 4
 },
 "nbformat": 4,
 "nbformat_minor": 2
}
